{
 "cells": [
  {
   "cell_type": "markdown",
   "metadata": {},
   "source": [
    "### Week 14 Homework: Multiple Linear and Logistic Regression"
   ]
  },
  {
   "cell_type": "markdown",
   "metadata": {},
   "source": [
    "**1) Perform pre-processing on the full dataset here: https://www.kaggle.com/sohier/calcofi**"
   ]
  },
  {
   "cell_type": "code",
   "execution_count": 2,
   "metadata": {},
   "outputs": [
    {
     "name": "stderr",
     "output_type": "stream",
     "text": [
      "/Users/jenniferarbuszewski/opt/anaconda3/lib/python3.8/site-packages/IPython/core/interactiveshell.py:3146: DtypeWarning: Columns (47,73) have mixed types.Specify dtype option on import or set low_memory=False.\n",
      "  has_raised = await self.run_ast_nodes(code_ast.body, cell_name,\n",
      "/Users/jenniferarbuszewski/opt/anaconda3/lib/python3.8/site-packages/IPython/core/interactiveshell.py:3146: DtypeWarning: Columns (40,41,44,45,46,47) have mixed types.Specify dtype option on import or set low_memory=False.\n",
      "  has_raised = await self.run_ast_nodes(code_ast.body, cell_name,\n"
     ]
    },
    {
     "data": {
      "text/html": [
       "<div>\n",
       "<style scoped>\n",
       "    .dataframe tbody tr th:only-of-type {\n",
       "        vertical-align: middle;\n",
       "    }\n",
       "\n",
       "    .dataframe tbody tr th {\n",
       "        vertical-align: top;\n",
       "    }\n",
       "\n",
       "    .dataframe thead th {\n",
       "        text-align: right;\n",
       "    }\n",
       "</style>\n",
       "<table border=\"1\" class=\"dataframe\">\n",
       "  <thead>\n",
       "    <tr style=\"text-align: right;\">\n",
       "      <th></th>\n",
       "      <th>Cst_Cnt</th>\n",
       "      <th>Btl_Cnt</th>\n",
       "      <th>Sta_ID</th>\n",
       "      <th>Depth_ID</th>\n",
       "      <th>Depthm</th>\n",
       "      <th>T_degC</th>\n",
       "      <th>Salnty</th>\n",
       "      <th>O2ml_L</th>\n",
       "      <th>STheta</th>\n",
       "      <th>O2Sat</th>\n",
       "      <th>...</th>\n",
       "      <th>R_PHAEO</th>\n",
       "      <th>R_PRES</th>\n",
       "      <th>R_SAMP</th>\n",
       "      <th>DIC1</th>\n",
       "      <th>DIC2</th>\n",
       "      <th>TA1</th>\n",
       "      <th>TA2</th>\n",
       "      <th>pH2</th>\n",
       "      <th>pH1</th>\n",
       "      <th>DIC Quality Comment</th>\n",
       "    </tr>\n",
       "  </thead>\n",
       "  <tbody>\n",
       "    <tr>\n",
       "      <th>0</th>\n",
       "      <td>1</td>\n",
       "      <td>1</td>\n",
       "      <td>054.0 056.0</td>\n",
       "      <td>19-4903CR-HY-060-0930-05400560-0000A-3</td>\n",
       "      <td>0</td>\n",
       "      <td>10.50</td>\n",
       "      <td>33.440</td>\n",
       "      <td>NaN</td>\n",
       "      <td>25.649</td>\n",
       "      <td>NaN</td>\n",
       "      <td>...</td>\n",
       "      <td>NaN</td>\n",
       "      <td>0</td>\n",
       "      <td>NaN</td>\n",
       "      <td>NaN</td>\n",
       "      <td>NaN</td>\n",
       "      <td>NaN</td>\n",
       "      <td>NaN</td>\n",
       "      <td>NaN</td>\n",
       "      <td>NaN</td>\n",
       "      <td>NaN</td>\n",
       "    </tr>\n",
       "    <tr>\n",
       "      <th>1</th>\n",
       "      <td>1</td>\n",
       "      <td>2</td>\n",
       "      <td>054.0 056.0</td>\n",
       "      <td>19-4903CR-HY-060-0930-05400560-0008A-3</td>\n",
       "      <td>8</td>\n",
       "      <td>10.46</td>\n",
       "      <td>33.440</td>\n",
       "      <td>NaN</td>\n",
       "      <td>25.656</td>\n",
       "      <td>NaN</td>\n",
       "      <td>...</td>\n",
       "      <td>NaN</td>\n",
       "      <td>8</td>\n",
       "      <td>NaN</td>\n",
       "      <td>NaN</td>\n",
       "      <td>NaN</td>\n",
       "      <td>NaN</td>\n",
       "      <td>NaN</td>\n",
       "      <td>NaN</td>\n",
       "      <td>NaN</td>\n",
       "      <td>NaN</td>\n",
       "    </tr>\n",
       "    <tr>\n",
       "      <th>2</th>\n",
       "      <td>1</td>\n",
       "      <td>3</td>\n",
       "      <td>054.0 056.0</td>\n",
       "      <td>19-4903CR-HY-060-0930-05400560-0010A-7</td>\n",
       "      <td>10</td>\n",
       "      <td>10.46</td>\n",
       "      <td>33.437</td>\n",
       "      <td>NaN</td>\n",
       "      <td>25.654</td>\n",
       "      <td>NaN</td>\n",
       "      <td>...</td>\n",
       "      <td>NaN</td>\n",
       "      <td>10</td>\n",
       "      <td>NaN</td>\n",
       "      <td>NaN</td>\n",
       "      <td>NaN</td>\n",
       "      <td>NaN</td>\n",
       "      <td>NaN</td>\n",
       "      <td>NaN</td>\n",
       "      <td>NaN</td>\n",
       "      <td>NaN</td>\n",
       "    </tr>\n",
       "    <tr>\n",
       "      <th>3</th>\n",
       "      <td>1</td>\n",
       "      <td>4</td>\n",
       "      <td>054.0 056.0</td>\n",
       "      <td>19-4903CR-HY-060-0930-05400560-0019A-3</td>\n",
       "      <td>19</td>\n",
       "      <td>10.45</td>\n",
       "      <td>33.420</td>\n",
       "      <td>NaN</td>\n",
       "      <td>25.643</td>\n",
       "      <td>NaN</td>\n",
       "      <td>...</td>\n",
       "      <td>NaN</td>\n",
       "      <td>19</td>\n",
       "      <td>NaN</td>\n",
       "      <td>NaN</td>\n",
       "      <td>NaN</td>\n",
       "      <td>NaN</td>\n",
       "      <td>NaN</td>\n",
       "      <td>NaN</td>\n",
       "      <td>NaN</td>\n",
       "      <td>NaN</td>\n",
       "    </tr>\n",
       "    <tr>\n",
       "      <th>4</th>\n",
       "      <td>1</td>\n",
       "      <td>5</td>\n",
       "      <td>054.0 056.0</td>\n",
       "      <td>19-4903CR-HY-060-0930-05400560-0020A-7</td>\n",
       "      <td>20</td>\n",
       "      <td>10.45</td>\n",
       "      <td>33.421</td>\n",
       "      <td>NaN</td>\n",
       "      <td>25.643</td>\n",
       "      <td>NaN</td>\n",
       "      <td>...</td>\n",
       "      <td>NaN</td>\n",
       "      <td>20</td>\n",
       "      <td>NaN</td>\n",
       "      <td>NaN</td>\n",
       "      <td>NaN</td>\n",
       "      <td>NaN</td>\n",
       "      <td>NaN</td>\n",
       "      <td>NaN</td>\n",
       "      <td>NaN</td>\n",
       "      <td>NaN</td>\n",
       "    </tr>\n",
       "  </tbody>\n",
       "</table>\n",
       "<p>5 rows × 74 columns</p>\n",
       "</div>"
      ],
      "text/plain": [
       "   Cst_Cnt  Btl_Cnt       Sta_ID                                Depth_ID  \\\n",
       "0        1        1  054.0 056.0  19-4903CR-HY-060-0930-05400560-0000A-3   \n",
       "1        1        2  054.0 056.0  19-4903CR-HY-060-0930-05400560-0008A-3   \n",
       "2        1        3  054.0 056.0  19-4903CR-HY-060-0930-05400560-0010A-7   \n",
       "3        1        4  054.0 056.0  19-4903CR-HY-060-0930-05400560-0019A-3   \n",
       "4        1        5  054.0 056.0  19-4903CR-HY-060-0930-05400560-0020A-7   \n",
       "\n",
       "   Depthm  T_degC  Salnty  O2ml_L  STheta  O2Sat  ...  R_PHAEO  R_PRES  \\\n",
       "0       0   10.50  33.440     NaN  25.649    NaN  ...      NaN       0   \n",
       "1       8   10.46  33.440     NaN  25.656    NaN  ...      NaN       8   \n",
       "2      10   10.46  33.437     NaN  25.654    NaN  ...      NaN      10   \n",
       "3      19   10.45  33.420     NaN  25.643    NaN  ...      NaN      19   \n",
       "4      20   10.45  33.421     NaN  25.643    NaN  ...      NaN      20   \n",
       "\n",
       "   R_SAMP  DIC1  DIC2  TA1  TA2  pH2  pH1  DIC Quality Comment  \n",
       "0     NaN   NaN   NaN  NaN  NaN  NaN  NaN                  NaN  \n",
       "1     NaN   NaN   NaN  NaN  NaN  NaN  NaN                  NaN  \n",
       "2     NaN   NaN   NaN  NaN  NaN  NaN  NaN                  NaN  \n",
       "3     NaN   NaN   NaN  NaN  NaN  NaN  NaN                  NaN  \n",
       "4     NaN   NaN   NaN  NaN  NaN  NaN  NaN                  NaN  \n",
       "\n",
       "[5 rows x 74 columns]"
      ]
     },
     "execution_count": 2,
     "metadata": {},
     "output_type": "execute_result"
    }
   ],
   "source": [
    "#importing all the usual things\n",
    "\n",
    "import pandas as pd\n",
    "import matplotlib.pyplot as plt\n",
    "import seaborn as sns\n",
    "import numpy as np\n",
    "import os\n",
    "import plotly.express as px\n",
    "from scipy import signal\n",
    "\n",
    "#loading the data as a dataframe\n",
    "df_bottle = pd.read_csv('bottle.csv')\n",
    "df_cast = pd.read_csv('cast.csv')\n",
    "\n",
    "#looking at the bottle dataframe\n",
    "df_bottle.head()"
   ]
  },
  {
   "cell_type": "markdown",
   "metadata": {},
   "source": [
    "**Preprocessing:** Removing columns with too much missing data"
   ]
  },
  {
   "cell_type": "code",
   "execution_count": 3,
   "metadata": {},
   "outputs": [
    {
     "name": "stdout",
     "output_type": "stream",
     "text": [
      "Cst_Cnt                 0.000000\n",
      "Btl_Cnt                 0.000000\n",
      "Sta_ID                  0.000000\n",
      "Depth_ID                0.000000\n",
      "Depthm                  0.000000\n",
      "                         ...    \n",
      "TA1                    99.759037\n",
      "TA2                    99.972944\n",
      "pH2                    99.998844\n",
      "pH1                    99.990287\n",
      "DIC Quality Comment    99.993641\n",
      "Length: 74, dtype: float64\n",
      "['BtlNum', 'T_qual', 'S_qual', 'O_qual', 'SThtaq', 'NH3uM', 'C14As1', 'C14A1p', 'C14As2', 'C14A2p', 'DarkAs', 'DarkAp', 'MeanAs', 'MeanAp', 'IncTim', 'LightP', 'R_NH4', 'R_SAMP', 'DIC1', 'DIC2', 'TA1', 'TA2', 'pH2', 'pH1', 'DIC Quality Comment']\n",
      "49\n"
     ]
    }
   ],
   "source": [
    "\n",
    "#looking at how many NaNs are present in each column\n",
    "print((df_bottle.isna().sum())/len(df_bottle)*100)\n",
    "\n",
    "#removing columns with more than 75% data missing as they are unlikely to contribute in a meaningful way\n",
    "#to the linear regression model in the following questions.\n",
    "to_drop=[]\n",
    "for col in df_bottle.columns:\n",
    "    if ((df_bottle[col].isna().sum())/len(df_bottle[col])*100) > 75.0:\n",
    "        to_drop.append(col) \n",
    "print(to_drop)\n",
    "\n",
    "#Making a new dataframe without the missing data\n",
    "df_bottle_less_nan = df_bottle.drop(to_drop, axis=1)\n",
    "df_bottle_less_nan\n",
    "\n",
    "\n",
    "#Printing the new dataframe and making sure columns were removed as intended\n",
    "df_bottle_less_nan.head()\n",
    "print(len(df_bottle_less_nan.columns))"
   ]
  },
  {
   "cell_type": "markdown",
   "metadata": {},
   "source": [
    "**Preprocessing:** Removing rows with missing T and/or S data"
   ]
  },
  {
   "cell_type": "code",
   "execution_count": 4,
   "metadata": {},
   "outputs": [
    {
     "name": "stdout",
     "output_type": "stream",
     "text": [
      "(864863, 74)\n",
      "(814247, 49)\n"
     ]
    }
   ],
   "source": [
    "#Dropping rows with NaN values for the T and S columns\n",
    "df_no_nan = df_bottle_less_nan.dropna(subset = [\"T_degC\", \"Salnty\"])\n",
    "\n",
    "\n",
    "#Printing the shape of the original and edited datasets\n",
    "print(df_bottle.shape)\n",
    "print(df_no_nan.shape)"
   ]
  },
  {
   "cell_type": "markdown",
   "metadata": {},
   "source": [
    "**Preprocessing:** Removing derived variables, station and depth ID (important to know somewhere but not for what we are trying to do here), raw variables, and variables unrelated to T (the quantity we wish to predict) such as S_prec, T_prec,..."
   ]
  },
  {
   "cell_type": "code",
   "execution_count": 5,
   "metadata": {},
   "outputs": [
    {
     "name": "stdout",
     "output_type": "stream",
     "text": [
      "(814247, 10)\n"
     ]
    }
   ],
   "source": [
    "df_preprocessed = df_no_nan.drop([\"Cst_Cnt\", \"Btl_Cnt\", \"STheta\", \"O2Sat\", \"O2ml_L\", \"RecInd\", \"P_qual\", \"O2Satq\", \"Phaqua\", \"PO4q\", \"SiO3qu\", \"NO2q\", \"NO3q\",\"C14A1q\", \"C14A2q\", \"MeanAq\", \"R_Depth\", \"R_TEMP\", \"R_POTEMP\", \"R_SALINITY\", \"R_SIGMA\", \"R_O2\", \"R_O2Sat\", \"R_SIO3\", \"R_PO4\", \"R_NO3\", \"R_NO2\", \"R_CHLA\", \"R_PHAEO\", \"R_PRES\", \"R_SVA\", \"R_DYNHT\", \"Chlqua\", \"T_prec\", \"S_prec\", \"Sta_ID\", \"DarkAq\", \"Depth_ID\", \"NH3q\"], axis=1)\n",
    "\n",
    "print(df_preprocessed.shape)"
   ]
  },
  {
   "cell_type": "markdown",
   "metadata": {},
   "source": [
    "**Preprocessing:** Considering and removing outliers"
   ]
  },
  {
   "cell_type": "markdown",
   "metadata": {},
   "source": [
    "Many oceanographic parameters vary with depth. Moving from the mixed layer through the thermocline and into deeper regions will likely see different relationships. By taking out outliers in terms of depth, we should be able to achieve a more representative model. "
   ]
  },
  {
   "cell_type": "code",
   "execution_count": 7,
   "metadata": {},
   "outputs": [
    {
     "name": "stdout",
     "output_type": "stream",
     "text": [
      "Index(['Depthm', 'T_degC', 'Salnty', 'Oxy_µmol/Kg', 'ChlorA', 'Phaeop',\n",
      "       'PO4uM', 'SiO3uM', 'NO2uM', 'NO3uM'],\n",
      "      dtype='object')\n"
     ]
    },
    {
     "data": {
      "image/png": "[encoded data removed]",
      "text/plain": [
       "<Figure size 432x288 with 1 Axes>"
      ]
     },
     "metadata": {
      "needs_background": "light"
     },
     "output_type": "display_data"
    }
   ],
   "source": [
    "print(df_preprocessed.columns)\n",
    "import seaborn as sns\n",
    "ax = sns.boxplot(y=\"Depthm\", data=df_preprocessed)"
   ]
  },
  {
   "cell_type": "code",
   "execution_count": 12,
   "metadata": {},
   "outputs": [
    {
     "name": "stdout",
     "output_type": "stream",
     "text": [
      "Q1 quantile of Depth :  46.0\n",
      "Q3 quantile of Depth :  300.0\n",
      "max depth outlier:  681.0\n"
     ]
    }
   ],
   "source": [
    "Q1_depth = np.quantile(df_preprocessed['Depthm'], .25)\n",
    "Q3_depth = np.quantile(df_preprocessed['Depthm'], .75)\n",
    "IQR_depth = Q3_depth - Q1_depth\n",
    "max_outlier = Q3_depth + 1.5 * IQR_depth\n",
    "\n",
    "print(\"Q1 quantile of Depth : \", Q1_depth)\n",
    "print(\"Q3 quantile of Depth : \", Q3_depth)\n",
    "print('max depth outlier: ', max_outlier)"
   ]
  },
  {
   "cell_type": "code",
   "execution_count": 15,
   "metadata": {},
   "outputs": [
    {
     "data": {
      "text/html": [
       "<div>\n",
       "<style scoped>\n",
       "    .dataframe tbody tr th:only-of-type {\n",
       "        vertical-align: middle;\n",
       "    }\n",
       "\n",
       "    .dataframe tbody tr th {\n",
       "        vertical-align: top;\n",
       "    }\n",
       "\n",
       "    .dataframe thead th {\n",
       "        text-align: right;\n",
       "    }\n",
       "</style>\n",
       "<table border=\"1\" class=\"dataframe\">\n",
       "  <thead>\n",
       "    <tr style=\"text-align: right;\">\n",
       "      <th></th>\n",
       "      <th>Depthm</th>\n",
       "      <th>T_degC</th>\n",
       "      <th>Salnty</th>\n",
       "      <th>Oxy_µmol/Kg</th>\n",
       "      <th>ChlorA</th>\n",
       "      <th>Phaeop</th>\n",
       "      <th>PO4uM</th>\n",
       "      <th>SiO3uM</th>\n",
       "      <th>NO2uM</th>\n",
       "      <th>NO3uM</th>\n",
       "    </tr>\n",
       "  </thead>\n",
       "  <tbody>\n",
       "    <tr>\n",
       "      <th>0</th>\n",
       "      <td>0</td>\n",
       "      <td>10.50</td>\n",
       "      <td>33.440</td>\n",
       "      <td>NaN</td>\n",
       "      <td>NaN</td>\n",
       "      <td>NaN</td>\n",
       "      <td>NaN</td>\n",
       "      <td>NaN</td>\n",
       "      <td>NaN</td>\n",
       "      <td>NaN</td>\n",
       "    </tr>\n",
       "    <tr>\n",
       "      <th>1</th>\n",
       "      <td>8</td>\n",
       "      <td>10.46</td>\n",
       "      <td>33.440</td>\n",
       "      <td>NaN</td>\n",
       "      <td>NaN</td>\n",
       "      <td>NaN</td>\n",
       "      <td>NaN</td>\n",
       "      <td>NaN</td>\n",
       "      <td>NaN</td>\n",
       "      <td>NaN</td>\n",
       "    </tr>\n",
       "    <tr>\n",
       "      <th>2</th>\n",
       "      <td>10</td>\n",
       "      <td>10.46</td>\n",
       "      <td>33.437</td>\n",
       "      <td>NaN</td>\n",
       "      <td>NaN</td>\n",
       "      <td>NaN</td>\n",
       "      <td>NaN</td>\n",
       "      <td>NaN</td>\n",
       "      <td>NaN</td>\n",
       "      <td>NaN</td>\n",
       "    </tr>\n",
       "    <tr>\n",
       "      <th>3</th>\n",
       "      <td>19</td>\n",
       "      <td>10.45</td>\n",
       "      <td>33.420</td>\n",
       "      <td>NaN</td>\n",
       "      <td>NaN</td>\n",
       "      <td>NaN</td>\n",
       "      <td>NaN</td>\n",
       "      <td>NaN</td>\n",
       "      <td>NaN</td>\n",
       "      <td>NaN</td>\n",
       "    </tr>\n",
       "    <tr>\n",
       "      <th>4</th>\n",
       "      <td>20</td>\n",
       "      <td>10.45</td>\n",
       "      <td>33.421</td>\n",
       "      <td>NaN</td>\n",
       "      <td>NaN</td>\n",
       "      <td>NaN</td>\n",
       "      <td>NaN</td>\n",
       "      <td>NaN</td>\n",
       "      <td>NaN</td>\n",
       "      <td>NaN</td>\n",
       "    </tr>\n",
       "  </tbody>\n",
       "</table>\n",
       "</div>"
      ],
      "text/plain": [
       "   Depthm  T_degC  Salnty  Oxy_µmol/Kg  ChlorA  Phaeop  PO4uM  SiO3uM  NO2uM  \\\n",
       "0       0   10.50  33.440          NaN     NaN     NaN    NaN     NaN    NaN   \n",
       "1       8   10.46  33.440          NaN     NaN     NaN    NaN     NaN    NaN   \n",
       "2      10   10.46  33.437          NaN     NaN     NaN    NaN     NaN    NaN   \n",
       "3      19   10.45  33.420          NaN     NaN     NaN    NaN     NaN    NaN   \n",
       "4      20   10.45  33.421          NaN     NaN     NaN    NaN     NaN    NaN   \n",
       "\n",
       "   NO3uM  \n",
       "0    NaN  \n",
       "1    NaN  \n",
       "2    NaN  \n",
       "3    NaN  \n",
       "4    NaN  "
      ]
     },
     "execution_count": 15,
     "metadata": {},
     "output_type": "execute_result"
    }
   ],
   "source": [
    "# Removing all rows with a depth of greater than 681m. There are likely better ways to do this including\n",
    "#considering the depth of the mixed layer where the data/samples were collected. For our purposes, this will suffice.\n",
    "df_preprocessed2 = df_preprocessed [df_preprocessed['Depthm'] < max_outlier]\n",
    "\n",
    "df_preprocessed2.head()"
   ]
  },
  {
   "cell_type": "markdown",
   "metadata": {},
   "source": [
    "**Preprocessing:** Normalizing the data where indicated"
   ]
  },
  {
   "cell_type": "code",
   "execution_count": null,
   "metadata": {},
   "outputs": [],
   "source": []
  },
  {
   "cell_type": "code",
   "execution_count": null,
   "metadata": {},
   "outputs": [],
   "source": []
  },
  {
   "cell_type": "markdown",
   "metadata": {},
   "source": [
    "**2) Perform feature selection (decide what columns should be included in your analysis). How did you figure out what features were important?**"
   ]
  },
  {
   "cell_type": "code",
   "execution_count": 17,
   "metadata": {},
   "outputs": [
    {
     "data": {
      "text/plain": [
       "Index(['Depthm', 'T_degC', 'Salnty', 'Oxy_µmol/Kg', 'ChlorA', 'Phaeop',\n",
       "       'PO4uM', 'SiO3uM', 'NO2uM', 'NO3uM'],\n",
       "      dtype='object')"
      ]
     },
     "execution_count": 17,
     "metadata": {},
     "output_type": "execute_result"
    }
   ],
   "source": [
    "df_preprocessed2.columns\n"
   ]
  },
  {
   "cell_type": "code",
   "execution_count": 18,
   "metadata": {},
   "outputs": [],
   "source": [
    "#Removing rows with missing data for remainder of columns\n",
    "df_preprocessed3 = df_preprocessed2.dropna(subset = [\"Depthm\", \"Oxy_µmol/Kg\", \"ChlorA\", \"Phaeop\", \"PO4uM\", \"SiO3uM\", \"NO2uM\", \"NO3uM\"])\n"
   ]
  },
  {
   "cell_type": "code",
   "execution_count": 7,
   "metadata": {},
   "outputs": [],
   "source": [
    "#Import the modules needed to perform the RFE, SVR, and multivariate linear regression\n",
    "\n",
    "from sklearn.feature_selection import RFE\n",
    "from sklearn.svm import SVR\n",
    "from sklearn.linear_model import LinearRegression"
   ]
  },
  {
   "cell_type": "code",
   "execution_count": null,
   "metadata": {},
   "outputs": [
    {
     "name": "stdout",
     "output_type": "stream",
     "text": [
      "1\n"
     ]
    }
   ],
   "source": [
    "#Set the estimator to linear\n",
    "#estimator = SVR(kernel=\"linear\")\n",
    "\n",
    "#Loop through n values for each column other than X1 to optimize the prediction model \n",
    "#for n in range(1,10):\n",
    "  #  print(n)\n",
    "  #  X = df_preprocessed2.drop(['T_degC'], axis=1)\n",
    "  #  y = df_preprocessed2['T_degC']\n",
    "  #  selector = RFE(estimator, n_features_to_select=n, step=1)\n",
    "   # selector = selector.fit(X, y)\n",
    "    \n",
    "    #print out value of n, booleans, and selector rankings for each value of n\n",
    "   # print(n)\n",
    "   # print(\"Selector Support for:\", selector.support_)\n",
    "   # ranking = selector.ranking_\n",
    "   # print(\"Selector Ranking\", ranking)\n",
    "    \n",
    "    #initialize a list\n",
    "   # selected = []\n",
    "\n",
    "    \n",
    "    #Check each index in the selector ranking to see if it should be included in the multivariate linear regression\n",
    "   # if ranking[0] == 1:\n",
    "     #   selected.append('Depthm')\n",
    "    #if ranking[1] == 1:\n",
    "      #  selected.append('Salnty')\n",
    "    #if ranking[2] == 1:\n",
    "     #   selected.append('Oxy_µmol/Kg')\n",
    "   # if ranking[3] == 1:\n",
    "      #  selected.append('ChlorA')\n",
    "    #if ranking[4] == 1:\n",
    "        #selected.append('Phaeop')\n",
    "   # if ranking[5] == 1:\n",
    "       # selected.append('PO4uM')\n",
    "    #if ranking[6] == 1:\n",
    "      #  selected.append('SiO3uM')\n",
    "    #if ranking[7] == 1:\n",
    "       # selected.append('NO2uM')\n",
    "   # if ranking[8] == 1:\n",
    "       # selected.append('NO3uM')\n",
    "\n",
    "\n",
    "        \n",
    "    #Print list to check that everything is working as expected\n",
    "   # print(selected)\n",
    "    \n",
    "    #Set new X value to include the selected columns from the RFE above\n",
    "    #Xi = df_preprocessed2[selected]\n",
    "    \n",
    "    #Y value doesn't change; we still want to consider the prediction of X1 column\n",
    "   # Y = df_preprocessed2['T_degC']\n",
    "    \n",
    "    #Perform multivariate linear regression based on results from above, including printing accuracy score and \n",
    "    #regression coefficients for each iteration\n",
    "   # regression = LinearRegression()\n",
    "   # regression.fit(Xi,y)\n",
    "   # y_pred = regression.predict(Xi)\n",
    "   # accuracy_score = regression.score(Xi, y)\n",
    "   # print(\"accuracy score:\", accuracy_score)\n",
    "   # print(\"regression coefficients:\", regression.coef_)"
   ]
  },
  {
   "cell_type": "code",
   "execution_count": 19,
   "metadata": {},
   "outputs": [
    {
     "name": "stdout",
     "output_type": "stream",
     "text": [
      "        Depthm   Salnty  Oxy_µmol/Kg  ChlorA  Phaeop  PO4uM  SiO3uM  NO2uM  \\\n",
      "853254       0  33.3622     228.7400   0.074   0.013   0.29    1.76  0.008   \n",
      "839162      75  33.3436     209.8474   0.106   0.091   1.08   10.76  0.030   \n",
      "743270     131  33.2840     229.9337   0.100   0.120   0.95    9.50  0.010   \n",
      "769888      85  33.3120     185.0918   0.100   0.140   1.33   12.30  0.010   \n",
      "843894     121  33.6421     162.7588   0.015   0.020   1.60   20.36  0.021   \n",
      "...        ...      ...          ...     ...     ...    ...     ...    ...   \n",
      "730253      59  33.4260     256.6351   0.290   0.180   0.37    2.50  0.060   \n",
      "702437     199  33.9990     104.8599   0.000   0.040   2.19   35.20  0.020   \n",
      "748018      20  33.5910     249.1764   3.220   0.840   0.70    5.00  0.220   \n",
      "770672      20  33.3770     262.6900   3.810   1.070   0.60    3.60  0.080   \n",
      "733319      31  33.6640     239.6685   0.870   0.310   0.55    5.60  0.060   \n",
      "\n",
      "        NO3uM  \n",
      "853254   0.02  \n",
      "839162  11.90  \n",
      "743270   9.70  \n",
      "769888  14.60  \n",
      "843894  20.60  \n",
      "...       ...  \n",
      "730253   0.40  \n",
      "702437  28.90  \n",
      "748018   5.40  \n",
      "770672   3.80  \n",
      "733319   4.00  \n",
      "\n",
      "[144935 rows x 9 columns]\n",
      "0.001\n",
      "0.9064172790754114\n"
     ]
    },
    {
     "data": {
      "image/png": "[encoded data removed]",
      "text/plain": [
       "<Figure size 432x288 with 1 Axes>"
      ]
     },
     "metadata": {
      "needs_background": "light"
     },
     "output_type": "display_data"
    },
    {
     "name": "stdout",
     "output_type": "stream",
     "text": [
      "0.25\n",
      "0.8649478902350846\n"
     ]
    },
    {
     "data": {
      "image/png": "[encoded data removed]",
      "text/plain": [
       "<Figure size 432x288 with 1 Axes>"
      ]
     },
     "metadata": {
      "needs_background": "light"
     },
     "output_type": "display_data"
    },
    {
     "name": "stdout",
     "output_type": "stream",
     "text": [
      "0.5\n",
      "0.8614928203050032\n"
     ]
    },
    {
     "data": {
      "image/png": "[encoded data removed]",
      "text/plain": [
       "<Figure size 432x288 with 1 Axes>"
      ]
     },
     "metadata": {
      "needs_background": "light"
     },
     "output_type": "display_data"
    },
    {
     "name": "stdout",
     "output_type": "stream",
     "text": [
      "0.75\n",
      "0.8558401738938829\n"
     ]
    },
    {
     "data": {
      "image/png": "[encoded data removed]",
      "text/plain": [
       "<Figure size 432x288 with 1 Axes>"
      ]
     },
     "metadata": {
      "needs_background": "light"
     },
     "output_type": "display_data"
    },
    {
     "name": "stdout",
     "output_type": "stream",
     "text": [
      "1\n",
      "0.8478663470756111\n"
     ]
    },
    {
     "data": {
      "image/png": "[encoded data removed]",
      "text/plain": [
       "<Figure size 432x288 with 1 Axes>"
      ]
     },
     "metadata": {
      "needs_background": "light"
     },
     "output_type": "display_data"
    },
    {
     "name": "stdout",
     "output_type": "stream",
     "text": [
      "3\n",
      "0.7631862050822882\n"
     ]
    },
    {
     "data": {
      "image/png": "[encoded data removed]",
      "text/plain": [
       "<Figure size 432x288 with 1 Axes>"
      ]
     },
     "metadata": {
      "needs_background": "light"
     },
     "output_type": "display_data"
    },
    {
     "name": "stdout",
     "output_type": "stream",
     "text": [
      "5\n",
      "0.6562513136602035\n"
     ]
    },
    {
     "data": {
      "image/png": "[encoded data removed]",
      "text/plain": [
       "<Figure size 432x288 with 1 Axes>"
      ]
     },
     "metadata": {
      "needs_background": "light"
     },
     "output_type": "display_data"
    },
    {
     "name": "stdout",
     "output_type": "stream",
     "text": [
      "accuracy, alpha value 0.6562513136602035 0\n"
     ]
    }
   ],
   "source": [
    "from sklearn.linear_model import Lasso\n",
    "from sklearn import datasets, linear_model\n",
    "from sklearn.metrics import mean_squared_error, r2_score\n",
    "from sklearn.linear_model import LinearRegression\n",
    "from sklearn.model_selection import train_test_split\n",
    "\n",
    "X = df_preprocessed3.drop(['T_degC'], axis=1)\n",
    "\n",
    "y = df_preprocessed3['T_degC']\n",
    "X_train, X_test, y_train, y_test = train_test_split(X,y, test_size=0.3, random_state=42)\n",
    "print(X_train)\n",
    "\n",
    "alpha=0\n",
    "score=0\n",
    "\n",
    "#for n in np.arange(0.1, , 0.05):\n",
    "\n",
    "for n in [0.001, 0.25, 0.5, 0.75, 1, 3, 5]:\n",
    "    print(n)\n",
    "    lasso = Lasso(alpha=n)\n",
    "    lasso.fit(X_train, y_train)\n",
    "    lasso_pred=lasso.predict(X_test)\n",
    "    lasso_score=lasso.score(X_test, y_test)\n",
    "    print(lasso_score)\n",
    "    \n",
    "    names=df_preprocessed3.drop('T_degC', axis=1).columns\n",
    "    lasso_coef=lasso.fit(X_test,y_test).coef_\n",
    "    lasso_plot=plt.plot(range(len(names)),lasso_coef)\n",
    "    lasso_ticks=plt.xticks(range(len(names)), names, rotation=60)\n",
    "    lasso_label=plt.ylabel('coefficients')\n",
    "    plt.show()\n",
    "\n",
    "   # if lasso_score>score:\n",
    "      #  score=lasso_score\n",
    "      #  alpha=n\n",
    "print('accuracy, alpha value', lasso_score, alpha)"
   ]
  },
  {
   "cell_type": "markdown",
   "metadata": {},
   "source": [
    "**Feature selections:**"
   ]
  },
  {
   "cell_type": "markdown",
   "metadata": {},
   "source": [
    "I used both RFE and attempted to use a Lasso regression to identify the most important features. I realized that my understanding of the Lasso regression is truly not in depth enough to use it for feature selection at this time. In the end, I primarily focused on features that appeared to be independent and made sure that I had eliminated any derived variables. "
   ]
  },
  {
   "cell_type": "markdown",
   "metadata": {},
   "source": [
    "**3) Perform multiple linear regression on the dataset. Be sure to display the final resulting equation with the coefficients and intercept in markdown.**"
   ]
  },
  {
   "cell_type": "code",
   "execution_count": 20,
   "metadata": {},
   "outputs": [
    {
     "name": "stdout",
     "output_type": "stream",
     "text": [
      "Intercept   -84.715820\n",
      "Salnty        3.058414\n",
      "PO4uM        -5.047110\n",
      "dtype: float64\n",
      "r^2: 0.8174468787827753\n",
      "r^2 adjusted: 0.8174451153848877\n"
     ]
    }
   ],
   "source": [
    "from statsmodels.formula.api import ols\n",
    "\n",
    "T_multi1 = ols(\"T_degC ~ Salnty + PO4uM \", data=df_preprocessed3).fit()\n",
    "print(T_multi1.params)\n",
    "Salinity_intercept, PO4uM_intercept, slope = T_multi1.params\n",
    "\n",
    "print('r^2:', T_multi1.rsquared)\n",
    "print('r^2 adjusted:', T_multi1.rsquared_adj)\n"
   ]
  },
  {
   "cell_type": "code",
   "execution_count": 21,
   "metadata": {},
   "outputs": [
    {
     "name": "stdout",
     "output_type": "stream",
     "text": [
      "Intercept   -87.722169\n",
      "Salnty        3.151989\n",
      "PO4uM        -4.300920\n",
      "Depthm       -0.011576\n",
      "dtype: float64\n",
      "r^2: 0.8361813271751278\n",
      "r^2 adjusted: 0.8361789535189428\n"
     ]
    }
   ],
   "source": [
    "T_multi2 = ols(\"T_degC ~ Salnty + PO4uM + Depthm \", data=df_preprocessed3).fit()\n",
    "print(T_multi2.params)\n",
    "Salinity_intercept, PO4uM_intercept, Depthm_intercept, slope = T_multi2.params\n",
    "\n",
    "print('r^2:', T_multi2.rsquared)\n",
    "print('r^2 adjusted:', T_multi2.rsquared_adj)\n"
   ]
  },
  {
   "cell_type": "code",
   "execution_count": 22,
   "metadata": {},
   "outputs": [
    {
     "name": "stdout",
     "output_type": "stream",
     "text": [
      "Intercept   -85.796027\n",
      "Salnty        3.098091\n",
      "PO4uM        -5.099236\n",
      "Phaeop       -1.062029\n",
      "dtype: float64\n",
      "r^2: 0.826753837011519\n",
      "r^2 adjusted: 0.8267513267553974\n"
     ]
    }
   ],
   "source": [
    "T_multi3 = ols(\"T_degC ~ Salnty + PO4uM + Phaeop \", data=df_preprocessed3).fit()\n",
    "print(T_multi3.params)\n",
    "Salinity_intercept, PO4uM_intercept, Depthm_intercept, slope = T_multi3.params\n",
    "\n",
    "print('r^2:', T_multi3.rsquared)\n",
    "print('r^2 adjusted:', T_multi3.rsquared_adj)"
   ]
  },
  {
   "cell_type": "code",
   "execution_count": 23,
   "metadata": {},
   "outputs": [
    {
     "name": "stdout",
     "output_type": "stream",
     "text": [
      "Intercept   -80.458234\n",
      "Salnty        2.933850\n",
      "PO4uM        -5.002700\n",
      "NO2uM        -2.292180\n",
      "dtype: float64\n",
      "r^2: 0.822832441472543\n",
      "r^2 adjusted: 0.8228298743972284\n"
     ]
    }
   ],
   "source": [
    "#Previous result showed a decrease in r^2 by including Phaeop so I will leave it out moving forward\n",
    "T_multi4 = ols(\"T_degC ~ Salnty + PO4uM + NO2uM \", data=df_preprocessed3).fit()\n",
    "print(T_multi4.params)\n",
    "\n",
    "Salinity_intercept, PO4uM_intercept, Depthm_intercept, slope = T_multi4.params\n",
    "\n",
    "print('r^2:', T_multi4.rsquared)\n",
    "print('r^2 adjusted:', T_multi4.rsquared_adj)"
   ]
  },
  {
   "cell_type": "code",
   "execution_count": 24,
   "metadata": {},
   "outputs": [
    {
     "name": "stdout",
     "output_type": "stream",
     "text": [
      "Intercept   -96.119124\n",
      "Salnty        3.373250\n",
      "PO4uM        -2.216613\n",
      "NO3uM        -0.192556\n",
      "dtype: float64\n",
      "r^2: 0.8234472559858601\n",
      "r^2 adjusted: 0.8234446978189212\n"
     ]
    }
   ],
   "source": [
    "#Inclusion of NO2uM also showed a decrease in predictive capabilities, so it will be left out moving forward\n",
    "T_multi5 = ols(\"T_degC ~ Salnty + PO4uM + NO3uM \", data=df_preprocessed3).fit()\n",
    "print(T_multi5.params)\n",
    "Salinity_intercept, PO4uM_intercept, Depthm_intercept, slope = T_multi5.params\n",
    "\n",
    "print('r^2:', T_multi5.rsquared)\n",
    "print('r^2 adjusted:', T_multi5.rsquared_adj)"
   ]
  },
  {
   "cell_type": "code",
   "execution_count": 25,
   "metadata": {},
   "outputs": [
    {
     "ename": "PatsyError",
     "evalue": "Error evaluating factor: NameError: name 'Oxy_μmol' is not defined\n    T_degC ~ Salnty + PO4uM + Oxy_µmol/Kg\n                              ^^^^^^^^",
     "output_type": "error",
     "traceback": [
      "\u001b[0;31m---------------------------------------------------------------------------\u001b[0m",
      "\u001b[0;31mNameError\u001b[0m                                 Traceback (most recent call last)",
      "\u001b[0;32m~/opt/anaconda3/lib/python3.8/site-packages/patsy/compat.py\u001b[0m in \u001b[0;36mcall_and_wrap_exc\u001b[0;34m(msg, origin, f, *args, **kwargs)\u001b[0m\n\u001b[1;32m     35\u001b[0m     \u001b[0;32mtry\u001b[0m\u001b[0;34m:\u001b[0m\u001b[0;34m\u001b[0m\u001b[0;34m\u001b[0m\u001b[0m\n\u001b[0;32m---> 36\u001b[0;31m         \u001b[0;32mreturn\u001b[0m \u001b[0mf\u001b[0m\u001b[0;34m(\u001b[0m\u001b[0;34m*\u001b[0m\u001b[0margs\u001b[0m\u001b[0;34m,\u001b[0m \u001b[0;34m**\u001b[0m\u001b[0mkwargs\u001b[0m\u001b[0;34m)\u001b[0m\u001b[0;34m\u001b[0m\u001b[0;34m\u001b[0m\u001b[0m\n\u001b[0m\u001b[1;32m     37\u001b[0m     \u001b[0;32mexcept\u001b[0m \u001b[0mException\u001b[0m \u001b[0;32mas\u001b[0m \u001b[0me\u001b[0m\u001b[0;34m:\u001b[0m\u001b[0;34m\u001b[0m\u001b[0;34m\u001b[0m\u001b[0m\n",
      "\u001b[0;32m~/opt/anaconda3/lib/python3.8/site-packages/patsy/eval.py\u001b[0m in \u001b[0;36meval\u001b[0;34m(self, expr, source_name, inner_namespace)\u001b[0m\n\u001b[1;32m    164\u001b[0m         \u001b[0mcode\u001b[0m \u001b[0;34m=\u001b[0m \u001b[0mcompile\u001b[0m\u001b[0;34m(\u001b[0m\u001b[0mexpr\u001b[0m\u001b[0;34m,\u001b[0m \u001b[0msource_name\u001b[0m\u001b[0;34m,\u001b[0m \u001b[0;34m\"eval\"\u001b[0m\u001b[0;34m,\u001b[0m \u001b[0mself\u001b[0m\u001b[0;34m.\u001b[0m\u001b[0mflags\u001b[0m\u001b[0;34m,\u001b[0m \u001b[0;32mFalse\u001b[0m\u001b[0;34m)\u001b[0m\u001b[0;34m\u001b[0m\u001b[0;34m\u001b[0m\u001b[0m\n\u001b[0;32m--> 165\u001b[0;31m         return eval(code, {}, VarLookupDict([inner_namespace]\n\u001b[0m\u001b[1;32m    166\u001b[0m                                             + self._namespaces))\n",
      "\u001b[0;32m<string>\u001b[0m in \u001b[0;36m<module>\u001b[0;34m\u001b[0m\n",
      "\u001b[0;31mNameError\u001b[0m: name 'Oxy_μmol' is not defined",
      "\nThe above exception was the direct cause of the following exception:\n",
      "\u001b[0;31mPatsyError\u001b[0m                                Traceback (most recent call last)",
      "\u001b[0;32m<ipython-input-25-f6ea82de81cf>\u001b[0m in \u001b[0;36m<module>\u001b[0;34m\u001b[0m\n\u001b[1;32m      1\u001b[0m \u001b[0;31m#Inclusion of NO3uM led to a decrease in predictive capabilities so it will be left out moving forward\u001b[0m\u001b[0;34m\u001b[0m\u001b[0;34m\u001b[0m\u001b[0;34m\u001b[0m\u001b[0m\n\u001b[0;32m----> 2\u001b[0;31m \u001b[0mT_multi6\u001b[0m \u001b[0;34m=\u001b[0m \u001b[0mols\u001b[0m\u001b[0;34m(\u001b[0m\u001b[0;34m\"T_degC ~ Salnty + PO4uM + Oxy_µmol/Kg\"\u001b[0m\u001b[0;34m,\u001b[0m \u001b[0mdata\u001b[0m\u001b[0;34m=\u001b[0m\u001b[0mdf_preprocessed3\u001b[0m\u001b[0;34m)\u001b[0m\u001b[0;34m.\u001b[0m\u001b[0mfit\u001b[0m\u001b[0;34m(\u001b[0m\u001b[0;34m)\u001b[0m\u001b[0;34m\u001b[0m\u001b[0;34m\u001b[0m\u001b[0m\n\u001b[0m\u001b[1;32m      3\u001b[0m \u001b[0mprint\u001b[0m\u001b[0;34m(\u001b[0m\u001b[0mT_multi6\u001b[0m\u001b[0;34m.\u001b[0m\u001b[0mparams\u001b[0m\u001b[0;34m)\u001b[0m\u001b[0;34m\u001b[0m\u001b[0;34m\u001b[0m\u001b[0m\n\u001b[1;32m      4\u001b[0m \u001b[0mSalinity_intercept\u001b[0m\u001b[0;34m,\u001b[0m \u001b[0mPO4uM_intercept\u001b[0m\u001b[0;34m,\u001b[0m \u001b[0mDepthm_intercept\u001b[0m\u001b[0;34m,\u001b[0m \u001b[0mslope\u001b[0m \u001b[0;34m=\u001b[0m \u001b[0mT_multi6\u001b[0m\u001b[0;34m.\u001b[0m\u001b[0mparams\u001b[0m\u001b[0;34m\u001b[0m\u001b[0;34m\u001b[0m\u001b[0m\n\u001b[1;32m      5\u001b[0m \u001b[0;34m\u001b[0m\u001b[0m\n",
      "\u001b[0;32m~/opt/anaconda3/lib/python3.8/site-packages/statsmodels/base/model.py\u001b[0m in \u001b[0;36mfrom_formula\u001b[0;34m(cls, formula, data, subset, drop_cols, *args, **kwargs)\u001b[0m\n\u001b[1;32m    167\u001b[0m             \u001b[0mmissing\u001b[0m \u001b[0;34m=\u001b[0m \u001b[0;34m'raise'\u001b[0m\u001b[0;34m\u001b[0m\u001b[0;34m\u001b[0m\u001b[0m\n\u001b[1;32m    168\u001b[0m \u001b[0;34m\u001b[0m\u001b[0m\n\u001b[0;32m--> 169\u001b[0;31m         tmp = handle_formula_data(data, None, formula, depth=eval_env,\n\u001b[0m\u001b[1;32m    170\u001b[0m                                   missing=missing)\n\u001b[1;32m    171\u001b[0m         \u001b[0;34m(\u001b[0m\u001b[0;34m(\u001b[0m\u001b[0mendog\u001b[0m\u001b[0;34m,\u001b[0m \u001b[0mexog\u001b[0m\u001b[0;34m)\u001b[0m\u001b[0;34m,\u001b[0m \u001b[0mmissing_idx\u001b[0m\u001b[0;34m,\u001b[0m \u001b[0mdesign_info\u001b[0m\u001b[0;34m)\u001b[0m \u001b[0;34m=\u001b[0m \u001b[0mtmp\u001b[0m\u001b[0;34m\u001b[0m\u001b[0;34m\u001b[0m\u001b[0m\n",
      "\u001b[0;32m~/opt/anaconda3/lib/python3.8/site-packages/statsmodels/formula/formulatools.py\u001b[0m in \u001b[0;36mhandle_formula_data\u001b[0;34m(Y, X, formula, depth, missing)\u001b[0m\n\u001b[1;32m     61\u001b[0m     \u001b[0;32melse\u001b[0m\u001b[0;34m:\u001b[0m\u001b[0;34m\u001b[0m\u001b[0;34m\u001b[0m\u001b[0m\n\u001b[1;32m     62\u001b[0m         \u001b[0;32mif\u001b[0m \u001b[0mdata_util\u001b[0m\u001b[0;34m.\u001b[0m\u001b[0m_is_using_pandas\u001b[0m\u001b[0;34m(\u001b[0m\u001b[0mY\u001b[0m\u001b[0;34m,\u001b[0m \u001b[0;32mNone\u001b[0m\u001b[0;34m)\u001b[0m\u001b[0;34m:\u001b[0m\u001b[0;34m\u001b[0m\u001b[0;34m\u001b[0m\u001b[0m\n\u001b[0;32m---> 63\u001b[0;31m             result = dmatrices(formula, Y, depth, return_type='dataframe',\n\u001b[0m\u001b[1;32m     64\u001b[0m                                NA_action=na_action)\n\u001b[1;32m     65\u001b[0m         \u001b[0;32melse\u001b[0m\u001b[0;34m:\u001b[0m\u001b[0;34m\u001b[0m\u001b[0;34m\u001b[0m\u001b[0m\n",
      "\u001b[0;32m~/opt/anaconda3/lib/python3.8/site-packages/patsy/highlevel.py\u001b[0m in \u001b[0;36mdmatrices\u001b[0;34m(formula_like, data, eval_env, NA_action, return_type)\u001b[0m\n\u001b[1;32m    307\u001b[0m     \"\"\"\n\u001b[1;32m    308\u001b[0m     \u001b[0meval_env\u001b[0m \u001b[0;34m=\u001b[0m \u001b[0mEvalEnvironment\u001b[0m\u001b[0;34m.\u001b[0m\u001b[0mcapture\u001b[0m\u001b[0;34m(\u001b[0m\u001b[0meval_env\u001b[0m\u001b[0;34m,\u001b[0m \u001b[0mreference\u001b[0m\u001b[0;34m=\u001b[0m\u001b[0;36m1\u001b[0m\u001b[0;34m)\u001b[0m\u001b[0;34m\u001b[0m\u001b[0;34m\u001b[0m\u001b[0m\n\u001b[0;32m--> 309\u001b[0;31m     (lhs, rhs) = _do_highlevel_design(formula_like, data, eval_env,\n\u001b[0m\u001b[1;32m    310\u001b[0m                                       NA_action, return_type)\n\u001b[1;32m    311\u001b[0m     \u001b[0;32mif\u001b[0m \u001b[0mlhs\u001b[0m\u001b[0;34m.\u001b[0m\u001b[0mshape\u001b[0m\u001b[0;34m[\u001b[0m\u001b[0;36m1\u001b[0m\u001b[0;34m]\u001b[0m \u001b[0;34m==\u001b[0m \u001b[0;36m0\u001b[0m\u001b[0;34m:\u001b[0m\u001b[0;34m\u001b[0m\u001b[0;34m\u001b[0m\u001b[0m\n",
      "\u001b[0;32m~/opt/anaconda3/lib/python3.8/site-packages/patsy/highlevel.py\u001b[0m in \u001b[0;36m_do_highlevel_design\u001b[0;34m(formula_like, data, eval_env, NA_action, return_type)\u001b[0m\n\u001b[1;32m    162\u001b[0m     \u001b[0;32mdef\u001b[0m \u001b[0mdata_iter_maker\u001b[0m\u001b[0;34m(\u001b[0m\u001b[0;34m)\u001b[0m\u001b[0;34m:\u001b[0m\u001b[0;34m\u001b[0m\u001b[0;34m\u001b[0m\u001b[0m\n\u001b[1;32m    163\u001b[0m         \u001b[0;32mreturn\u001b[0m \u001b[0miter\u001b[0m\u001b[0;34m(\u001b[0m\u001b[0;34m[\u001b[0m\u001b[0mdata\u001b[0m\u001b[0;34m]\u001b[0m\u001b[0;34m)\u001b[0m\u001b[0;34m\u001b[0m\u001b[0;34m\u001b[0m\u001b[0m\n\u001b[0;32m--> 164\u001b[0;31m     design_infos = _try_incr_builders(formula_like, data_iter_maker, eval_env,\n\u001b[0m\u001b[1;32m    165\u001b[0m                                       NA_action)\n\u001b[1;32m    166\u001b[0m     \u001b[0;32mif\u001b[0m \u001b[0mdesign_infos\u001b[0m \u001b[0;32mis\u001b[0m \u001b[0;32mnot\u001b[0m \u001b[0;32mNone\u001b[0m\u001b[0;34m:\u001b[0m\u001b[0;34m\u001b[0m\u001b[0;34m\u001b[0m\u001b[0m\n",
      "\u001b[0;32m~/opt/anaconda3/lib/python3.8/site-packages/patsy/highlevel.py\u001b[0m in \u001b[0;36m_try_incr_builders\u001b[0;34m(formula_like, data_iter_maker, eval_env, NA_action)\u001b[0m\n\u001b[1;32m     64\u001b[0m     \u001b[0;32mif\u001b[0m \u001b[0misinstance\u001b[0m\u001b[0;34m(\u001b[0m\u001b[0mformula_like\u001b[0m\u001b[0;34m,\u001b[0m \u001b[0mModelDesc\u001b[0m\u001b[0;34m)\u001b[0m\u001b[0;34m:\u001b[0m\u001b[0;34m\u001b[0m\u001b[0;34m\u001b[0m\u001b[0m\n\u001b[1;32m     65\u001b[0m         \u001b[0;32massert\u001b[0m \u001b[0misinstance\u001b[0m\u001b[0;34m(\u001b[0m\u001b[0meval_env\u001b[0m\u001b[0;34m,\u001b[0m \u001b[0mEvalEnvironment\u001b[0m\u001b[0;34m)\u001b[0m\u001b[0;34m\u001b[0m\u001b[0;34m\u001b[0m\u001b[0m\n\u001b[0;32m---> 66\u001b[0;31m         return design_matrix_builders([formula_like.lhs_termlist,\n\u001b[0m\u001b[1;32m     67\u001b[0m                                        formula_like.rhs_termlist],\n\u001b[1;32m     68\u001b[0m                                       \u001b[0mdata_iter_maker\u001b[0m\u001b[0;34m,\u001b[0m\u001b[0;34m\u001b[0m\u001b[0;34m\u001b[0m\u001b[0m\n",
      "\u001b[0;32m~/opt/anaconda3/lib/python3.8/site-packages/patsy/build.py\u001b[0m in \u001b[0;36mdesign_matrix_builders\u001b[0;34m(termlists, data_iter_maker, eval_env, NA_action)\u001b[0m\n\u001b[1;32m    691\u001b[0m     \u001b[0;31m# on some data to find out what type of data they return.\u001b[0m\u001b[0;34m\u001b[0m\u001b[0;34m\u001b[0m\u001b[0;34m\u001b[0m\u001b[0m\n\u001b[1;32m    692\u001b[0m     (num_column_counts,\n\u001b[0;32m--> 693\u001b[0;31m      \u001b[0mcat_levels_contrasts\u001b[0m\u001b[0;34m)\u001b[0m \u001b[0;34m=\u001b[0m \u001b[0m_examine_factor_types\u001b[0m\u001b[0;34m(\u001b[0m\u001b[0mall_factors\u001b[0m\u001b[0;34m,\u001b[0m\u001b[0;34m\u001b[0m\u001b[0;34m\u001b[0m\u001b[0m\n\u001b[0m\u001b[1;32m    694\u001b[0m                                                    \u001b[0mfactor_states\u001b[0m\u001b[0;34m,\u001b[0m\u001b[0;34m\u001b[0m\u001b[0;34m\u001b[0m\u001b[0m\n\u001b[1;32m    695\u001b[0m                                                    \u001b[0mdata_iter_maker\u001b[0m\u001b[0;34m,\u001b[0m\u001b[0;34m\u001b[0m\u001b[0;34m\u001b[0m\u001b[0m\n",
      "\u001b[0;32m~/opt/anaconda3/lib/python3.8/site-packages/patsy/build.py\u001b[0m in \u001b[0;36m_examine_factor_types\u001b[0;34m(factors, factor_states, data_iter_maker, NA_action)\u001b[0m\n\u001b[1;32m    441\u001b[0m     \u001b[0;32mfor\u001b[0m \u001b[0mdata\u001b[0m \u001b[0;32min\u001b[0m \u001b[0mdata_iter_maker\u001b[0m\u001b[0;34m(\u001b[0m\u001b[0;34m)\u001b[0m\u001b[0;34m:\u001b[0m\u001b[0;34m\u001b[0m\u001b[0;34m\u001b[0m\u001b[0m\n\u001b[1;32m    442\u001b[0m         \u001b[0;32mfor\u001b[0m \u001b[0mfactor\u001b[0m \u001b[0;32min\u001b[0m \u001b[0mlist\u001b[0m\u001b[0;34m(\u001b[0m\u001b[0mexamine_needed\u001b[0m\u001b[0;34m)\u001b[0m\u001b[0;34m:\u001b[0m\u001b[0;34m\u001b[0m\u001b[0;34m\u001b[0m\u001b[0m\n\u001b[0;32m--> 443\u001b[0;31m             \u001b[0mvalue\u001b[0m \u001b[0;34m=\u001b[0m \u001b[0mfactor\u001b[0m\u001b[0;34m.\u001b[0m\u001b[0meval\u001b[0m\u001b[0;34m(\u001b[0m\u001b[0mfactor_states\u001b[0m\u001b[0;34m[\u001b[0m\u001b[0mfactor\u001b[0m\u001b[0;34m]\u001b[0m\u001b[0;34m,\u001b[0m \u001b[0mdata\u001b[0m\u001b[0;34m)\u001b[0m\u001b[0;34m\u001b[0m\u001b[0;34m\u001b[0m\u001b[0m\n\u001b[0m\u001b[1;32m    444\u001b[0m             \u001b[0;32mif\u001b[0m \u001b[0mfactor\u001b[0m \u001b[0;32min\u001b[0m \u001b[0mcat_sniffers\u001b[0m \u001b[0;32mor\u001b[0m \u001b[0mguess_categorical\u001b[0m\u001b[0;34m(\u001b[0m\u001b[0mvalue\u001b[0m\u001b[0;34m)\u001b[0m\u001b[0;34m:\u001b[0m\u001b[0;34m\u001b[0m\u001b[0;34m\u001b[0m\u001b[0m\n\u001b[1;32m    445\u001b[0m                 \u001b[0;32mif\u001b[0m \u001b[0mfactor\u001b[0m \u001b[0;32mnot\u001b[0m \u001b[0;32min\u001b[0m \u001b[0mcat_sniffers\u001b[0m\u001b[0;34m:\u001b[0m\u001b[0;34m\u001b[0m\u001b[0;34m\u001b[0m\u001b[0m\n",
      "\u001b[0;32m~/opt/anaconda3/lib/python3.8/site-packages/patsy/eval.py\u001b[0m in \u001b[0;36meval\u001b[0;34m(self, memorize_state, data)\u001b[0m\n\u001b[1;32m    562\u001b[0m \u001b[0;34m\u001b[0m\u001b[0m\n\u001b[1;32m    563\u001b[0m     \u001b[0;32mdef\u001b[0m \u001b[0meval\u001b[0m\u001b[0;34m(\u001b[0m\u001b[0mself\u001b[0m\u001b[0;34m,\u001b[0m \u001b[0mmemorize_state\u001b[0m\u001b[0;34m,\u001b[0m \u001b[0mdata\u001b[0m\u001b[0;34m)\u001b[0m\u001b[0;34m:\u001b[0m\u001b[0;34m\u001b[0m\u001b[0;34m\u001b[0m\u001b[0m\n\u001b[0;32m--> 564\u001b[0;31m         return self._eval(memorize_state[\"eval_code\"],\n\u001b[0m\u001b[1;32m    565\u001b[0m                           \u001b[0mmemorize_state\u001b[0m\u001b[0;34m,\u001b[0m\u001b[0;34m\u001b[0m\u001b[0;34m\u001b[0m\u001b[0m\n\u001b[1;32m    566\u001b[0m                           data)\n",
      "\u001b[0;32m~/opt/anaconda3/lib/python3.8/site-packages/patsy/eval.py\u001b[0m in \u001b[0;36m_eval\u001b[0;34m(self, code, memorize_state, data)\u001b[0m\n\u001b[1;32m    545\u001b[0m     \u001b[0;32mdef\u001b[0m \u001b[0m_eval\u001b[0m\u001b[0;34m(\u001b[0m\u001b[0mself\u001b[0m\u001b[0;34m,\u001b[0m \u001b[0mcode\u001b[0m\u001b[0;34m,\u001b[0m \u001b[0mmemorize_state\u001b[0m\u001b[0;34m,\u001b[0m \u001b[0mdata\u001b[0m\u001b[0;34m)\u001b[0m\u001b[0;34m:\u001b[0m\u001b[0;34m\u001b[0m\u001b[0;34m\u001b[0m\u001b[0m\n\u001b[1;32m    546\u001b[0m         \u001b[0minner_namespace\u001b[0m \u001b[0;34m=\u001b[0m \u001b[0mVarLookupDict\u001b[0m\u001b[0;34m(\u001b[0m\u001b[0;34m[\u001b[0m\u001b[0mdata\u001b[0m\u001b[0;34m,\u001b[0m \u001b[0mmemorize_state\u001b[0m\u001b[0;34m[\u001b[0m\u001b[0;34m\"transforms\"\u001b[0m\u001b[0;34m]\u001b[0m\u001b[0;34m]\u001b[0m\u001b[0;34m)\u001b[0m\u001b[0;34m\u001b[0m\u001b[0;34m\u001b[0m\u001b[0m\n\u001b[0;32m--> 547\u001b[0;31m         return call_and_wrap_exc(\"Error evaluating factor\",\n\u001b[0m\u001b[1;32m    548\u001b[0m                                  \u001b[0mself\u001b[0m\u001b[0;34m,\u001b[0m\u001b[0;34m\u001b[0m\u001b[0;34m\u001b[0m\u001b[0m\n\u001b[1;32m    549\u001b[0m                                  \u001b[0mmemorize_state\u001b[0m\u001b[0;34m[\u001b[0m\u001b[0;34m\"eval_env\"\u001b[0m\u001b[0;34m]\u001b[0m\u001b[0;34m.\u001b[0m\u001b[0meval\u001b[0m\u001b[0;34m,\u001b[0m\u001b[0;34m\u001b[0m\u001b[0;34m\u001b[0m\u001b[0m\n",
      "\u001b[0;32m~/opt/anaconda3/lib/python3.8/site-packages/patsy/compat.py\u001b[0m in \u001b[0;36mcall_and_wrap_exc\u001b[0;34m(msg, origin, f, *args, **kwargs)\u001b[0m\n\u001b[1;32m     41\u001b[0m                                  origin)\n\u001b[1;32m     42\u001b[0m             \u001b[0;31m# Use 'exec' to hide this syntax from the Python 2 parser:\u001b[0m\u001b[0;34m\u001b[0m\u001b[0;34m\u001b[0m\u001b[0;34m\u001b[0m\u001b[0m\n\u001b[0;32m---> 43\u001b[0;31m             \u001b[0mexec\u001b[0m\u001b[0;34m(\u001b[0m\u001b[0;34m\"raise new_exc from e\"\u001b[0m\u001b[0;34m)\u001b[0m\u001b[0;34m\u001b[0m\u001b[0;34m\u001b[0m\u001b[0m\n\u001b[0m\u001b[1;32m     44\u001b[0m         \u001b[0;32melse\u001b[0m\u001b[0;34m:\u001b[0m\u001b[0;34m\u001b[0m\u001b[0;34m\u001b[0m\u001b[0m\n\u001b[1;32m     45\u001b[0m             \u001b[0;31m# In python 2, we just let the original exception escape -- better\u001b[0m\u001b[0;34m\u001b[0m\u001b[0;34m\u001b[0m\u001b[0;34m\u001b[0m\u001b[0m\n",
      "\u001b[0;32m~/opt/anaconda3/lib/python3.8/site-packages/patsy/compat.py\u001b[0m in \u001b[0;36m<module>\u001b[0;34m\u001b[0m\n",
      "\u001b[0;31mPatsyError\u001b[0m: Error evaluating factor: NameError: name 'Oxy_μmol' is not defined\n    T_degC ~ Salnty + PO4uM + Oxy_µmol/Kg\n                              ^^^^^^^^"
     ]
    }
   ],
   "source": [
    "#Inclusion of NO3uM led to a decrease in predictive capabilities so it will be left out moving forward\n",
    "T_multi6 = ols(\"T_degC ~ Salnty + PO4uM + Oxy_µmol/Kg\", data=df_preprocessed3).fit()\n",
    "print(T_multi6.params)\n",
    "Salinity_intercept, PO4uM_intercept, Depthm_intercept, slope = T_multi6.params\n",
    "\n",
    "print('r^2:', T_multi6.rsquared)\n",
    "print('r^2 adjusted:', T_multi6.rsquared_adj)"
   ]
  },
  {
   "cell_type": "code",
   "execution_count": 26,
   "metadata": {},
   "outputs": [
    {
     "name": "stdout",
     "output_type": "stream",
     "text": [
      "Intercept   -87.722169\n",
      "Salnty        3.151989\n",
      "PO4uM        -4.300920\n",
      "Depthm       -0.011576\n",
      "dtype: float64\n",
      "r^2: 0.8361813271751278\n",
      "r^2 adjusted: 0.8361789535189428\n"
     ]
    }
   ],
   "source": [
    "T_multi7 = ols(\"T_degC ~ Salnty + PO4uM + Depthm\", data=df_preprocessed3).fit()\n",
    "print(T_multi7.params)\n",
    "Salinity_intercept, PO4_intercept, Depthm_intercept, slope = T_multi7.params\n",
    "\n",
    "print('r^2:', T_multi7.rsquared)\n",
    "print('r^2 adjusted:', T_multi7.rsquared_adj)"
   ]
  },
  {
   "cell_type": "code",
   "execution_count": 28,
   "metadata": {},
   "outputs": [
    {
     "name": "stdout",
     "output_type": "stream",
     "text": [
      "Intercept    46.220970\n",
      "Salnty       -0.912028\n",
      "Depthm       -0.037694\n",
      "dtype: float64\n",
      "r^2: 0.5925423564967718\n",
      "r^2 adjusted: 0.5925384206016031\n"
     ]
    }
   ],
   "source": [
    "T_multi8 = ols(\"T_degC ~ Salnty + Depthm\", data=df_preprocessed3).fit()\n",
    "print(T_multi8.params)\n",
    "Salinity_intercept, Depthm_intercept, slope = T_multi8.params\n",
    "\n",
    "print('r^2:', T_multi8.rsquared)\n",
    "print('r^2 adjusted:', T_multi8.rsquared_adj)"
   ]
  },
  {
   "cell_type": "markdown",
   "metadata": {},
   "source": [
    "**4) Which regression approach had the “best” performance? Be sure to compare it to what you did last week.**"
   ]
  },
  {
   "cell_type": "markdown",
   "metadata": {},
   "source": [
    "The multivariate regressions performed significantly better. The r^2 values from last week were pretty low (~0.32) whereas the values from the multivariate regression performed this week resulted in a peak r^2 value of about 0.84 using depth, salinity, and phosphate as predictor features for water temperature."
   ]
  },
  {
   "cell_type": "markdown",
   "metadata": {},
   "source": [
    "**Formula:**"
   ]
  },
  {
   "cell_type": "markdown",
   "metadata": {},
   "source": [
    "Temperature = 3.152989 * Salinity -4.300920 * PO4 - 0.011576 * Depth - 87.722169"
   ]
  },
  {
   "cell_type": "markdown",
   "metadata": {},
   "source": [
    "**5) Work with the diabetes dataset to perform multiple logistic regression. Look at the documentation for logistic regression in statsmodel and/or sklearn and see if you can tune the model performance based on available parameters. Please note: data scientists need to constantly learn new approaches to optimizing models. This is one way of doing that.** \n",
    "\n"
   ]
  },
  {
   "cell_type": "code",
   "execution_count": 43,
   "metadata": {},
   "outputs": [
    {
     "name": "stdout",
     "output_type": "stream",
     "text": [
      "Pregnancies                 0\n",
      "Glucose                     0\n",
      "BloodPressure               0\n",
      "SkinThickness               0\n",
      "Insulin                     0\n",
      "BMI                         0\n",
      "DiabetesPedigreeFunction    0\n",
      "Age                         0\n",
      "Outcome                     0\n",
      "dtype: int64\n",
      "Index(['Pregnancies', 'Glucose', 'BloodPressure', 'SkinThickness', 'Insulin',\n",
      "       'BMI', 'DiabetesPedigreeFunction', 'Age', 'Outcome'],\n",
      "      dtype='object')\n"
     ]
    }
   ],
   "source": [
    "#loading the data as a dataframe\n",
    "df_diabetes = pd.read_csv('diabetes.csv')\n",
    "\n",
    "df_diabetes.head(3)\n",
    "\n",
    "df_diabetes.describe\n",
    "\n",
    "print(df_diabetes.isna().sum())\n",
    "\n",
    "print(df_diabetes.columns)"
   ]
  },
  {
   "cell_type": "markdown",
   "metadata": {},
   "source": [
    "**Multiple Logistic Regression**"
   ]
  },
  {
   "cell_type": "code",
   "execution_count": 57,
   "metadata": {},
   "outputs": [],
   "source": [
    "# import the class\n",
    "#from sklearn.linear_model import LogisticRegression\n",
    "\n",
    "#Setting up the test and training dataset\n",
    "#X = df_diabetes.drop(['Outcome'], axis=1)\n",
    "#y = df_diabetes['Outcome']\n",
    "#X_train, X_test, y_train, y_test = train_test_split(X,y, test_size=0.3, random_state=42)\n",
    "#print(len(X_train), len(y_train))\n",
    "\n",
    "\n",
    "# instantiating the model \n",
    "#logreg = LogisticRegression()\n",
    "\n",
    "#Fitting the model to the training datset\n",
    "#logreg.fit(X_train,y_train)\n",
    "#model = LogisticRegression(random_state=7).fit(X_train, y_train)\n",
    "#preds = model1.predict(X_test)\n",
    "\n",
    "\n",
    "#Getting predictions from the test dataset\n",
    "#y_pred=logreg.predict(X_test)"
   ]
  },
  {
   "cell_type": "code",
   "execution_count": 59,
   "metadata": {},
   "outputs": [
    {
     "name": "stdout",
     "output_type": "stream",
     "text": [
      "0.3489583333333333\n",
      "              precision    recall  f1-score   support\n",
      "\n",
      "           0       0.75      0.82      0.78       100\n",
      "           1       0.60      0.50      0.55        54\n",
      "\n",
      "    accuracy                           0.71       154\n",
      "   macro avg       0.68      0.66      0.67       154\n",
      "weighted avg       0.70      0.71      0.70       154\n",
      "\n"
     ]
    },
    {
     "data": {
      "image/png": "[encoded data removed]",
      "text/plain": [
       "<Figure size 432x288 with 2 Axes>"
      ]
     },
     "metadata": {
      "needs_background": "light"
     },
     "output_type": "display_data"
    }
   ],
   "source": [
    "from sklearn.linear_model import LogisticRegression\n",
    "from sklearn.model_selection import train_test_split\n",
    "from sklearn.preprocessing import StandardScaler\n",
    "\n",
    "X = df_diabetes.drop('Outcome', axis=1)\n",
    "y = df_diabetes['Outcome']\n",
    "\n",
    "# Split into training and test set\n",
    "X_train, X_test, y_train, y_test = train_test_split(X, y, test_size = 0.2, random_state=42, stratify=y)\n",
    "\n",
    "#Standardize\n",
    "sc= StandardScaler()\n",
    "X_train=sc.fit_transform(X_train)\n",
    "X_test=sc.fit_transform(X_test)\n",
    "\n",
    "#Simplest logistic regression approach\n",
    "clf = LogisticRegression(random_state=0).fit(X_train, y_train)\n",
    "sample_pred=[[6,148,72,35,0,33.6,0.627,50]]\n",
    "y_predicted = clf.predict(X_test)\n",
    "\n",
    "print(clf.score(X,y))\n",
    "\n",
    "import seaborn as sns\n",
    "from sklearn.metrics import confusion_matrix, plot_confusion_matrix, classification_report\n",
    "\n",
    "print(classification_report(y_test, y_predicted))\n",
    "\n",
    "conf_matrix = confusion_matrix(y_test, y_predicted)\n",
    "\n",
    "plot_confusion_matrix(clf, X_test, y_test)  \n",
    "plt.show() "
   ]
  },
  {
   "cell_type": "code",
   "execution_count": 69,
   "metadata": {},
   "outputs": [
    {
     "name": "stdout",
     "output_type": "stream",
     "text": [
      "0.3489583333333333\n",
      "              precision    recall  f1-score   support\n",
      "\n",
      "           0       0.83      0.74      0.78       100\n",
      "           1       0.60      0.72      0.66        54\n",
      "\n",
      "    accuracy                           0.73       154\n",
      "   macro avg       0.72      0.73      0.72       154\n",
      "weighted avg       0.75      0.73      0.74       154\n",
      "\n"
     ]
    },
    {
     "data": {
      "image/png": "[encoded data removed]",
      "text/plain": [
       "<Figure size 432x288 with 2 Axes>"
      ]
     },
     "metadata": {
      "needs_background": "light"
     },
     "output_type": "display_data"
    }
   ],
   "source": [
    "\n",
    "\n",
    "X = df_diabetes.drop('Outcome', axis=1)\n",
    "y= df_diabetes['Outcome']\n",
    "\n",
    "# Split into training and test set\n",
    "X_train, X_test, y_train, y_test = train_test_split(X, y, test_size = 0.2, random_state=42, stratify=y)\n",
    "\n",
    "#Standardize\n",
    "sc= StandardScaler()\n",
    "X_train=sc.fit_transform(X_train)\n",
    "X_test=sc.fit_transform(X_test)\n",
    "\n",
    "#Tuning the model to try to improve predictive capabilities:\n",
    "#Here changing the penalty and class_weight\n",
    "\n",
    "#Simplest logistic regression approach\n",
    "clft = LogisticRegression(penalty='l2', C=100, class_weight='balanced', random_state=0).fit(X_train, y_train)\n",
    "sample_pred=[[6,148,72,35,0,33.6,0.627,50]]\n",
    "y_predicted = clft.predict(X_test)\n",
    "\n",
    "#rd = lm.LogisticRegression(penalty='l2', dual=True, tol=0.0001, \n",
    "                           #C=1, fit_intercept=True, intercept_scaling=1.0, \n",
    "                           #class_weight=None, random_state=None)\n",
    "\n",
    "print(clf.score(X,y))\n",
    "\n",
    "import seaborn as sns\n",
    "from sklearn.metrics import confusion_matrix, plot_confusion_matrix, classification_report\n",
    "\n",
    "print(classification_report(y_test, y_predicted))\n",
    "\n",
    "conf_matrixt = confusion_matrix(y_test, y_predicted)\n",
    "\n",
    "plot_confusion_matrix(clft, X_test, y_test)  \n",
    "plt.show() \n",
    "\n",
    "#imposing penalty of l2 does not appear to have any impact nor does changing value to none"
   ]
  },
  {
   "cell_type": "code",
   "execution_count": null,
   "metadata": {},
   "outputs": [],
   "source": []
  },
  {
   "cell_type": "markdown",
   "metadata": {},
   "source": [
    "**6) What are the other ways to assess the performance of the model besides accuracy? What approach makes the most sense with the diabetes dataset? Why?**\n",
    "\n"
   ]
  },
  {
   "cell_type": "markdown",
   "metadata": {},
   "source": [
    "**Confusion Matrix:** identifies array of                    **predicted false** **predicted true**\n",
    "                                      **actual false** \n",
    "                                      **actual true**\n",
    "                                      \n",
    "                                      \n",
    "**Precision:** identifies how often the model makes a correct prediction\n",
    "\n",
    "\n",
    "**Recall:** identifies how often the positive cases are identified (true positives/(true positives + false negatives))\n",
    "\n",
    "\n",
    "**F1 Score:** a weighted average of precision and recall with values from 0-1; a score close to 1 is desired\n",
    "\n",
    "\n",
    "For diabetes, we would likely focus on the recall metric. For a disease, it is important to capture as many positive cases as possible to provide appropriate treatment. Recall is going to give us that."
   ]
  },
  {
   "cell_type": "markdown",
   "metadata": {},
   "source": [
    "**7) Is the KNN model or the multiple logistic regression model more performant for the diabetes dataset? How can you tell?**"
   ]
  },
  {
   "cell_type": "code",
   "execution_count": 56,
   "metadata": {},
   "outputs": [
    {
     "name": "stdout",
     "output_type": "stream",
     "text": [
      "[1 0 0 0 0 0 0 1 0 1 0 1 0 0 0 1 1 0 1 0 0 1 0 1 0 0 1 0 1 0 0 0 0 0 1 0 0\n",
      " 0 1 0 1 0 0 0 0 0 0 0 0 1 0 1 0 0 0 0 1 0 1 0 1 0 0 1 0 0 1 0 0 0 0 0 0 1\n",
      " 0 0 0 1 0 0 0 0 0 0 0 0 1 0 0 0 1 1 0 0 0 1 0 1 1 0 0 0 0 0 1 0 1 0 1 0 0\n",
      " 1 1 0 0 0 1 0 1 0 1 0 0 1 0 1 0 0 0 0 0 0 0 1 1 0 0 0 0 0 0 0 0 0 0 0 1 0\n",
      " 0 0 0 0 1 0]\n",
      "0.7727272727272727\n",
      "accuracy, k value 0.7337662337662337 12\n",
      "[[88 12]\n",
      " [29 25]]\n",
      "              precision    recall  f1-score   support\n",
      "\n",
      "           0       0.75      0.88      0.81       100\n",
      "           1       0.68      0.46      0.55        54\n",
      "\n",
      "    accuracy                           0.73       154\n",
      "   macro avg       0.71      0.67      0.68       154\n",
      "weighted avg       0.73      0.73      0.72       154\n",
      "\n"
     ]
    }
   ],
   "source": [
    "\n",
    "from sklearn.neighbors import KNeighborsClassifier\n",
    "\n",
    "\n",
    "diabetes_df = pd.read_csv(\"diabetes.csv\")\n",
    "# Create feature and target arrays\n",
    "X = diabetes_df.drop('Outcome', axis=1)\n",
    "y = diabetes_df['Outcome']\n",
    "# Split into training and test set\n",
    "X_train, X_test, y_train, y_test = train_test_split(X, y, test_size = 0.2, random_state=42, stratify=y)\n",
    "#Standardize\n",
    "from sklearn.preprocessing import StandardScaler\n",
    "sc= StandardScaler()\n",
    "X_train=sc.fit_transform(X_train)\n",
    "X_test=sc.transform(X_test)\n",
    "# Create a k-NN classifier\n",
    "knn = KNeighborsClassifier(n_neighbors=12)\n",
    "# Fit the classifier to the training data\n",
    "knn.fit(X_train,y_train)\n",
    "#predict\n",
    "y_predicted= knn.predict(X_test)\n",
    "print(y_predicted)\n",
    "# Print the accuracy\n",
    "print(knn.score(X_test, y_test))\n",
    "\n",
    "k=0\n",
    "score=0\n",
    "\n",
    "for n in range(1, 21):\n",
    "    knn = KNeighborsClassifier(n_neighbors=n)\n",
    "    knn.fit(X_train,y_train)\n",
    "    y_predicted= knn.predict(X_test)\n",
    "    k_score=knn.score(X_test, y_test)\n",
    "    if k_score>score:\n",
    "        score=k_score\n",
    "        k=n\n",
    "print('accuracy, k value', k_score, k)\n",
    "\n",
    "from sklearn.metrics import classification_report, plot_confusion_matrix, confusion_matrix\n",
    "print(confusion_matrix(y_test, y_predicted))\n",
    "print(classification_report(y_test, y_predicted))\n"
   ]
  },
  {
   "cell_type": "markdown",
   "metadata": {},
   "source": [
    "The logistic model performs slightly better than the K-nearest neighbors model. This is apparent especially in terms of the precision and recall values, which are the most important indicators of the model's performance for this particular data set."
   ]
  },
  {
   "cell_type": "code",
   "execution_count": null,
   "metadata": {},
   "outputs": [],
   "source": []
  }
 ],
 "metadata": {
  "kernelspec": {
   "display_name": "Python 3",
   "language": "python",
   "name": "python3"
  },
  "language_info": {
   "codemirror_mode": {
    "name": "ipython",
    "version": 3
   },
   "file_extension": ".py",
   "mimetype": "text/x-python",
   "name": "python",
   "nbconvert_exporter": "python",
   "pygments_lexer": "ipython3",
   "version": "3.8.5"
  }
 },
 "nbformat": 4,
 "nbformat_minor": 4
}
