{
 "cells": [
  {
   "cell_type": "code",
   "execution_count": 30,
   "metadata": {},
   "outputs": [
    {
     "name": "stdout",
     "output_type": "stream",
     "text": [
      "765\n",
      "111111\n"
     ]
    }
   ],
   "source": [
    "def desc(number):\n",
    "    if type(number) == int and number >= 0:\n",
    "        numberlist=[]\n",
    "        for x in str(number):\n",
    "            numberlist.append(x)\n",
    "        strlist=[int(x) for x in numberlist]\n",
    "        sortlist=sorted(strlist, reverse=True)\n",
    "        number=\"\"\n",
    "        for i in sortlist:\n",
    "            number=\"\".join([str(i) for i in sortlist])\n",
    "       \n",
    "        print(number)\n",
    "        \n",
    "    else:\n",
    "        print(111111)\n",
    "#Test case with positive integer values \n",
    "desc(567)\n",
    "\n",
    "#Test case withh negative values\n",
    "desc(-123)\n",
    "        \n",
    "\n",
    "        "
   ]
  },
  {
   "cell_type": "code",
   "execution_count": 12,
   "metadata": {},
   "outputs": [
    {
     "name": "stdout",
     "output_type": "stream",
     "text": [
      "   Show Number    Air Date      Round                         Category  Value  \\\n",
      "0         4680  12/31/2004  Jeopardy!                          HISTORY  $200    \n",
      "1         4680  12/31/2004  Jeopardy!  ESPN's TOP 10 ALL-TIME ATHLETES  $200    \n",
      "2         4680  12/31/2004  Jeopardy!      EVERYBODY TALKS ABOUT IT...  $200    \n",
      "3         4680  12/31/2004  Jeopardy!                 THE COMPANY LINE  $200    \n",
      "4         4680  12/31/2004  Jeopardy!              EPITAPHS & TRIBUTES  $200    \n",
      "\n",
      "                                            Question      Answer  \n",
      "0  For the last 8 years of his life, Galileo was ...  Copernicus  \n",
      "1  No. 2: 1912 Olympian; football star at Carlisl...  Jim Thorpe  \n",
      "2  The city of Yuma in this state has a record av...     Arizona  \n",
      "3  In 1963, live on \"The Art Linkletter Show\", th...  McDonald's  \n",
      "4  Signer of the Dec. of Indep., framer of the Co...  John Adams  \n",
      "216930\n"
     ]
    },
    {
     "data": {
      "text/plain": [
       " Category\n",
       "BEFORE & AFTER           547\n",
       "SCIENCE                  519\n",
       "LITERATURE               496\n",
       "AMERICAN HISTORY         418\n",
       "POTPOURRI                401\n",
       "                        ... \n",
       "THE THIRD CENTURY          1\n",
       "IN VENICE                  1\n",
       "BOOK TITLE REFERENCES      1\n",
       "POETIC SUBJECTS            1\n",
       "GEOGRAPHIC MEANINGS        1\n",
       "Length: 27983, dtype: int64"
      ]
     },
     "execution_count": 12,
     "metadata": {},
     "output_type": "execute_result"
    }
   ],
   "source": [
    "import pandas as pd\n",
    "import numpy as np\n",
    "\n",
    "jeopardy=\"JEOPARDY_CSV.csv\"\n",
    "\n",
    "\n",
    "#Making the datafram\n",
    "jeopardy_df = pd.read_csv(\"JEOPARDY_CSV.csv\")\n",
    "\n",
    "#Looking to see a preview of the data\n",
    "print(jeopardy_df.head())\n",
    "\n",
    "#Identifying the number of rows in the dataframe\n",
    "index=jeopardy_df.index\n",
    "number_rows=len(index)\n",
    "print(number_rows)\n",
    "\n",
    "#The rows represent all of the data about individual questions. \n",
    "#Each row contains information on which show number, its airdate, the round, category, value, actual question and answer for each unique question.\n",
    "\n",
    "#Trying to identify the number of unique shows. I'm not sure if value_counts work here.\n",
    "jeopardy_df.value_counts(\"Show Number\")\n",
    "\n",
    "#We may wish to know the number of unique categories represented in this dataframe\n",
    "jeopardy_df.value_counts(\" Category\")"
   ]
  },
  {
   "cell_type": "code",
   "execution_count": null,
   "metadata": {},
   "outputs": [],
   "source": []
  }
 ],
 "metadata": {
  "kernelspec": {
   "display_name": "Python 3",
   "language": "python",
   "name": "python3"
  },
  "language_info": {
   "codemirror_mode": {
    "name": "ipython",
    "version": 3
   },
   "file_extension": ".py",
   "mimetype": "text/x-python",
   "name": "python",
   "nbconvert_exporter": "python",
   "pygments_lexer": "ipython3",
   "version": "3.8.5"
  }
 },
 "nbformat": 4,
 "nbformat_minor": 4
}
