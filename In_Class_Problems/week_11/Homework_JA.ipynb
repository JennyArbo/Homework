{
 "cells": [
  {
   "cell_type": "markdown",
   "metadata": {},
   "source": [
    "# Homework"
   ]
  },
  {
   "cell_type": "code",
   "execution_count": 151,
   "metadata": {},
   "outputs": [
    {
     "data": {
      "text/html": [
       "<div>\n",
       "<style scoped>\n",
       "    .dataframe tbody tr th:only-of-type {\n",
       "        vertical-align: middle;\n",
       "    }\n",
       "\n",
       "    .dataframe tbody tr th {\n",
       "        vertical-align: top;\n",
       "    }\n",
       "\n",
       "    .dataframe thead th {\n",
       "        text-align: right;\n",
       "    }\n",
       "</style>\n",
       "<table border=\"1\" class=\"dataframe\">\n",
       "  <thead>\n",
       "    <tr style=\"text-align: right;\">\n",
       "      <th></th>\n",
       "      <th>datetime</th>\n",
       "      <th>Vancouver</th>\n",
       "      <th>Portland</th>\n",
       "      <th>San Francisco</th>\n",
       "      <th>Seattle</th>\n",
       "      <th>Los Angeles</th>\n",
       "      <th>San Diego</th>\n",
       "      <th>Las Vegas</th>\n",
       "      <th>Phoenix</th>\n",
       "      <th>Albuquerque</th>\n",
       "      <th>...</th>\n",
       "      <th>Philadelphia</th>\n",
       "      <th>New York</th>\n",
       "      <th>Montreal</th>\n",
       "      <th>Boston</th>\n",
       "      <th>Beersheba</th>\n",
       "      <th>Tel Aviv District</th>\n",
       "      <th>Eilat</th>\n",
       "      <th>Haifa</th>\n",
       "      <th>Nahariyya</th>\n",
       "      <th>Jerusalem</th>\n",
       "    </tr>\n",
       "  </thead>\n",
       "  <tbody>\n",
       "    <tr>\n",
       "      <th>0</th>\n",
       "      <td>2012-10-01 12:00:00</td>\n",
       "      <td>NaN</td>\n",
       "      <td>NaN</td>\n",
       "      <td>NaN</td>\n",
       "      <td>NaN</td>\n",
       "      <td>NaN</td>\n",
       "      <td>NaN</td>\n",
       "      <td>NaN</td>\n",
       "      <td>NaN</td>\n",
       "      <td>NaN</td>\n",
       "      <td>...</td>\n",
       "      <td>NaN</td>\n",
       "      <td>NaN</td>\n",
       "      <td>NaN</td>\n",
       "      <td>NaN</td>\n",
       "      <td>NaN</td>\n",
       "      <td>NaN</td>\n",
       "      <td>309.100000</td>\n",
       "      <td>NaN</td>\n",
       "      <td>NaN</td>\n",
       "      <td>NaN</td>\n",
       "    </tr>\n",
       "    <tr>\n",
       "      <th>1</th>\n",
       "      <td>2012-10-01 13:00:00</td>\n",
       "      <td>284.630000</td>\n",
       "      <td>282.080000</td>\n",
       "      <td>289.480000</td>\n",
       "      <td>281.800000</td>\n",
       "      <td>291.870000</td>\n",
       "      <td>291.530000</td>\n",
       "      <td>293.410000</td>\n",
       "      <td>296.600000</td>\n",
       "      <td>285.120000</td>\n",
       "      <td>...</td>\n",
       "      <td>285.630000</td>\n",
       "      <td>288.220000</td>\n",
       "      <td>285.83000</td>\n",
       "      <td>287.170000</td>\n",
       "      <td>307.59</td>\n",
       "      <td>305.47</td>\n",
       "      <td>310.580000</td>\n",
       "      <td>304.4</td>\n",
       "      <td>304.4</td>\n",
       "      <td>303.5</td>\n",
       "    </tr>\n",
       "    <tr>\n",
       "      <th>2</th>\n",
       "      <td>2012-10-01 14:00:00</td>\n",
       "      <td>284.629041</td>\n",
       "      <td>282.083252</td>\n",
       "      <td>289.474993</td>\n",
       "      <td>281.797217</td>\n",
       "      <td>291.868186</td>\n",
       "      <td>291.533501</td>\n",
       "      <td>293.403141</td>\n",
       "      <td>296.608509</td>\n",
       "      <td>285.154558</td>\n",
       "      <td>...</td>\n",
       "      <td>285.663208</td>\n",
       "      <td>288.247676</td>\n",
       "      <td>285.83465</td>\n",
       "      <td>287.186092</td>\n",
       "      <td>307.59</td>\n",
       "      <td>304.31</td>\n",
       "      <td>310.495769</td>\n",
       "      <td>304.4</td>\n",
       "      <td>304.4</td>\n",
       "      <td>303.5</td>\n",
       "    </tr>\n",
       "  </tbody>\n",
       "</table>\n",
       "<p>3 rows × 37 columns</p>\n",
       "</div>"
      ],
      "text/plain": [
       "              datetime   Vancouver    Portland  San Francisco     Seattle  \\\n",
       "0  2012-10-01 12:00:00         NaN         NaN            NaN         NaN   \n",
       "1  2012-10-01 13:00:00  284.630000  282.080000     289.480000  281.800000   \n",
       "2  2012-10-01 14:00:00  284.629041  282.083252     289.474993  281.797217   \n",
       "\n",
       "   Los Angeles   San Diego   Las Vegas     Phoenix  Albuquerque  ...  \\\n",
       "0          NaN         NaN         NaN         NaN          NaN  ...   \n",
       "1   291.870000  291.530000  293.410000  296.600000   285.120000  ...   \n",
       "2   291.868186  291.533501  293.403141  296.608509   285.154558  ...   \n",
       "\n",
       "   Philadelphia    New York   Montreal      Boston  Beersheba  \\\n",
       "0           NaN         NaN        NaN         NaN        NaN   \n",
       "1    285.630000  288.220000  285.83000  287.170000     307.59   \n",
       "2    285.663208  288.247676  285.83465  287.186092     307.59   \n",
       "\n",
       "   Tel Aviv District       Eilat  Haifa  Nahariyya  Jerusalem  \n",
       "0                NaN  309.100000    NaN        NaN        NaN  \n",
       "1             305.47  310.580000  304.4      304.4      303.5  \n",
       "2             304.31  310.495769  304.4      304.4      303.5  \n",
       "\n",
       "[3 rows x 37 columns]"
      ]
     },
     "execution_count": 151,
     "metadata": {},
     "output_type": "execute_result"
    }
   ],
   "source": [
    "#Handy imports from class\n",
    "\n",
    "import pandas as pd\n",
    "import matplotlib.pyplot as plt\n",
    "import numpy as np\n",
    "import os\n",
    "import plotly.express as px\n",
    "from scipy import signal\n",
    "\n",
    "df = pd.read_csv('temperature.csv')\n",
    "\n",
    "df.head(3)"
   ]
  },
  {
   "cell_type": "markdown",
   "metadata": {},
   "source": [
    "### 1. Write a function that efficiently converts every column to a different temperature scale"
   ]
  },
  {
   "cell_type": "code",
   "execution_count": 152,
   "metadata": {},
   "outputs": [
    {
     "data": {
      "text/html": [
       "<div>\n",
       "<style scoped>\n",
       "    .dataframe tbody tr th:only-of-type {\n",
       "        vertical-align: middle;\n",
       "    }\n",
       "\n",
       "    .dataframe tbody tr th {\n",
       "        vertical-align: top;\n",
       "    }\n",
       "\n",
       "    .dataframe thead th {\n",
       "        text-align: right;\n",
       "    }\n",
       "</style>\n",
       "<table border=\"1\" class=\"dataframe\">\n",
       "  <thead>\n",
       "    <tr style=\"text-align: right;\">\n",
       "      <th></th>\n",
       "      <th>datetime</th>\n",
       "      <th>Vancouver</th>\n",
       "      <th>Portland</th>\n",
       "      <th>San Francisco</th>\n",
       "      <th>Seattle</th>\n",
       "      <th>Los Angeles</th>\n",
       "      <th>San Diego</th>\n",
       "      <th>Las Vegas</th>\n",
       "      <th>Phoenix</th>\n",
       "      <th>Albuquerque</th>\n",
       "      <th>...</th>\n",
       "      <th>Philadelphia</th>\n",
       "      <th>New York</th>\n",
       "      <th>Montreal</th>\n",
       "      <th>Boston</th>\n",
       "      <th>Beersheba</th>\n",
       "      <th>Tel Aviv District</th>\n",
       "      <th>Eilat</th>\n",
       "      <th>Haifa</th>\n",
       "      <th>Nahariyya</th>\n",
       "      <th>Jerusalem</th>\n",
       "    </tr>\n",
       "  </thead>\n",
       "  <tbody>\n",
       "    <tr>\n",
       "      <th>0</th>\n",
       "      <td>2012-10-01 12:00:00</td>\n",
       "      <td>NaN</td>\n",
       "      <td>NaN</td>\n",
       "      <td>NaN</td>\n",
       "      <td>NaN</td>\n",
       "      <td>NaN</td>\n",
       "      <td>NaN</td>\n",
       "      <td>NaN</td>\n",
       "      <td>NaN</td>\n",
       "      <td>NaN</td>\n",
       "      <td>...</td>\n",
       "      <td>NaN</td>\n",
       "      <td>NaN</td>\n",
       "      <td>NaN</td>\n",
       "      <td>NaN</td>\n",
       "      <td>NaN</td>\n",
       "      <td>NaN</td>\n",
       "      <td>35.950000</td>\n",
       "      <td>NaN</td>\n",
       "      <td>NaN</td>\n",
       "      <td>NaN</td>\n",
       "    </tr>\n",
       "    <tr>\n",
       "      <th>1</th>\n",
       "      <td>2012-10-01 13:00:00</td>\n",
       "      <td>11.480000</td>\n",
       "      <td>8.930000</td>\n",
       "      <td>16.330000</td>\n",
       "      <td>8.650000</td>\n",
       "      <td>18.720000</td>\n",
       "      <td>18.380000</td>\n",
       "      <td>20.260000</td>\n",
       "      <td>23.450000</td>\n",
       "      <td>11.970000</td>\n",
       "      <td>...</td>\n",
       "      <td>12.480000</td>\n",
       "      <td>15.070000</td>\n",
       "      <td>12.68000</td>\n",
       "      <td>14.020000</td>\n",
       "      <td>34.44</td>\n",
       "      <td>32.32</td>\n",
       "      <td>37.430000</td>\n",
       "      <td>31.25</td>\n",
       "      <td>31.25</td>\n",
       "      <td>30.35</td>\n",
       "    </tr>\n",
       "    <tr>\n",
       "      <th>2</th>\n",
       "      <td>2012-10-01 14:00:00</td>\n",
       "      <td>11.479041</td>\n",
       "      <td>8.933252</td>\n",
       "      <td>16.324993</td>\n",
       "      <td>8.647217</td>\n",
       "      <td>18.718186</td>\n",
       "      <td>18.383501</td>\n",
       "      <td>20.253141</td>\n",
       "      <td>23.458509</td>\n",
       "      <td>12.004558</td>\n",
       "      <td>...</td>\n",
       "      <td>12.513208</td>\n",
       "      <td>15.097676</td>\n",
       "      <td>12.68465</td>\n",
       "      <td>14.036092</td>\n",
       "      <td>34.44</td>\n",
       "      <td>31.16</td>\n",
       "      <td>37.345769</td>\n",
       "      <td>31.25</td>\n",
       "      <td>31.25</td>\n",
       "      <td>30.35</td>\n",
       "    </tr>\n",
       "  </tbody>\n",
       "</table>\n",
       "<p>3 rows × 37 columns</p>\n",
       "</div>"
      ],
      "text/plain": [
       "             datetime  Vancouver  Portland  San Francisco   Seattle  \\\n",
       "0 2012-10-01 12:00:00        NaN       NaN            NaN       NaN   \n",
       "1 2012-10-01 13:00:00  11.480000  8.930000      16.330000  8.650000   \n",
       "2 2012-10-01 14:00:00  11.479041  8.933252      16.324993  8.647217   \n",
       "\n",
       "   Los Angeles  San Diego  Las Vegas    Phoenix  Albuquerque  ...  \\\n",
       "0          NaN        NaN        NaN        NaN          NaN  ...   \n",
       "1    18.720000  18.380000  20.260000  23.450000    11.970000  ...   \n",
       "2    18.718186  18.383501  20.253141  23.458509    12.004558  ...   \n",
       "\n",
       "   Philadelphia   New York  Montreal     Boston  Beersheba  Tel Aviv District  \\\n",
       "0           NaN        NaN       NaN        NaN        NaN                NaN   \n",
       "1     12.480000  15.070000  12.68000  14.020000      34.44              32.32   \n",
       "2     12.513208  15.097676  12.68465  14.036092      34.44              31.16   \n",
       "\n",
       "       Eilat  Haifa  Nahariyya  Jerusalem  \n",
       "0  35.950000    NaN        NaN        NaN  \n",
       "1  37.430000  31.25      31.25      30.35  \n",
       "2  37.345769  31.25      31.25      30.35  \n",
       "\n",
       "[3 rows x 37 columns]"
      ]
     },
     "execution_count": 152,
     "metadata": {},
     "output_type": "execute_result"
    }
   ],
   "source": [
    "df['datetime'] = pd.to_datetime(df['datetime'])\n",
    "\n",
    "#creating a new dataframe and performing a conversion from K to C by subtracting 273.15 from original T values\n",
    "dfC = df.loc[ : , df.columns != 'datetime']-273.15\n",
    "\n",
    "#Since the above operation removes the datetime column (so as not to try to do math on it), here I'm adding\n",
    "#it back into my new dataframe at an index position of 0\n",
    "dfC.insert(0, 'datetime', df['datetime'])\n",
    "\n",
    "#printing the first 3 lines of the new dataframe to confirm everything is working as suspected\n",
    "dfC.head(3)\n",
    "\n"
   ]
  },
  {
   "cell_type": "code",
   "execution_count": 153,
   "metadata": {},
   "outputs": [],
   "source": [
    "#This question could be interpreted in more than one way. You can either just do the math on everything\n",
    "#OR you could actually write a function to perform the specified operation.\n",
    "\n",
    "def K_to_C(t):\n",
    "    K_to_C = t - 273.15\n",
    "    return K_to_C\n",
    "\n",
    "#Now, to apply this to our dataframe:\n"
   ]
  },
  {
   "cell_type": "markdown",
   "metadata": {},
   "source": [
    "### 2. Write a function that efficiently fills in missing values in every column, except for trailing NANs.  \n",
    "\n",
    "That is: if there's temperature data on either side of a timestamp, it should interpolate through it. But if data stopped being collected, your function should leave nans at the end"
   ]
  },
  {
   "cell_type": "markdown",
   "metadata": {},
   "source": []
  },
  {
   "cell_type": "code",
   "execution_count": 178,
   "metadata": {},
   "outputs": [
    {
     "ename": "TypeError",
     "evalue": "Cannot cast array data from dtype('O') to dtype('float64') according to the rule 'safe'",
     "output_type": "error",
     "traceback": [
      "\u001b[0;31m---------------------------------------------------------------------------\u001b[0m",
      "\u001b[0;31mTypeError\u001b[0m                                 Traceback (most recent call last)",
      "\u001b[0;32m<ipython-input-178-0dfcb8cd33f0>\u001b[0m in \u001b[0;36m<module>\u001b[0;34m\u001b[0m\n\u001b[1;32m     17\u001b[0m         \u001b[0;31m#print(\"q\",q.shape)\u001b[0m\u001b[0;34m\u001b[0m\u001b[0;34m\u001b[0m\u001b[0;34m\u001b[0m\u001b[0m\n\u001b[1;32m     18\u001b[0m         \u001b[0;31m#inserting the interpolated data into my dataframe; left and right values set so as to leave trailing NaNs\u001b[0m\u001b[0;34m\u001b[0m\u001b[0;34m\u001b[0m\u001b[0;34m\u001b[0m\u001b[0m\n\u001b[0;32m---> 19\u001b[0;31m         \u001b[0minterpolated\u001b[0m\u001b[0;34m.\u001b[0m\u001b[0minsert\u001b[0m\u001b[0;34m(\u001b[0m\u001b[0mlen\u001b[0m\u001b[0;34m(\u001b[0m\u001b[0minterpolated\u001b[0m\u001b[0;34m.\u001b[0m\u001b[0mcolumns\u001b[0m\u001b[0;34m)\u001b[0m\u001b[0;34m,\u001b[0m \u001b[0mi\u001b[0m \u001b[0;34m,\u001b[0m \u001b[0mnp\u001b[0m\u001b[0;34m.\u001b[0m\u001b[0minterp\u001b[0m\u001b[0;34m(\u001b[0m\u001b[0mx\u001b[0m\u001b[0;34m,\u001b[0m \u001b[0mxp\u001b[0m\u001b[0;34m,\u001b[0m \u001b[0mfp\u001b[0m\u001b[0;34m,\u001b[0m \u001b[0mleft\u001b[0m\u001b[0;34m=\u001b[0m\u001b[0mnp\u001b[0m\u001b[0;34m.\u001b[0m\u001b[0mnan\u001b[0m\u001b[0;34m,\u001b[0m \u001b[0mright\u001b[0m\u001b[0;34m=\u001b[0m\u001b[0mnp\u001b[0m\u001b[0;34m.\u001b[0m\u001b[0mnan\u001b[0m\u001b[0;34m)\u001b[0m\u001b[0;34m)\u001b[0m\u001b[0;34m\u001b[0m\u001b[0;34m\u001b[0m\u001b[0m\n\u001b[0m\u001b[1;32m     20\u001b[0m \u001b[0;34m\u001b[0m\u001b[0m\n\u001b[1;32m     21\u001b[0m \u001b[0;31m#Looking at the tail of the new data table-check to see if trailing NaN are left\u001b[0m\u001b[0;34m\u001b[0m\u001b[0;34m\u001b[0m\u001b[0;34m\u001b[0m\u001b[0m\n",
      "\u001b[0;32m<__array_function__ internals>\u001b[0m in \u001b[0;36minterp\u001b[0;34m(*args, **kwargs)\u001b[0m\n",
      "\u001b[0;32m~/opt/anaconda3/lib/python3.8/site-packages/numpy/lib/function_base.py\u001b[0m in \u001b[0;36minterp\u001b[0;34m(x, xp, fp, left, right, period)\u001b[0m\n\u001b[1;32m   1421\u001b[0m         \u001b[0mfp\u001b[0m \u001b[0;34m=\u001b[0m \u001b[0mnp\u001b[0m\u001b[0;34m.\u001b[0m\u001b[0mconcatenate\u001b[0m\u001b[0;34m(\u001b[0m\u001b[0;34m(\u001b[0m\u001b[0mfp\u001b[0m\u001b[0;34m[\u001b[0m\u001b[0;34m-\u001b[0m\u001b[0;36m1\u001b[0m\u001b[0;34m:\u001b[0m\u001b[0;34m]\u001b[0m\u001b[0;34m,\u001b[0m \u001b[0mfp\u001b[0m\u001b[0;34m,\u001b[0m \u001b[0mfp\u001b[0m\u001b[0;34m[\u001b[0m\u001b[0;36m0\u001b[0m\u001b[0;34m:\u001b[0m\u001b[0;36m1\u001b[0m\u001b[0;34m]\u001b[0m\u001b[0;34m)\u001b[0m\u001b[0;34m)\u001b[0m\u001b[0;34m\u001b[0m\u001b[0;34m\u001b[0m\u001b[0m\n\u001b[1;32m   1422\u001b[0m \u001b[0;34m\u001b[0m\u001b[0m\n\u001b[0;32m-> 1423\u001b[0;31m     \u001b[0;32mreturn\u001b[0m \u001b[0minterp_func\u001b[0m\u001b[0;34m(\u001b[0m\u001b[0mx\u001b[0m\u001b[0;34m,\u001b[0m \u001b[0mxp\u001b[0m\u001b[0;34m,\u001b[0m \u001b[0mfp\u001b[0m\u001b[0;34m,\u001b[0m \u001b[0mleft\u001b[0m\u001b[0;34m,\u001b[0m \u001b[0mright\u001b[0m\u001b[0;34m)\u001b[0m\u001b[0;34m\u001b[0m\u001b[0;34m\u001b[0m\u001b[0m\n\u001b[0m\u001b[1;32m   1424\u001b[0m \u001b[0;34m\u001b[0m\u001b[0m\n\u001b[1;32m   1425\u001b[0m \u001b[0;34m\u001b[0m\u001b[0m\n",
      "\u001b[0;31mTypeError\u001b[0m: Cannot cast array data from dtype('O') to dtype('float64') according to the rule 'safe'"
     ]
    }
   ],
   "source": [
    "#x is time stamps, xp is x's for existing records, fp is y's for xps\n",
    "#Grabbing dates of interest\n",
    "x = dfC['datetime']\n",
    "#print(\"x\", x.shape)\n",
    "\n",
    "\n",
    "\n",
    "interpolated = pd.DataFrame({'datetime':x})\n",
    "for i in dfC.columns:\n",
    "    if i != 'datetime':\n",
    "        knowns = dfC.loc[~dfC[i].isnull(), ['datetime',i]]\n",
    "        xp = knowns['datetime']\n",
    "        #print('xp', xp.shape)\n",
    "        fp = np.array(knowns[i])\n",
    "        #print('fp', fp.shape)\n",
    "        #q=np.interp(x, xp, fp)\n",
    "        #print(\"q\",q.shape)\n",
    "        #inserting the interpolated data into my dataframe; left and right values set so as to leave trailing NaNs\n",
    "        interpolated.insert(len(interpolated.columns), i , np.interp(x, xp, fp, left=np.nan, right=np.nan))\n",
    "        \n",
    "#Looking at the tail of the new data table-check to see if trailing NaN are left\n",
    "interpolated.tail(100)\n",
    "\n",
    "#test = pd.DataFrame({'datetime':x, i: np.interp(x, xp, fp)})\n",
    "#test\n",
    "\n",
    "\n",
    "#x = df['datetime']\n",
    "#xp_fp=[]\n",
    "#print(x.shape)\n",
    "#print(dfC.columns)\n",
    "#for i in dfC.columns:\n",
    "#i='Vancouver'\n",
    "#print(i)\n",
    "#knowns = df.loc[~df[i].isnull(), ['datetime',i]]\n",
    "#xp = knowns['datetime']\n",
    "#print(xp.shape)\n",
    "#fp = np.array(knowns[i])\n",
    "#print(fp.shape)\n",
    "    \n",
    "#interpolated = pd.DataFrame({'datetime':x, i:np.interp(x,xp,fp)})\n",
    "\n",
    "#x is time stamps, xp is x's for existing records, fp is y's for xps\n",
    "#Grabbing dates of interest\n",
    "#x = df['datetime']\n",
    "#Pull Vancouver times that are not null then run the interpolation\n",
    "#knowns = df.loc[~df['Vancouver'].isnull(), ['datetime','Vancouver']]\n",
    "#xp = knowns['datetime']\n",
    "#fp = np.array(knowns['Vancouver'])\n",
    "\n",
    "#test = pd.DataFrame({'datetime':x, 'Vancouver': np.interp(x, xp, fp)})"
   ]
  },
  {
   "cell_type": "markdown",
   "metadata": {},
   "source": [
    "### 3. Find cities A and B where city A is warmer than city B in the summer, but also colder than city B in the winter, on average"
   ]
  },
  {
   "cell_type": "code",
   "execution_count": 170,
   "metadata": {},
   "outputs": [
    {
     "name": "stdout",
     "output_type": "stream",
     "text": [
      "[('Portland', 'San Francisco'), ('Portland', 'Seattle'), ('Las Vegas', 'San Francisco'), ('Las Vegas', 'Los Angeles'), ('Las Vegas', 'San Diego'), ('Las Vegas', 'San Antonio'), ('Las Vegas', 'Dallas'), ('Las Vegas', 'Houston'), ('Las Vegas', 'Jacksonville'), ('Las Vegas', 'Miami'), ('Las Vegas', 'Beersheba'), ('Las Vegas', 'Tel Aviv District'), ('Las Vegas', 'Eilat'), ('Las Vegas', 'Haifa'), ('Las Vegas', 'Nahariyya'), ('Las Vegas', 'Jerusalem'), ('Phoenix', 'Los Angeles'), ('Phoenix', 'San Diego'), ('Phoenix', 'San Antonio'), ('Phoenix', 'Houston'), ('Phoenix', 'Jacksonville'), ('Phoenix', 'Miami'), ('Phoenix', 'Tel Aviv District'), ('Phoenix', 'Eilat'), ('Phoenix', 'Haifa'), ('Phoenix', 'Nahariyya'), ('Phoenix', 'Jerusalem'), ('Albuquerque', 'Vancouver'), ('Albuquerque', 'Portland'), ('Albuquerque', 'San Francisco'), ('Albuquerque', 'Seattle'), ('Albuquerque', 'Los Angeles'), ('Albuquerque', 'San Diego'), ('Denver', 'Vancouver'), ('Denver', 'Portland'), ('Denver', 'San Francisco'), ('Denver', 'Seattle'), ('San Antonio', 'Los Angeles'), ('San Antonio', 'San Diego'), ('San Antonio', 'Jacksonville'), ('San Antonio', 'Miami'), ('San Antonio', 'Tel Aviv District'), ('San Antonio', 'Haifa'), ('San Antonio', 'Nahariyya'), ('San Antonio', 'Jerusalem'), ('Dallas', 'San Francisco'), ('Dallas', 'Los Angeles'), ('Dallas', 'San Diego'), ('Dallas', 'San Antonio'), ('Dallas', 'Houston'), ('Dallas', 'Jacksonville'), ('Dallas', 'Miami'), ('Dallas', 'Beersheba'), ('Dallas', 'Tel Aviv District'), ('Dallas', 'Haifa'), ('Dallas', 'Nahariyya'), ('Dallas', 'Jerusalem'), ('Houston', 'Jacksonville'), ('Houston', 'Miami'), ('Houston', 'Tel Aviv District'), ('Houston', 'Haifa'), ('Houston', 'Nahariyya'), ('Kansas City', 'Vancouver'), ('Kansas City', 'Portland'), ('Kansas City', 'San Francisco'), ('Kansas City', 'Seattle'), ('Kansas City', 'Los Angeles'), ('Kansas City', 'San Diego'), ('Kansas City', 'Albuquerque'), ('Kansas City', 'Philadelphia'), ('Kansas City', 'New York'), ('Minneapolis', 'Vancouver'), ('Minneapolis', 'Portland'), ('Minneapolis', 'San Francisco'), ('Minneapolis', 'Seattle'), ('Minneapolis', 'Denver'), ('Minneapolis', 'Toronto'), ('Minneapolis', 'Montreal'), ('Saint Louis', 'Vancouver'), ('Saint Louis', 'Portland'), ('Saint Louis', 'San Francisco'), ('Saint Louis', 'Seattle'), ('Saint Louis', 'Los Angeles'), ('Saint Louis', 'San Diego'), ('Saint Louis', 'Albuquerque'), ('Saint Louis', 'Beersheba'), ('Chicago', 'Vancouver'), ('Chicago', 'Portland'), ('Chicago', 'San Francisco'), ('Chicago', 'Seattle'), ('Chicago', 'San Diego'), ('Chicago', 'Denver'), ('Chicago', 'Pittsburgh'), ('Chicago', 'Boston'), ('Nashville', 'San Francisco'), ('Nashville', 'Los Angeles'), ('Nashville', 'San Diego'), ('Nashville', 'Charlotte'), ('Nashville', 'Beersheba'), ('Indianapolis', 'Vancouver'), ('Indianapolis', 'Portland'), ('Indianapolis', 'San Francisco'), ('Indianapolis', 'Seattle'), ('Indianapolis', 'Los Angeles'), ('Indianapolis', 'San Diego'), ('Indianapolis', 'Albuquerque'), ('Indianapolis', 'Pittsburgh'), ('Indianapolis', 'Boston'), ('Atlanta', 'San Francisco'), ('Atlanta', 'Los Angeles'), ('Atlanta', 'San Diego'), ('Atlanta', 'Beersheba'), ('Detroit', 'Vancouver'), ('Detroit', 'Portland'), ('Detroit', 'San Francisco'), ('Detroit', 'Seattle'), ('Detroit', 'San Diego'), ('Detroit', 'Denver'), ('Detroit', 'Pittsburgh'), ('Detroit', 'Boston'), ('Charlotte', 'San Francisco'), ('Charlotte', 'Los Angeles'), ('Charlotte', 'San Diego'), ('Charlotte', 'Beersheba'), ('Pittsburgh', 'Vancouver'), ('Pittsburgh', 'Portland'), ('Pittsburgh', 'San Francisco'), ('Pittsburgh', 'Seattle'), ('Pittsburgh', 'San Diego'), ('Pittsburgh', 'Boston'), ('Toronto', 'Vancouver'), ('Toronto', 'Portland'), ('Toronto', 'San Francisco'), ('Toronto', 'Seattle'), ('Philadelphia', 'Vancouver'), ('Philadelphia', 'Portland'), ('Philadelphia', 'San Francisco'), ('Philadelphia', 'Seattle'), ('Philadelphia', 'Los Angeles'), ('Philadelphia', 'San Diego'), ('Philadelphia', 'Albuquerque'), ('New York', 'Vancouver'), ('New York', 'Portland'), ('New York', 'San Francisco'), ('New York', 'Seattle'), ('New York', 'Los Angeles'), ('New York', 'San Diego'), ('New York', 'Albuquerque'), ('New York', 'Philadelphia'), ('Montreal', 'Vancouver'), ('Montreal', 'Portland'), ('Montreal', 'San Francisco'), ('Montreal', 'Seattle'), ('Boston', 'Vancouver'), ('Boston', 'Portland'), ('Boston', 'San Francisco'), ('Boston', 'Seattle'), ('Boston', 'San Diego'), ('Beersheba', 'San Francisco'), ('Beersheba', 'Los Angeles'), ('Beersheba', 'San Diego'), ('Tel Aviv District', 'Jacksonville'), ('Tel Aviv District', 'Nahariyya'), ('Eilat', 'Jacksonville'), ('Eilat', 'Miami'), ('Eilat', 'Haifa'), ('Eilat', 'Nahariyya')]\n"
     ]
    }
   ],
   "source": [
    "# Need to define season. Since this is a weather dataset, I chose to use the convention for meteorological seasons.\n",
    "#By that, I mean that I chose December/January/February (DJF) as \"winter\" and June/July/August (JJA) as \"summer\" \n",
    "#with the assumption that all cities are Northern Hemisphere (data on latitude not given)\n",
    "# To easily compare, I will make a new dataframe that stores the season and the average temperature in each city for \n",
    "#each season.\n",
    "\n",
    "#iterating through the rows to turn the datetime column into datetime objects. Pulling out months and then\n",
    "#specifying season. Making list of corresponding meteorological seasons.\n",
    "#from datetime import datetime\n",
    "df_season=dfC\n",
    "season = []\n",
    "\n",
    "for m in dfC['datetime']:\n",
    "    month = m.month\n",
    "    if month == 12 or month == 1 or month == 2:\n",
    "        season_code = 'winter'\n",
    "    elif month == 3 or month == 4 or month == 5:\n",
    "        season_code = 'spring'\n",
    "    elif month == 6 or month == 7 or month == 8:\n",
    "        season_code = 'summer'\n",
    "    else:\n",
    "        season_code = 'fall'\n",
    "    season.append(season_code)\n",
    "    \n",
    "#df_season.insert(1, 'season', season)\n",
    "df_season.head()\n",
    "\n",
    "#Calculating seasonal averages for all cities\n",
    "seasonal_averages = df_season.groupby('season').mean()\n",
    "#print(seasonal_averages)\n",
    "\n",
    "#Loop to compare cities\n",
    "#Also, creating a list of city pairs that satisfy the given conditions \n",
    "        \n",
    "city_pairs = []        \n",
    "        \n",
    "for cityA in seasonal_averages.columns:\n",
    "    if cityA != 'datetime':\n",
    "        for cityB in seasonal_averages.columns:\n",
    "            if cityB != 'datetime' and cityA != cityB:\n",
    "                if seasonal_averages[cityA]['winter'] < seasonal_averages[cityB]['winter'] and seasonal_averages[cityA]['summer'] > seasonal_averages[cityB]['summer']:\n",
    "                    city_pairs.append((cityA, cityB))\n",
    "print(city_pairs)\n",
    "\n",
    "#Below can be used as a check to make sure the number of city pairs returned is reasonable\n",
    "#print('number', len(city_pairs))\n",
    "\n",
    "\n",
    "#Finally, since I need to look at 2 cities in the next question, I looked at my list and chose:\n",
    "#City A = New York\n",
    "#City B = Los Angeles\n",
    "                 "
   ]
  },
  {
   "cell_type": "markdown",
   "metadata": {},
   "source": [
    "### 4. For the two cities you found in for problem 4 (there are many possible answers), clean up the data via aggregation or rolling averages and plot a clear visual"
   ]
  },
  {
   "cell_type": "code",
   "execution_count": 175,
   "metadata": {},
   "outputs": [
    {
     "data": {
      "text/plain": [
       "[<matplotlib.lines.Line2D at 0x7fc21ef43370>]"
      ]
     },
     "execution_count": 175,
     "metadata": {},
     "output_type": "execute_result"
    },
    {
     "data": {
      "image/png": "[encoded data removed]",
      "text/plain": [
       "<Figure size 432x288 with 1 Axes>"
      ]
     },
     "metadata": {
      "needs_background": "light"
     },
     "output_type": "display_data"
    }
   ],
   "source": [
    "#px.line(dfC.groupby('date').agg({'New York':'mean'}).reset_index(), x='day', y='New York')\n",
    "plt.plot(dfC['New York'].rolling(1000).mean())\n",
    "\n",
    "#px.line(dfC.groupby('datetime').agg({'Los Angeles':'mean'}).reset_index(), x='date', y='Los Angeles')\n",
    "plt.plot(dfC['Los Angeles'].rolling(1000).mean())\n",
    "\n"
   ]
  },
  {
   "cell_type": "markdown",
   "metadata": {},
   "source": [
    "### Note: The summer max temperatures are very similar for both cities; the variability is truly coming from the winter temperatures here."
   ]
  },
  {
   "cell_type": "code",
   "execution_count": 176,
   "metadata": {},
   "outputs": [
    {
     "data": {
      "text/plain": [
       "[<matplotlib.lines.Line2D at 0x7fc2205e2160>]"
      ]
     },
     "execution_count": 176,
     "metadata": {},
     "output_type": "execute_result"
    },
    {
     "data": {
      "image/png": "[encoded data removed]",
      "text/plain": [
       "<Figure size 432x288 with 1 Axes>"
      ]
     },
     "metadata": {
      "needs_background": "light"
     },
     "output_type": "display_data"
    }
   ],
   "source": [
    "#px.line(dfC.groupby('date').agg({'New York':'mean'}).reset_index(), x='day', y='New York')\n",
    "plt.plot(dfC['Denver'].rolling(1000).mean())\n",
    "\n",
    "#px.line(dfC.groupby('datetime').agg({'Los Angeles':'mean'}).reset_index(), x='date', y='Los Angeles')\n",
    "plt.plot(dfC['San Francisco'].rolling(1000).mean())\n"
   ]
  },
  {
   "cell_type": "markdown",
   "metadata": {},
   "source": [
    "### Since my past pairing had very similar summer temperatures, I wanted to look at some extra city pairs. Here, you can see that there is and enhanced summer temperature difference also with a large winter temperature difference."
   ]
  },
  {
   "cell_type": "code",
   "execution_count": 177,
   "metadata": {},
   "outputs": [
    {
     "data": {
      "text/plain": [
       "[<matplotlib.lines.Line2D at 0x7fc220cd0e20>]"
      ]
     },
     "execution_count": 177,
     "metadata": {},
     "output_type": "execute_result"
    },
    {
     "data": {
      "image/png": "[encoded data removed]",
      "text/plain": [
       "<Figure size 432x288 with 1 Axes>"
      ]
     },
     "metadata": {
      "needs_background": "light"
     },
     "output_type": "display_data"
    }
   ],
   "source": [
    "#px.line(dfC.groupby('date').agg({'New York':'mean'}).reset_index(), x='day', y='New York')\n",
    "plt.plot(dfC['Saint Louis'].rolling(1000).mean())\n",
    "\n",
    "#px.line(dfC.groupby('datetime').agg({'Los Angeles':'mean'}).reset_index(), x='date', y='Los Angeles')\n",
    "plt.plot(dfC['Portland'].rolling(1000).mean())\n"
   ]
  },
  {
   "cell_type": "markdown",
   "metadata": {},
   "source": [
    "### Finally, I decided to look at 2 cities where I knew there were likely larger summer temperature differences. Here, I looked at St. Louis and Portland. The range of temperatures for these 2 cities are more similar than for the previous 2 pairs but you can clearly see both the winter and summer T differences.\n",
    "\n",
    "### If I were really trying to look at this data to identify differences between cities, I would probably try to include some additional conditions to filter the city pairs list. For example, maybe look at statistically significant differences in temperature averages in the 2 cities or impose a cutoff value in some other way for the minimum value of the differences between the temperatures in the 2 cities."
   ]
  },
  {
   "cell_type": "code",
   "execution_count": null,
   "metadata": {},
   "outputs": [],
   "source": []
  }
 ],
 "metadata": {
  "kernelspec": {
   "display_name": "Python 3",
   "language": "python",
   "name": "python3"
  },
  "language_info": {
   "codemirror_mode": {
    "name": "ipython",
    "version": 3
   },
   "file_extension": ".py",
   "mimetype": "text/x-python",
   "name": "python",
   "nbconvert_exporter": "python",
   "pygments_lexer": "ipython3",
   "version": "3.8.5"
  }
 },
 "nbformat": 4,
 "nbformat_minor": 4
}
