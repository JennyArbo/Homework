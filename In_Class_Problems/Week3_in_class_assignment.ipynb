{
 "cells": [
  {
   "cell_type": "code",
   "execution_count": 28,
   "metadata": {},
   "outputs": [
    {
     "name": "stdout",
     "output_type": "stream",
     "text": [
      "a+b= 1\n",
      "a-b= -1\n",
      "a*b = zero\n",
      "a+b= 6\n",
      "a-b = zero\n",
      "a*b= 9\n",
      "a+b= 8\n",
      "a-b= -2\n",
      "a*b= 15\n"
     ]
    }
   ],
   "source": [
    "def calc(a,b):\n",
    "    if type(a) is int and type(b) is int:\n",
    "        s = a + b\n",
    "        if s == 0:\n",
    "            print('a+b = zero')\n",
    "        else:\n",
    "            print('a+b=',s)\n",
    "        d = a - b\n",
    "        if d == 0:\n",
    "            print('a-b = zero')\n",
    "        else:\n",
    "            print('a-b=',d)  \n",
    "        p = a * b\n",
    "        if p == 0:\n",
    "            print('a*b = zero')\n",
    "        else:\n",
    "            print('a*b=',p)\n",
    "#Test Case\n",
    "calc(0,1)\n",
    "calc(3,3)\n",
    "calc(3,5)\n",
    "    "
   ]
  },
  {
   "cell_type": "code",
   "execution_count": null,
   "metadata": {},
   "outputs": [],
   "source": []
  },
  {
   "cell_type": "code",
   "execution_count": null,
   "metadata": {},
   "outputs": [],
   "source": []
  }
 ],
 "metadata": {
  "kernelspec": {
   "display_name": "Python 3",
   "language": "python",
   "name": "python3"
  },
  "language_info": {
   "codemirror_mode": {
    "name": "ipython",
    "version": 3
   },
   "file_extension": ".py",
   "mimetype": "text/x-python",
   "name": "python",
   "nbconvert_exporter": "python",
   "pygments_lexer": "ipython3",
   "version": "3.8.5"
  }
 },
 "nbformat": 4,
 "nbformat_minor": 4
}
