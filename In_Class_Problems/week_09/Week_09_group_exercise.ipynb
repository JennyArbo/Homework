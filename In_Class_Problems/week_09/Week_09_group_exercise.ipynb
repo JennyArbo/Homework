{
 "cells": [
  {
   "cell_type": "markdown",
   "metadata": {},
   "source": [
    "## Questions for this Week\n",
    "\n",
    "### 1. Use this article to answer the following questions:\n",
    "#### https://realpython.com/numpy-scipy-pandas-correlation-python/\n",
    "#### a. In a jupyter notebook markdown cell, describe the difference between linear and rank correlation.\n",
    "#### b. Create a scatter plot showing the relationship between calculated_host_listings_count and availability_365 in the Belize Airbnb data\n",
    "#### c. Calculate the correlation coefficient for the data in the scatter plot, and describe what is happening.\n",
    "### 2. Create a box and whisker plot for the Belize Airbnb data price. In a markdown cell, describe what is going on in as simple of terms as possible. Use the documentation https://matplotlib.org/3.1.1/api/_as_gen/matplotlib.pyplot.boxplot.html"
   ]
  },
  {
   "cell_type": "markdown",
   "metadata": {},
   "source": [
    "# Linear vs. Rank Correlation\n",
    "\n",
    "## Linear Correlations & Pearson Correlation Coefficient\n",
    "#### Linear correlation is a measurement of how closely a set of variables of features of a particular dataset are related to a linear function.\n",
    "\n",
    "#### The Pearson (or product-moment) correlation coefficient is a numerical representation of the linear correlation between features of a given dataset and is denoted as the letter r. Values of r range from -1 (perfect negative linear correlation) to 1 (perfect positive linear correlation) with 0 indicating no linear correlation between values.\n",
    "\n",
    "### Implementation in Python\n",
    "#### linear_regression = scipy.stats.linregress(x,y) is used to calculate a linear regression with a given set of x and y values or observations. \n",
    "\n",
    "#### Basic statistics can be calculated in Python in the following manner:\n",
    "##### r: linear_regression.rvalue\n",
    "\n",
    "#### The same basic command holds true for p values, standard error, slope, and intercept \n",
    "\n",
    "#### A summary of the statistics can also be calculated using the following:\n",
    "#### scipy.stats.linregress(xy)\n",
    "\n",
    "#### Using scipy and numpy:\n",
    "#### r_value, p_value = scipy.stats.pearsonr(x, y)\n",
    "#### np.corrcoef(x, y)\n",
    "\n",
    "\n",
    "## Rank correlation\n",
    "#### Rather than comparing values to a linear function, a rank correlation insteads considers just the order/rank of the variables or features.\n",
    "\n",
    "#### The Spearman correlation coefficient is used for rank correlations and is typically denoted by the greek letter rho and is called Spearman's correlation coefficient or Spearman's rho. Here, the ranks for x and y pairs are used rather than their actual values.Rho also varies between -1 to 1 where 1 indicates that whenever x is increasing so is y (and vice versa) and -1 indicates that when x is increasing y is decreasing (and vice versa).\n",
    "\n",
    "#### Can be considered in Python using:\n",
    "#### scipy.stats.rankdata()\n",
    "\n",
    "#### scipy.stats.spearman(x, y)\n",
    "\n",
    "#### scipy.stats.kendalltau(x, y)\n",
    "\n",
    "#### Example in pandas:\n",
    "#### xy.corr(method='spearman')\n",
    "\n",
    "##### Distribution free data set: maybe used for small datasets because there may not be enough data to determine a correlation; frequently used in teaching statistics to biology students--may not know actual distribution so it can still give some idea. \n",
    "\n",
    "##### Resources from Alexis: https://towardsdatascience.com/clearly-explained-pearson-v-s-spearman-correlation-coefficient-ada2f473b8 \n",
    "##### https://en.wikipedia.org/wiki/Spearman%27s_rank_correlation_coefficient\n"
   ]
  },
  {
   "cell_type": "markdown",
   "metadata": {},
   "source": [
    "### 1B: scatter plot for calculated_host_listings_count and availability_365\n"
   ]
  },
  {
   "cell_type": "code",
   "execution_count": 3,
   "metadata": {},
   "outputs": [
    {
     "data": {
      "text/html": [
       "<div>\n",
       "<style scoped>\n",
       "    .dataframe tbody tr th:only-of-type {\n",
       "        vertical-align: middle;\n",
       "    }\n",
       "\n",
       "    .dataframe tbody tr th {\n",
       "        vertical-align: top;\n",
       "    }\n",
       "\n",
       "    .dataframe thead th {\n",
       "        text-align: right;\n",
       "    }\n",
       "</style>\n",
       "<table border=\"1\" class=\"dataframe\">\n",
       "  <thead>\n",
       "    <tr style=\"text-align: right;\">\n",
       "      <th></th>\n",
       "      <th>id</th>\n",
       "      <th>name</th>\n",
       "      <th>host_id</th>\n",
       "      <th>host_name</th>\n",
       "      <th>neighbourhood_group</th>\n",
       "      <th>neighbourhood</th>\n",
       "      <th>latitude</th>\n",
       "      <th>longitude</th>\n",
       "      <th>room_type</th>\n",
       "      <th>price</th>\n",
       "      <th>minimum_nights</th>\n",
       "      <th>number_of_reviews</th>\n",
       "      <th>last_review</th>\n",
       "      <th>reviews_per_month</th>\n",
       "      <th>calculated_host_listings_count</th>\n",
       "      <th>availability_365</th>\n",
       "    </tr>\n",
       "  </thead>\n",
       "  <tbody>\n",
       "    <tr>\n",
       "      <th>0</th>\n",
       "      <td>36666</td>\n",
       "      <td>Mo's Cozy Casa w/ veranda &amp; access to dock</td>\n",
       "      <td>157752</td>\n",
       "      <td>Monique</td>\n",
       "      <td>Belize</td>\n",
       "      <td>Belize Islands</td>\n",
       "      <td>17.74786</td>\n",
       "      <td>-88.02398</td>\n",
       "      <td>Entire home/apt</td>\n",
       "      <td>141</td>\n",
       "      <td>3</td>\n",
       "      <td>250</td>\n",
       "      <td>2/23/2021</td>\n",
       "      <td>2.00</td>\n",
       "      <td>5</td>\n",
       "      <td>225</td>\n",
       "    </tr>\n",
       "    <tr>\n",
       "      <th>1</th>\n",
       "      <td>36690</td>\n",
       "      <td>Mo's Cozy Cabana w/ comfy veranda &amp; access to ...</td>\n",
       "      <td>157752</td>\n",
       "      <td>Monique</td>\n",
       "      <td>Belize</td>\n",
       "      <td>Belize Islands</td>\n",
       "      <td>17.74832</td>\n",
       "      <td>-88.02474</td>\n",
       "      <td>Entire home/apt</td>\n",
       "      <td>71</td>\n",
       "      <td>3</td>\n",
       "      <td>316</td>\n",
       "      <td>2/19/2021</td>\n",
       "      <td>2.46</td>\n",
       "      <td>5</td>\n",
       "      <td>164</td>\n",
       "    </tr>\n",
       "    <tr>\n",
       "      <th>2</th>\n",
       "      <td>108932</td>\n",
       "      <td>Purple House eco solar  w/ ocean &amp; wildlife views</td>\n",
       "      <td>563377</td>\n",
       "      <td>Michael</td>\n",
       "      <td>Belize</td>\n",
       "      <td>Belize Islands</td>\n",
       "      <td>17.73221</td>\n",
       "      <td>-88.03824</td>\n",
       "      <td>Entire home/apt</td>\n",
       "      <td>191</td>\n",
       "      <td>2</td>\n",
       "      <td>30</td>\n",
       "      <td>3/14/2020</td>\n",
       "      <td>0.78</td>\n",
       "      <td>1</td>\n",
       "      <td>364</td>\n",
       "    </tr>\n",
       "    <tr>\n",
       "      <th>3</th>\n",
       "      <td>110483</td>\n",
       "      <td>Michelo's fuchsia suite</td>\n",
       "      <td>567809</td>\n",
       "      <td>Michel</td>\n",
       "      <td>Stann Creek</td>\n",
       "      <td>Stann Creek Mainland</td>\n",
       "      <td>16.52114</td>\n",
       "      <td>-88.36926</td>\n",
       "      <td>Hotel room</td>\n",
       "      <td>121</td>\n",
       "      <td>1</td>\n",
       "      <td>27</td>\n",
       "      <td>2/24/2020</td>\n",
       "      <td>0.29</td>\n",
       "      <td>3</td>\n",
       "      <td>331</td>\n",
       "    </tr>\n",
       "    <tr>\n",
       "      <th>4</th>\n",
       "      <td>120115</td>\n",
       "      <td>Seaside Villas Second Floor Unit  #4</td>\n",
       "      <td>604999</td>\n",
       "      <td>Bobbi</td>\n",
       "      <td>Belize</td>\n",
       "      <td>Belize Islands</td>\n",
       "      <td>17.74166</td>\n",
       "      <td>-88.02395</td>\n",
       "      <td>Entire home/apt</td>\n",
       "      <td>343</td>\n",
       "      <td>1</td>\n",
       "      <td>30</td>\n",
       "      <td>3/18/2020</td>\n",
       "      <td>0.64</td>\n",
       "      <td>22</td>\n",
       "      <td>203</td>\n",
       "    </tr>\n",
       "    <tr>\n",
       "      <th>5</th>\n",
       "      <td>120116</td>\n",
       "      <td>Valarosa</td>\n",
       "      <td>604999</td>\n",
       "      <td>Bobbi</td>\n",
       "      <td>Belize</td>\n",
       "      <td>Belize Islands</td>\n",
       "      <td>17.73644</td>\n",
       "      <td>-88.02858</td>\n",
       "      <td>Entire home/apt</td>\n",
       "      <td>171</td>\n",
       "      <td>2</td>\n",
       "      <td>49</td>\n",
       "      <td>3/23/2020</td>\n",
       "      <td>0.80</td>\n",
       "      <td>22</td>\n",
       "      <td>0</td>\n",
       "    </tr>\n",
       "    <tr>\n",
       "      <th>6</th>\n",
       "      <td>124794</td>\n",
       "      <td>Sabal Beach - secluded eco-retreat</td>\n",
       "      <td>562206</td>\n",
       "      <td>David &amp; Wayne</td>\n",
       "      <td>Toledo</td>\n",
       "      <td>Toledo Mainland</td>\n",
       "      <td>16.28752</td>\n",
       "      <td>-88.54550</td>\n",
       "      <td>Entire home/apt</td>\n",
       "      <td>232</td>\n",
       "      <td>3</td>\n",
       "      <td>18</td>\n",
       "      <td>1/12/2020</td>\n",
       "      <td>0.16</td>\n",
       "      <td>2</td>\n",
       "      <td>338</td>\n",
       "    </tr>\n",
       "    <tr>\n",
       "      <th>7</th>\n",
       "      <td>152512</td>\n",
       "      <td>Stunning one br apt-kitchen, air con, bikes &amp; ...</td>\n",
       "      <td>733857</td>\n",
       "      <td>Jacki</td>\n",
       "      <td>Stann Creek</td>\n",
       "      <td>Stann Creek Mainland</td>\n",
       "      <td>16.52644</td>\n",
       "      <td>-88.37000</td>\n",
       "      <td>Entire home/apt</td>\n",
       "      <td>165</td>\n",
       "      <td>7</td>\n",
       "      <td>64</td>\n",
       "      <td>2/10/2021</td>\n",
       "      <td>0.57</td>\n",
       "      <td>5</td>\n",
       "      <td>298</td>\n",
       "    </tr>\n",
       "    <tr>\n",
       "      <th>8</th>\n",
       "      <td>152922</td>\n",
       "      <td>rent a private room in a house</td>\n",
       "      <td>735525</td>\n",
       "      <td>Jennifer</td>\n",
       "      <td>Cayo</td>\n",
       "      <td>Cayo</td>\n",
       "      <td>17.25395</td>\n",
       "      <td>-88.76870</td>\n",
       "      <td>Private room</td>\n",
       "      <td>52</td>\n",
       "      <td>1</td>\n",
       "      <td>11</td>\n",
       "      <td>12/14/2019</td>\n",
       "      <td>0.18</td>\n",
       "      <td>1</td>\n",
       "      <td>364</td>\n",
       "    </tr>\n",
       "    <tr>\n",
       "      <th>9</th>\n",
       "      <td>171294</td>\n",
       "      <td>King Deluxe</td>\n",
       "      <td>817242</td>\n",
       "      <td>Michael</td>\n",
       "      <td>Cayo</td>\n",
       "      <td>Cayo</td>\n",
       "      <td>17.16261</td>\n",
       "      <td>-89.06995</td>\n",
       "      <td>Private room</td>\n",
       "      <td>286</td>\n",
       "      <td>1</td>\n",
       "      <td>40</td>\n",
       "      <td>2/3/2020</td>\n",
       "      <td>0.47</td>\n",
       "      <td>8</td>\n",
       "      <td>362</td>\n",
       "    </tr>\n",
       "  </tbody>\n",
       "</table>\n",
       "</div>"
      ],
      "text/plain": [
       "       id                                               name  host_id  \\\n",
       "0   36666         Mo's Cozy Casa w/ veranda & access to dock   157752   \n",
       "1   36690  Mo's Cozy Cabana w/ comfy veranda & access to ...   157752   \n",
       "2  108932  Purple House eco solar  w/ ocean & wildlife views   563377   \n",
       "3  110483                            Michelo's fuchsia suite   567809   \n",
       "4  120115               Seaside Villas Second Floor Unit  #4   604999   \n",
       "5  120116                                           Valarosa   604999   \n",
       "6  124794                 Sabal Beach - secluded eco-retreat   562206   \n",
       "7  152512  Stunning one br apt-kitchen, air con, bikes & ...   733857   \n",
       "8  152922                     rent a private room in a house   735525   \n",
       "9  171294                                        King Deluxe   817242   \n",
       "\n",
       "       host_name neighbourhood_group         neighbourhood  latitude  \\\n",
       "0        Monique              Belize        Belize Islands  17.74786   \n",
       "1        Monique              Belize        Belize Islands  17.74832   \n",
       "2        Michael              Belize        Belize Islands  17.73221   \n",
       "3         Michel         Stann Creek  Stann Creek Mainland  16.52114   \n",
       "4          Bobbi              Belize        Belize Islands  17.74166   \n",
       "5          Bobbi              Belize        Belize Islands  17.73644   \n",
       "6  David & Wayne              Toledo       Toledo Mainland  16.28752   \n",
       "7          Jacki         Stann Creek  Stann Creek Mainland  16.52644   \n",
       "8       Jennifer                Cayo                  Cayo  17.25395   \n",
       "9        Michael                Cayo                  Cayo  17.16261   \n",
       "\n",
       "   longitude        room_type  price  minimum_nights  number_of_reviews  \\\n",
       "0  -88.02398  Entire home/apt    141               3                250   \n",
       "1  -88.02474  Entire home/apt     71               3                316   \n",
       "2  -88.03824  Entire home/apt    191               2                 30   \n",
       "3  -88.36926       Hotel room    121               1                 27   \n",
       "4  -88.02395  Entire home/apt    343               1                 30   \n",
       "5  -88.02858  Entire home/apt    171               2                 49   \n",
       "6  -88.54550  Entire home/apt    232               3                 18   \n",
       "7  -88.37000  Entire home/apt    165               7                 64   \n",
       "8  -88.76870     Private room     52               1                 11   \n",
       "9  -89.06995     Private room    286               1                 40   \n",
       "\n",
       "  last_review  reviews_per_month  calculated_host_listings_count  \\\n",
       "0   2/23/2021               2.00                               5   \n",
       "1   2/19/2021               2.46                               5   \n",
       "2   3/14/2020               0.78                               1   \n",
       "3   2/24/2020               0.29                               3   \n",
       "4   3/18/2020               0.64                              22   \n",
       "5   3/23/2020               0.80                              22   \n",
       "6   1/12/2020               0.16                               2   \n",
       "7   2/10/2021               0.57                               5   \n",
       "8  12/14/2019               0.18                               1   \n",
       "9    2/3/2020               0.47                               8   \n",
       "\n",
       "   availability_365  \n",
       "0               225  \n",
       "1               164  \n",
       "2               364  \n",
       "3               331  \n",
       "4               203  \n",
       "5                 0  \n",
       "6               338  \n",
       "7               298  \n",
       "8               364  \n",
       "9               362  "
      ]
     },
     "execution_count": 3,
     "metadata": {},
     "output_type": "execute_result"
    }
   ],
   "source": [
    "import numpy as np\n",
    "import pandas as pd\n",
    "import math\n",
    "import statistics\n",
    "from scipy import stats\n",
    "\n",
    "#reading the csv file and displaying first 10 results as a reference for myself\n",
    "belize_df = pd.read_csv('belize_airbnb_listings.csv')\n",
    "belize_df.head(10)"
   ]
  },
  {
   "cell_type": "code",
   "execution_count": 4,
   "metadata": {},
   "outputs": [],
   "source": [
    "listings=belize_df['calculated_host_listings_count'];"
   ]
  },
  {
   "cell_type": "code",
   "execution_count": 5,
   "metadata": {},
   "outputs": [],
   "source": [
    "availability = belize_df['availability_365']\n"
   ]
  },
  {
   "cell_type": "code",
   "execution_count": 8,
   "metadata": {},
   "outputs": [
    {
     "data": {
      "text/plain": [
       "<AxesSubplot:xlabel='calculated_host_listings_count', ylabel='availability_365'>"
      ]
     },
     "execution_count": 8,
     "metadata": {},
     "output_type": "execute_result"
    },
    {
     "data": {
      "image/png": "[encoded data removed]",
      "text/plain": [
       "<Figure size 432x288 with 1 Axes>"
      ]
     },
     "metadata": {
      "needs_background": "light"
     },
     "output_type": "display_data"
    }
   ],
   "source": [
    "import matplotlib.pyplot as plt\n",
    "#plt.scatter(listings, availability, edgecolors='k')\n",
    "#plt.title('Listings vs. Availability of Belize Airbnb Data')\n",
    "#plt.xlabel('Host Listings')\n",
    "#plt.ylabel('Availability')\n",
    "#plt.show()\n",
    "\n",
    "import seaborn as sns\n",
    "sns.scatterplot(x= 'calculated_host_listings_count', y= 'availability_365', data = belize_df)"
   ]
  },
  {
   "cell_type": "markdown",
   "metadata": {},
   "source": [
    "### 1C: correlation coefficient for data in scatter plot"
   ]
  },
  {
   "cell_type": "code",
   "execution_count": 18,
   "metadata": {},
   "outputs": [
    {
     "name": "stdout",
     "output_type": "stream",
     "text": [
      "[[1.         0.17275503]\n",
      " [0.17275503 1.        ]]\n"
     ]
    }
   ],
   "source": [
    "r = np.corrcoef(listings, availability)\n",
    "print(r)"
   ]
  },
  {
   "cell_type": "markdown",
   "metadata": {},
   "source": [
    "#### There is essentially no correlation between listings and availability."
   ]
  },
  {
   "cell_type": "markdown",
   "metadata": {},
   "source": [
    "## 2:  Create a box and whisker plot for the Belize Airbnb data price. In a markdown cell, describe what is going on in as simple of terms as possible. Use the documentation https://matplotlib.org/3.1.1/api/_as_gen/matplotlib.pyplot.boxplot.html"
   ]
  },
  {
   "cell_type": "code",
   "execution_count": 19,
   "metadata": {},
   "outputs": [
    {
     "data": {
      "text/plain": [
       "Text(0.5, 1.0, 'Belize Air Bnb Price Boxplot (Price distribution)')"
      ]
     },
     "execution_count": 19,
     "metadata": {},
     "output_type": "execute_result"
    },
    {
     "data": {
      "image/png": "[encoded data removed]",
      "text/plain": [
       "<Figure size 432x288 with 1 Axes>"
      ]
     },
     "metadata": {
      "needs_background": "light"
     },
     "output_type": "display_data"
    }
   ],
   "source": [
    "##Boxplot\n",
    "\n",
    "sns.boxplot(y='price', data=belize_df)\n",
    "\n",
    "#Labeling and adjusting the boxplot\n",
    "plt.ylabel(\"Price\", size=15)\n",
    "plt.title(\"Belize Air Bnb Price Boxplot (Price distribution)\", size=15)\n"
   ]
  },
  {
   "cell_type": "code",
   "execution_count": 20,
   "metadata": {},
   "outputs": [
    {
     "data": {
      "text/plain": [
       "Text(0.5, 1.0, 'Belize Air Bnb Price Boxplot (Price distribution)')"
      ]
     },
     "execution_count": 20,
     "metadata": {},
     "output_type": "execute_result"
    },
    {
     "data": {
      "image/png": "[encoded data removed]",
      "text/plain": [
       "<Figure size 432x288 with 1 Axes>"
      ]
     },
     "metadata": {
      "needs_background": "light"
     },
     "output_type": "display_data"
    }
   ],
   "source": [
    "# Boxplot with no outliers\n",
    "sns.boxplot(y='price', data=belize_df, showfliers = False)\n",
    "\n",
    "plt.ylabel(\"Price\", size=15)\n",
    "plt.title(\"Belize Air Bnb Price Boxplot (Price distribution)\", size=15)"
   ]
  },
  {
   "cell_type": "markdown",
   "metadata": {},
   "source": [
    "### There are some very high priced outliers in this dataset. As a result, the boxplot is compressed and it difficult to see the quartile and median values. In the second plot, I opted to not show these outliers so we can see the rest of the plot more clearly. The range of price values is quite large, but the vast majority of prices are much lower than than the higher priced outliers. \n"
   ]
  },
  {
   "cell_type": "code",
   "execution_count": null,
   "metadata": {},
   "outputs": [],
   "source": []
  }
 ],
 "metadata": {
  "kernelspec": {
   "display_name": "Python 3",
   "language": "python",
   "name": "python3"
  },
  "language_info": {
   "codemirror_mode": {
    "name": "ipython",
    "version": 3
   },
   "file_extension": ".py",
   "mimetype": "text/x-python",
   "name": "python",
   "nbconvert_exporter": "python",
   "pygments_lexer": "ipython3",
   "version": "3.8.5"
  }
 },
 "nbformat": 4,
 "nbformat_minor": 4
}
