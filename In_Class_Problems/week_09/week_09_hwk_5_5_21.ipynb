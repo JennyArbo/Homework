{
 "cells": [
  {
   "cell_type": "markdown",
   "metadata": {},
   "source": [
    "# Assignment Questions:\n",
    "\n",
    "### 1) Create two histograms in a subplot (vertical or horizontal is fine) that show the distribution of reviews_per_month and number_of_reviews in Belize Airbnb data \n",
    "####      a) How do you choose your bin size?\n",
    "\n",
    "### 2) Create a box and whisker plot for availability_365. What does this show you?\n",
    "\n",
    "### 3) What is the probability that the price for an Airbnb is under 50 dollars.\n",
    "####      a) What do you notice about these records? Hint: look at the other columns.\n",
    "####      b) What distribution does this data most closely fit?\n",
    "\n",
    "### 4) Calculate the sample variance and standard deviation for all the numerical columns in the same output. \n",
    "####      a) Why sample variance and not population variance?\n",
    "####      b) What is your takeaway for each metric?\n",
    "####      c) What are the scales of measurement for each of these values? \n",
    "\n",
    "### 5) What percent of Airbnb listings in Belize are available 360 days a year or more?\n",
    "####     a) 360 days or less?\n",
    "####     b) What distribution does this data most closely fit?\n",
    "\n",
    "### 6) What minimum night count are 75% of Airnbnb listing in Belize greater than?"
   ]
  },
  {
   "cell_type": "markdown",
   "metadata": {},
   "source": [
    "### 1) Create two histograms in a subplot (vertical or horizontal is fine) that show the distribution of reviews_per_month and number_of_reviews in Belize Airbnb data "
   ]
  },
  {
   "cell_type": "code",
   "execution_count": 1,
   "metadata": {},
   "outputs": [
    {
     "data": {
      "text/html": [
       "<div>\n",
       "<style scoped>\n",
       "    .dataframe tbody tr th:only-of-type {\n",
       "        vertical-align: middle;\n",
       "    }\n",
       "\n",
       "    .dataframe tbody tr th {\n",
       "        vertical-align: top;\n",
       "    }\n",
       "\n",
       "    .dataframe thead th {\n",
       "        text-align: right;\n",
       "    }\n",
       "</style>\n",
       "<table border=\"1\" class=\"dataframe\">\n",
       "  <thead>\n",
       "    <tr style=\"text-align: right;\">\n",
       "      <th></th>\n",
       "      <th>id</th>\n",
       "      <th>name</th>\n",
       "      <th>host_id</th>\n",
       "      <th>host_name</th>\n",
       "      <th>neighbourhood_group</th>\n",
       "      <th>neighbourhood</th>\n",
       "      <th>latitude</th>\n",
       "      <th>longitude</th>\n",
       "      <th>room_type</th>\n",
       "      <th>price</th>\n",
       "      <th>minimum_nights</th>\n",
       "      <th>number_of_reviews</th>\n",
       "      <th>last_review</th>\n",
       "      <th>reviews_per_month</th>\n",
       "      <th>calculated_host_listings_count</th>\n",
       "      <th>availability_365</th>\n",
       "    </tr>\n",
       "  </thead>\n",
       "  <tbody>\n",
       "    <tr>\n",
       "      <th>0</th>\n",
       "      <td>36666</td>\n",
       "      <td>Mo's Cozy Casa w/ veranda &amp; access to dock</td>\n",
       "      <td>157752</td>\n",
       "      <td>Monique</td>\n",
       "      <td>Belize</td>\n",
       "      <td>Belize Islands</td>\n",
       "      <td>17.74786</td>\n",
       "      <td>-88.02398</td>\n",
       "      <td>Entire home/apt</td>\n",
       "      <td>141</td>\n",
       "      <td>3</td>\n",
       "      <td>250</td>\n",
       "      <td>2/23/2021</td>\n",
       "      <td>2.00</td>\n",
       "      <td>5</td>\n",
       "      <td>225</td>\n",
       "    </tr>\n",
       "    <tr>\n",
       "      <th>1</th>\n",
       "      <td>36690</td>\n",
       "      <td>Mo's Cozy Cabana w/ comfy veranda &amp; access to ...</td>\n",
       "      <td>157752</td>\n",
       "      <td>Monique</td>\n",
       "      <td>Belize</td>\n",
       "      <td>Belize Islands</td>\n",
       "      <td>17.74832</td>\n",
       "      <td>-88.02474</td>\n",
       "      <td>Entire home/apt</td>\n",
       "      <td>71</td>\n",
       "      <td>3</td>\n",
       "      <td>316</td>\n",
       "      <td>2/19/2021</td>\n",
       "      <td>2.46</td>\n",
       "      <td>5</td>\n",
       "      <td>164</td>\n",
       "    </tr>\n",
       "    <tr>\n",
       "      <th>2</th>\n",
       "      <td>108932</td>\n",
       "      <td>Purple House eco solar  w/ ocean &amp; wildlife views</td>\n",
       "      <td>563377</td>\n",
       "      <td>Michael</td>\n",
       "      <td>Belize</td>\n",
       "      <td>Belize Islands</td>\n",
       "      <td>17.73221</td>\n",
       "      <td>-88.03824</td>\n",
       "      <td>Entire home/apt</td>\n",
       "      <td>191</td>\n",
       "      <td>2</td>\n",
       "      <td>30</td>\n",
       "      <td>3/14/2020</td>\n",
       "      <td>0.78</td>\n",
       "      <td>1</td>\n",
       "      <td>364</td>\n",
       "    </tr>\n",
       "    <tr>\n",
       "      <th>3</th>\n",
       "      <td>110483</td>\n",
       "      <td>Michelo's fuchsia suite</td>\n",
       "      <td>567809</td>\n",
       "      <td>Michel</td>\n",
       "      <td>Stann Creek</td>\n",
       "      <td>Stann Creek Mainland</td>\n",
       "      <td>16.52114</td>\n",
       "      <td>-88.36926</td>\n",
       "      <td>Hotel room</td>\n",
       "      <td>121</td>\n",
       "      <td>1</td>\n",
       "      <td>27</td>\n",
       "      <td>2/24/2020</td>\n",
       "      <td>0.29</td>\n",
       "      <td>3</td>\n",
       "      <td>331</td>\n",
       "    </tr>\n",
       "    <tr>\n",
       "      <th>4</th>\n",
       "      <td>120115</td>\n",
       "      <td>Seaside Villas Second Floor Unit  #4</td>\n",
       "      <td>604999</td>\n",
       "      <td>Bobbi</td>\n",
       "      <td>Belize</td>\n",
       "      <td>Belize Islands</td>\n",
       "      <td>17.74166</td>\n",
       "      <td>-88.02395</td>\n",
       "      <td>Entire home/apt</td>\n",
       "      <td>343</td>\n",
       "      <td>1</td>\n",
       "      <td>30</td>\n",
       "      <td>3/18/2020</td>\n",
       "      <td>0.64</td>\n",
       "      <td>22</td>\n",
       "      <td>203</td>\n",
       "    </tr>\n",
       "    <tr>\n",
       "      <th>5</th>\n",
       "      <td>120116</td>\n",
       "      <td>Valarosa</td>\n",
       "      <td>604999</td>\n",
       "      <td>Bobbi</td>\n",
       "      <td>Belize</td>\n",
       "      <td>Belize Islands</td>\n",
       "      <td>17.73644</td>\n",
       "      <td>-88.02858</td>\n",
       "      <td>Entire home/apt</td>\n",
       "      <td>171</td>\n",
       "      <td>2</td>\n",
       "      <td>49</td>\n",
       "      <td>3/23/2020</td>\n",
       "      <td>0.80</td>\n",
       "      <td>22</td>\n",
       "      <td>0</td>\n",
       "    </tr>\n",
       "    <tr>\n",
       "      <th>6</th>\n",
       "      <td>124794</td>\n",
       "      <td>Sabal Beach - secluded eco-retreat</td>\n",
       "      <td>562206</td>\n",
       "      <td>David &amp; Wayne</td>\n",
       "      <td>Toledo</td>\n",
       "      <td>Toledo Mainland</td>\n",
       "      <td>16.28752</td>\n",
       "      <td>-88.54550</td>\n",
       "      <td>Entire home/apt</td>\n",
       "      <td>232</td>\n",
       "      <td>3</td>\n",
       "      <td>18</td>\n",
       "      <td>1/12/2020</td>\n",
       "      <td>0.16</td>\n",
       "      <td>2</td>\n",
       "      <td>338</td>\n",
       "    </tr>\n",
       "    <tr>\n",
       "      <th>7</th>\n",
       "      <td>152512</td>\n",
       "      <td>Stunning one br apt-kitchen, air con, bikes &amp; ...</td>\n",
       "      <td>733857</td>\n",
       "      <td>Jacki</td>\n",
       "      <td>Stann Creek</td>\n",
       "      <td>Stann Creek Mainland</td>\n",
       "      <td>16.52644</td>\n",
       "      <td>-88.37000</td>\n",
       "      <td>Entire home/apt</td>\n",
       "      <td>165</td>\n",
       "      <td>7</td>\n",
       "      <td>64</td>\n",
       "      <td>2/10/2021</td>\n",
       "      <td>0.57</td>\n",
       "      <td>5</td>\n",
       "      <td>298</td>\n",
       "    </tr>\n",
       "    <tr>\n",
       "      <th>8</th>\n",
       "      <td>152922</td>\n",
       "      <td>rent a private room in a house</td>\n",
       "      <td>735525</td>\n",
       "      <td>Jennifer</td>\n",
       "      <td>Cayo</td>\n",
       "      <td>Cayo</td>\n",
       "      <td>17.25395</td>\n",
       "      <td>-88.76870</td>\n",
       "      <td>Private room</td>\n",
       "      <td>52</td>\n",
       "      <td>1</td>\n",
       "      <td>11</td>\n",
       "      <td>12/14/2019</td>\n",
       "      <td>0.18</td>\n",
       "      <td>1</td>\n",
       "      <td>364</td>\n",
       "    </tr>\n",
       "    <tr>\n",
       "      <th>9</th>\n",
       "      <td>171294</td>\n",
       "      <td>King Deluxe</td>\n",
       "      <td>817242</td>\n",
       "      <td>Michael</td>\n",
       "      <td>Cayo</td>\n",
       "      <td>Cayo</td>\n",
       "      <td>17.16261</td>\n",
       "      <td>-89.06995</td>\n",
       "      <td>Private room</td>\n",
       "      <td>286</td>\n",
       "      <td>1</td>\n",
       "      <td>40</td>\n",
       "      <td>2/3/2020</td>\n",
       "      <td>0.47</td>\n",
       "      <td>8</td>\n",
       "      <td>362</td>\n",
       "    </tr>\n",
       "  </tbody>\n",
       "</table>\n",
       "</div>"
      ],
      "text/plain": [
       "       id                                               name  host_id  \\\n",
       "0   36666         Mo's Cozy Casa w/ veranda & access to dock   157752   \n",
       "1   36690  Mo's Cozy Cabana w/ comfy veranda & access to ...   157752   \n",
       "2  108932  Purple House eco solar  w/ ocean & wildlife views   563377   \n",
       "3  110483                            Michelo's fuchsia suite   567809   \n",
       "4  120115               Seaside Villas Second Floor Unit  #4   604999   \n",
       "5  120116                                           Valarosa   604999   \n",
       "6  124794                 Sabal Beach - secluded eco-retreat   562206   \n",
       "7  152512  Stunning one br apt-kitchen, air con, bikes & ...   733857   \n",
       "8  152922                     rent a private room in a house   735525   \n",
       "9  171294                                        King Deluxe   817242   \n",
       "\n",
       "       host_name neighbourhood_group         neighbourhood  latitude  \\\n",
       "0        Monique              Belize        Belize Islands  17.74786   \n",
       "1        Monique              Belize        Belize Islands  17.74832   \n",
       "2        Michael              Belize        Belize Islands  17.73221   \n",
       "3         Michel         Stann Creek  Stann Creek Mainland  16.52114   \n",
       "4          Bobbi              Belize        Belize Islands  17.74166   \n",
       "5          Bobbi              Belize        Belize Islands  17.73644   \n",
       "6  David & Wayne              Toledo       Toledo Mainland  16.28752   \n",
       "7          Jacki         Stann Creek  Stann Creek Mainland  16.52644   \n",
       "8       Jennifer                Cayo                  Cayo  17.25395   \n",
       "9        Michael                Cayo                  Cayo  17.16261   \n",
       "\n",
       "   longitude        room_type  price  minimum_nights  number_of_reviews  \\\n",
       "0  -88.02398  Entire home/apt    141               3                250   \n",
       "1  -88.02474  Entire home/apt     71               3                316   \n",
       "2  -88.03824  Entire home/apt    191               2                 30   \n",
       "3  -88.36926       Hotel room    121               1                 27   \n",
       "4  -88.02395  Entire home/apt    343               1                 30   \n",
       "5  -88.02858  Entire home/apt    171               2                 49   \n",
       "6  -88.54550  Entire home/apt    232               3                 18   \n",
       "7  -88.37000  Entire home/apt    165               7                 64   \n",
       "8  -88.76870     Private room     52               1                 11   \n",
       "9  -89.06995     Private room    286               1                 40   \n",
       "\n",
       "  last_review  reviews_per_month  calculated_host_listings_count  \\\n",
       "0   2/23/2021               2.00                               5   \n",
       "1   2/19/2021               2.46                               5   \n",
       "2   3/14/2020               0.78                               1   \n",
       "3   2/24/2020               0.29                               3   \n",
       "4   3/18/2020               0.64                              22   \n",
       "5   3/23/2020               0.80                              22   \n",
       "6   1/12/2020               0.16                               2   \n",
       "7   2/10/2021               0.57                               5   \n",
       "8  12/14/2019               0.18                               1   \n",
       "9    2/3/2020               0.47                               8   \n",
       "\n",
       "   availability_365  \n",
       "0               225  \n",
       "1               164  \n",
       "2               364  \n",
       "3               331  \n",
       "4               203  \n",
       "5                 0  \n",
       "6               338  \n",
       "7               298  \n",
       "8               364  \n",
       "9               362  "
      ]
     },
     "execution_count": 1,
     "metadata": {},
     "output_type": "execute_result"
    }
   ],
   "source": [
    "import numpy as np\n",
    "import pandas as pd\n",
    "import math\n",
    "import statistics\n",
    "import seaborn as sns\n",
    "from scipy import stats\n",
    "\n",
    "#reading the csv file and displaying first 10 results as a reference for myself\n",
    "belize_df = pd.read_csv('belize_airbnb_listings.csv')\n",
    "belize_df.head(10)"
   ]
  },
  {
   "cell_type": "code",
   "execution_count": 2,
   "metadata": {},
   "outputs": [
    {
     "data": {
      "image/png": "[encoded data removed]",
      "text/plain": [
       "<Figure size 576x576 with 2 Axes>"
      ]
     },
     "metadata": {
      "needs_background": "light"
     },
     "output_type": "display_data"
    }
   ],
   "source": [
    "#loading seaborn and matplotlib\n",
    "import seaborn as sns\n",
    "import matplotlib.pyplot as plt\n",
    "\n",
    "\n",
    "#First, making sure I can get the plots to work and seeing what they look like with default bins\n",
    "#This creates the first (left subplot)--this is for reviews per month\n",
    "#plt.subplot(1, 2, 1) \n",
    "#Making a histogram of the number of reviews per month\n",
    "#plt.hist(data = belize_df, x = 'reviews_per_month')\n",
    "\n",
    "#This creates the second (right)subplot--this is for number of reviews\n",
    "#plt.subplot(1, 2, 2) \n",
    "#Making a histogram of number of reviews\n",
    "#plt.hist(data = belize_df, x = 'number_of_reviews')\n",
    "\n",
    "# Setting up the figure and setting the size of the figure\n",
    "fig, (ax1, ax2) = plt.subplots(1, 2, figsize=(8,8))\n",
    "\n",
    "# Inputting information for the first histogram plot\n",
    "ax1.hist(data=belize_df, x='reviews_per_month', bins=6, color = 'cyan', edgecolor = 'black')\n",
    "\n",
    "# Setting the title and axes labels for my first subplot\n",
    "ax1.set(title = \"Belize AirBnb reviews per month\",\n",
    "       xlabel = \"Reviews per month\")\n",
    "\n",
    "# Inputting information for the second histogram plot (2nd subplot)\n",
    "ax2.hist(data=belize_df, x='number_of_reviews',bins=15, color = 'green', edgecolor = 'black')\n",
    "\n",
    "# Setting the title and axes labels for the second subplot\n",
    "ax2.set(title = \"Belize AirBnb number of reviews\",\n",
    "       xlabel = \"Number of reviews\")\n",
    "\n",
    "plt.show()\n",
    "\n",
    "#This gives me a starting point but it is clear that we aren't seeing many details here and bin sizes should be reduced."
   ]
  },
  {
   "cell_type": "code",
   "execution_count": 3,
   "metadata": {},
   "outputs": [
    {
     "data": {
      "text/plain": [
       "(array([2.238e+03, 2.530e+02, 1.220e+02, 5.700e+01, 3.200e+01, 3.500e+01,\n",
       "        2.000e+01, 1.300e+01, 1.000e+01, 6.000e+00, 6.000e+00, 1.000e+00,\n",
       "        1.000e+00, 0.000e+00, 1.000e+00, 1.000e+00]),\n",
       " array([  0,  20,  40,  60,  80, 100, 120, 140, 160, 180, 200, 220, 240,\n",
       "        260, 280, 300, 320]),\n",
       " <BarContainer object of 16 artists>)"
      ]
     },
     "execution_count": 3,
     "metadata": {},
     "output_type": "execute_result"
    },
    {
     "data": {
      "image/png": "[encoded data removed]",
      "text/plain": [
       "<Figure size 432x288 with 2 Axes>"
      ]
     },
     "metadata": {
      "needs_background": "light"
     },
     "output_type": "display_data"
    }
   ],
   "source": [
    "#I would like to extract more details out of the data so I'm trying a new bin size for each subplot-I just wanted \n",
    "#demonstrate to myself that my previous bin sizes were appropriate.\n",
    "\n",
    "bin_size_monthly = [0, 0.25, 0.5, 0.75, 1.0, 1.25, 1.5, 1.75, 2.0, 2.25, 2.5, 2.75, 3.0, 3.25, 3.5, 3.75, 4.0, 4.25, 4.5, 4.75, 5.0, 5.25, 5.5, 5.75, 6.0, 6.25]\n",
    "bin_size_total = [0, 20, 40, 60, 80, 100, 120, 140, 160, 180, 200, 220, 240, 260, 280, 300, 320]\n",
    "\n",
    "\n",
    "plt.subplot(1, 2, 1) \n",
    "#Making a histogram of the number of reviews per month\n",
    "plt.hist(data = belize_df, x = 'reviews_per_month', bins = bin_size_monthly)\n",
    "\n",
    "#This creates the second (right)subplot--this is for number of reviews\n",
    "plt.subplot(1, 2, 2) \n",
    "#Making a histogram of number of reviews\n",
    "plt.hist(data = belize_df, x = 'number_of_reviews', bins = bin_size_total)"
   ]
  },
  {
   "cell_type": "code",
   "execution_count": 4,
   "metadata": {},
   "outputs": [
    {
     "data": {
      "image/png": "[encoded data removed]",
      "text/plain": [
       "<Figure size 432x288 with 2 Axes>"
      ]
     },
     "metadata": {
      "needs_background": "light"
     },
     "output_type": "display_data"
    }
   ],
   "source": [
    "plt.subplot(1, 2, 1) \n",
    "w = 0.05\n",
    "n = math.ceil((belize_df['reviews_per_month'].max() - belize_df['reviews_per_month'].min())/w)\n",
    "ax = plt.hist(belize_df['reviews_per_month'], bins = n)\n",
    "\n",
    "plt.subplot(1, 2, 2) \n",
    "x = 5\n",
    "a = math.ceil((belize_df['number_of_reviews'].max() - belize_df['number_of_reviews'].min())/x)\n",
    "ax = plt.hist(belize_df['reviews_per_month'], bins = a)"
   ]
  },
  {
   "cell_type": "code",
   "execution_count": 5,
   "metadata": {},
   "outputs": [
    {
     "data": {
      "image/png": "[encoded data removed]",
      "text/plain": [
       "<Figure size 432x288 with 2 Axes>"
      ]
     },
     "metadata": {
      "needs_background": "light"
     },
     "output_type": "display_data"
    }
   ],
   "source": [
    "plt.subplot(1, 2, 1) \n",
    "w = 0.2\n",
    "n = math.ceil((belize_df['reviews_per_month'].max() - belize_df['reviews_per_month'].min())/w)\n",
    "ax = plt.hist(belize_df['reviews_per_month'], bins = n)\n",
    "\n",
    "plt.subplot(1, 2, 2) \n",
    "x = 20\n",
    "a = math.ceil((belize_df['number_of_reviews'].max() - belize_df['number_of_reviews'].min())/x)\n",
    "ax = plt.hist(belize_df['reviews_per_month'], bins = a)"
   ]
  },
  {
   "cell_type": "markdown",
   "metadata": {},
   "source": [
    "### 1a) How do you choose your bin size?\n",
    "\n",
    "##### Picking a bin size depends on a munber of different parameters. In the end, it is typically a judgment call, although there do exist a number of formulas (such as Rice's formula) that can be helpful when determining how many bins should be used. If you use too few bins, you don't accurately capture the shape of the data. If you choose too many, the histogram can show too much (unneeded) detail and the signal can become lost in the potential noise introduced by including so many bins. Larger datasets generally call for higher number of bins but not always (consider a test where you may not wish to break scores down further even if there are many students).\n",
    "\n",
    "##### For my 1st set of plots (I do think these are the appropriate bin sizes), I set the bins to represent 1 review for the reviews per month plot and 20 reviews for the total reviews plot. To me, it made sense to not divide the bins down further. For the total number of reviews, I chose vins of 20 because it gave a reasonable amount information/detail without cluttering the plot. \n"
   ]
  },
  {
   "cell_type": "markdown",
   "metadata": {},
   "source": [
    "### 2) Create a box and whisker plot for availability_365. What does this show you?"
   ]
  },
  {
   "cell_type": "code",
   "execution_count": 6,
   "metadata": {},
   "outputs": [
    {
     "data": {
      "text/plain": [
       "count    2796.000000\n",
       "mean      280.315451\n",
       "std       120.617632\n",
       "min         0.000000\n",
       "25%       221.000000\n",
       "50%       349.000000\n",
       "75%       364.000000\n",
       "max       365.000000\n",
       "Name: availability_365, dtype: float64"
      ]
     },
     "execution_count": 6,
     "metadata": {},
     "output_type": "execute_result"
    },
    {
     "data": {
      "image/png": "[encoded data removed]",
      "text/plain": [
       "<Figure size 432x288 with 1 Axes>"
      ]
     },
     "metadata": {
      "needs_background": "light"
     },
     "output_type": "display_data"
    }
   ],
   "source": [
    "##Boxplot\n",
    "\n",
    "sns.boxplot(y='availability_365', data=belize_df)\n",
    "\n",
    "#Labeling and adjusting the boxplot\n",
    "plt.ylabel(\"Availability\", size=15)\n",
    "plt.title(\"Belize Air Bnb Availability\", size=15)\n",
    "\n",
    "belize_df['availability_365'].describe()"
   ]
  },
  {
   "cell_type": "markdown",
   "metadata": {},
   "source": [
    "##### This shows that the vast majority of the Air Bnb availability is between about 220-365 days per year (with the median being around 350 days of availability). Many rentals are available for more than 350 days (data is significantly skewed towards high availability). There are some units with very low availability but those are the exception, not the rule."
   ]
  },
  {
   "cell_type": "markdown",
   "metadata": {},
   "source": [
    "### 3) What is the probability that the price for an Airbnb is under 50 dollars."
   ]
  },
  {
   "cell_type": "code",
   "execution_count": 34,
   "metadata": {},
   "outputs": [
    {
     "name": "stdout",
     "output_type": "stream",
     "text": [
      "0.292755088508575\n",
      "0.017525035765379112\n",
      "skew for price is 9.115141627062858\n",
      "SkewtestResult(statistic=55.07345199570821, pvalue=0.0)\n",
      "(246.20133064594887, 22.138469719886952, 655.1312124420939)\n",
      "0.03392234277730671\n"
     ]
    },
    {
     "data": {
      "image/png": "[encoded data removed]",
      "text/plain": [
       "<Figure size 576x576 with 2 Axes>"
      ]
     },
     "metadata": {
      "needs_background": "light"
     },
     "output_type": "display_data"
    }
   ],
   "source": [
    "from scipy.stats import norm\n",
    "prob_less_50=norm.cdf(50,belize_df['price'].mean(), statistics.stdev(belize_df['price']))\n",
    "print(prob_less_50)\n",
    "\n",
    "#I suspect I cannot actually do this because the distribution is not normal (it is skew normal). A fellow student\n",
    "# suggested that the TAs told her to actually calculate the probability given the data. \n",
    "#Here is that attempt:\n",
    "\n",
    "#making 2 new data frames-1 for values of price less than $50 and the other for values of price greater than or \n",
    "#equal to $50\n",
    "price_under50_df= belize_df[belize_df[\"price\"] <50]\n",
    "price_over50_df=belize_df[belize_df[\"price\"] >= 50]\n",
    "\n",
    "\n",
    "#To calculate the probability, we need to consider the number of possibilities that satisfy our condition (<$50)\n",
    "# and divide that by the total number of possibilities ( P(<$50) = len(price_under50_df[\"price\"])/len(belize_df[\"price\"])\n",
    "prob_u50=(len(price_under50_df['price']))/(len(belize_df['price']))\n",
    "print(prob_u50)\n",
    "\n",
    "#Based off of in class discussion, I find that I have done this problem incorrectly. \n",
    "#I'm revisiting this problem using a skew normal distribution and the built in functions in scipy and numpy.\n",
    "\n",
    "\n",
    "  \n",
    "from scipy.stats import skewnorm\n",
    "from scipy.stats import skew\n",
    "from scipy.stats import skewtest\n",
    "\n",
    "skew_price=skew(belize_df['price'])\n",
    "print('skew for price is', skew_price)\n",
    "print(skewtest(belize_df['price']))\n",
    "print(skewnorm.fit(belize_df['price']))\n",
    "\n",
    "#Taking the values from the fit of skewnorm\n",
    "prob_less_50_skew=skewnorm.cdf(50, 246.20133064594887, 22.138469719886952, 655.1312124420939)\n",
    "print(prob_less_50_skew)\n",
    "\n",
    "#print(len(price_under50_df['price']))\n",
    "#print(len(belize_df['price']))\n",
    "\n",
    "\n",
    "#plt.subplot(1, 2, 1) \n",
    "#plt.hist(data = belize_df, x = 'price', bins = 50)\n",
    "#plt.xlim([0, 5500])\n",
    "\n",
    "#plt.subplot(1, 2, 2) \n",
    "#plt.hist(data = price_under50_df, x = 'price', bins = 10)\n",
    "\n",
    "\n",
    "\n",
    "# Setting up the figure and setting the size of the figure\n",
    "fig, (ax1, ax2) = plt.subplots(1, 2, figsize=(8,8))\n",
    "\n",
    "# Inputting information for the first histogram plot\n",
    "ax1.hist(data=belize_df, x='price', bins=30, color = 'cyan', edgecolor = 'black')\n",
    "\n",
    "# Setting the title and axes labels for my first subplot\n",
    "ax1.set(title = \"Belize AirBnb price (full dataset)\",\n",
    "       xlabel = \"Price\")\n",
    "\n",
    "# Inputting information for the second histogram plot (2nd subplot)\n",
    "ax2.hist(data=price_under50_df, x='price',bins=20, color = 'purple', edgecolor = 'black')\n",
    "\n",
    "# Setting the title and axes labels for the second subplot\n",
    "ax2.set(title = \"Belize AirBnb price (subset of rentals <$50)\",\n",
    "       xlabel = \"Price\")\n",
    "\n",
    "plt.show()"
   ]
  },
  {
   "cell_type": "markdown",
   "metadata": {},
   "source": [
    "#### 3a) What do you notice about these records? Hint: look at the other columns."
   ]
  },
  {
   "cell_type": "code",
   "execution_count": 15,
   "metadata": {},
   "outputs": [
    {
     "name": "stdout",
     "output_type": "stream",
     "text": [
      "['Entire home/apt' 'Hotel room' 'Private room' 'Shared room']\n",
      "49\n"
     ]
    },
    {
     "data": {
      "image/png": "[encoded data removed]",
      "text/plain": [
       "<Figure size 432x288 with 1 Axes>"
      ]
     },
     "metadata": {
      "needs_background": "light"
     },
     "output_type": "display_data"
    },
    {
     "data": {
      "image/png": "[encoded data removed]",
      "text/plain": [
       "<Figure size 432x288 with 1 Axes>"
      ]
     },
     "metadata": {
      "needs_background": "light"
     },
     "output_type": "display_data"
    }
   ],
   "source": [
    "# Making plots with other data to identify possible relationships\n",
    "\n",
    "#First, considering room type\n",
    "#sns.scatterplot(x='room_type', y='price', data=price_under50_df)\n",
    "uniqueValues_rt = belize_df['room_type'].unique()\n",
    "print(uniqueValues_rt)\n",
    "print(len(price_under50_df['room_type']))\n",
    "#Based on this information, we can tell that there are no hotel rooms for rentals under $50.\n",
    "#We can also conclude that at this price point, it appears most rentals are private rooms for this price range.\n",
    "\n",
    "\n",
    "#Next, looking at minimum night requirements\n",
    "#plt.hist(x='minimum_nights', data=price_under50_df, bins=30)\n",
    "#plt.show()\n",
    "\n",
    "#sns.scatterplot(x='minimum_nights', y='price', data=price_under50_df)\n",
    "\n",
    "\n",
    "#Considering neighborhoods\n",
    "#plt.hist(x='neighbourhood', data=price_under50_df, bins=30)\n",
    "#plt.xticks(rotation = 90)\n",
    "#plt.show()\n",
    "\n",
    "#plt.hist(x='neighbourhood', data=belize_df, bins=30)\n",
    "#plt.xticks(rotation = 90)\n",
    "#plt.show()\n",
    "\n",
    "#considering availability\n",
    "#plt.hist(x='availability_365', data=price_under50_df, bins=30)\n",
    "#plt.xticks(rotation = 90)\n",
    "#plt.show()\n",
    "\n",
    "#plt.hist(x='availability_365', data=belize_df, bins=30)\n",
    "#plt.xticks(rotation = 90)\n",
    "#plt.show()\n",
    "\n",
    "#considering reviews per month\n",
    "#plt.hist(x='reviews_per_month', data=price_under50_df, bins=6)\n",
    "#plt.xticks(rotation = 90)\n",
    "#plt.show()\n",
    "\n",
    "#plt.hist(x='reviews_per_month', data=belize_df, bins=6)\n",
    "#plt.xticks(rotation = 90)\n",
    "#plt.show()\n",
    "\n",
    "#considering total reviews \n",
    "#plt.hist(x='number_of_reviews', data=price_under50_df, bins=6)\n",
    "#plt.xticks(rotation = 90)\n",
    "#plt.show()\n",
    "\n",
    "#plt.hist(x='number_of_reviews', data=belize_df, bins=6)\n",
    "#plt.xticks(rotation = 90)\n",
    "#plt.show()\n",
    "\n",
    "#considering reviews per month\n",
    "plt.hist(x='calculated_host_listings_count', data=price_under50_df, bins=6)\n",
    "plt.xticks(rotation = 90)\n",
    "plt.show()\n",
    "\n",
    "plt.hist(x='calculated_host_listings_count', data=belize_df, bins=6)\n",
    "plt.xticks(rotation = 90)\n",
    "plt.show()"
   ]
  },
  {
   "cell_type": "markdown",
   "metadata": {},
   "source": [
    "##### We can examine other information to see what, if anything the rentals under 50 dollars have in common. I started by looking at the room type. The majority of the rentals in this category are for private rooms and it is notable that there are NO hotel rooms included in the subset of the data. \n",
    "\n",
    "##### I also plotted the distribution of minimum nights for this subset of data. The vast majority of rentals are available for a minimum night stay<5 nights, but a few rentals require minimum stays of 7 nights and an even smaller number of rentals have a minimum stay of 25+ nights. Overall, we can determine that this data represents primarily rentals with very short minimum stays. \n",
    "\n",
    "##### In terms of neighborhoods, we can consider the representation of different neighborhoods in the subset compared to the full dataset. In order from most to least represented by the subset of data with a price under 50 dollars we have: Cayo, Belize Mainland, Stann Creek Mainland, Belize Islands, Toledo Mainland, and Orange Walk neighborhoods. When we compare this to the overall dataset, we see very different representation. In the overall data, the order of most to least represented neighborhoods is as follows: Belize Islands, Stann Creek Mainland, Cayo, Belize Mainland, Corozal (not represented in our subset data), Toledo Mainland, Orange Walk, and finall Stann Creek Islands (also not represented in our subset data).\n",
    "\n",
    "##### We can further explore this data by looking at the availability data. Overall, the distribution of the availability data for the rentals under 50 dollars compared to all rentals is pretty similar. Most availability is for around 350+ nights, but there are some peaks at lower values too.\n",
    "\n",
    "##### The number of reviews per month is pretty similar for both datasets.\n",
    "\n",
    "##### The total number of reviews are similar for both datasets in terms of shape of the distribution. However, it is notable for the subset of data on rentals under 50 dollars, there are no rentals with a total amount of reviews over 120 reviews whereas for the whole dataset, the total number of reviews maxes at at around 300 reviews.\n",
    "\n",
    "##### The calculated host listings count is notably significantly less for the under 50 dollars subset of the data compared to the entire dataset."
   ]
  },
  {
   "cell_type": "code",
   "execution_count": null,
   "metadata": {},
   "outputs": [],
   "source": []
  },
  {
   "cell_type": "markdown",
   "metadata": {},
   "source": [
    "#### 3b) What distribution does this data most closely fit?"
   ]
  },
  {
   "cell_type": "code",
   "execution_count": 17,
   "metadata": {},
   "outputs": [
    {
     "data": {
      "text/plain": [
       "<AxesSubplot:>"
      ]
     },
     "execution_count": 17,
     "metadata": {},
     "output_type": "execute_result"
    },
    {
     "data": {
      "image/png": "[encoded data removed]",
      "text/plain": [
       "<Figure size 432x288 with 1 Axes>"
      ]
     },
     "metadata": {
      "needs_background": "light"
     },
     "output_type": "display_data"
    }
   ],
   "source": [
    "sns.boxplot(data=belize_df['price'], showfliers=False)\n",
    "\n",
    "#sns.boxplot(data=belize_df['price'])"
   ]
  },
  {
   "cell_type": "markdown",
   "metadata": {},
   "source": [
    "###### This distribution is highly skewed. Most values fall between just under 150 dollars to around 400 dollars. There are some outliers with prices in the thousands of dollars. These outliers significantly skew the data. "
   ]
  },
  {
   "cell_type": "markdown",
   "metadata": {},
   "source": [
    "### 4) Calculate the sample variance and standard deviation for all the numerical columns in the same output. "
   ]
  },
  {
   "cell_type": "code",
   "execution_count": 143,
   "metadata": {},
   "outputs": [
    {
     "data": {
      "text/html": [
       "<div>\n",
       "<style scoped>\n",
       "    .dataframe tbody tr th:only-of-type {\n",
       "        vertical-align: middle;\n",
       "    }\n",
       "\n",
       "    .dataframe tbody tr th {\n",
       "        vertical-align: top;\n",
       "    }\n",
       "\n",
       "    .dataframe thead th {\n",
       "        text-align: right;\n",
       "    }\n",
       "</style>\n",
       "<table border=\"1\" class=\"dataframe\">\n",
       "  <thead>\n",
       "    <tr style=\"text-align: right;\">\n",
       "      <th></th>\n",
       "      <th>price</th>\n",
       "      <th>latitude</th>\n",
       "      <th>longitude</th>\n",
       "      <th>minimum_nights</th>\n",
       "      <th>number_of_reviews</th>\n",
       "      <th>reviews_per_month</th>\n",
       "      <th>availability_365</th>\n",
       "      <th>calculated_host_listings_count</th>\n",
       "    </tr>\n",
       "  </thead>\n",
       "  <tbody>\n",
       "    <tr>\n",
       "      <th>std</th>\n",
       "      <td>563.124825</td>\n",
       "      <td>0.537440</td>\n",
       "      <td>0.383876</td>\n",
       "      <td>5.669843</td>\n",
       "      <td>30.327768</td>\n",
       "      <td>0.662154</td>\n",
       "      <td>120.617632</td>\n",
       "      <td>51.711183</td>\n",
       "    </tr>\n",
       "    <tr>\n",
       "      <th>var</th>\n",
       "      <td>317109.568066</td>\n",
       "      <td>0.288841</td>\n",
       "      <td>0.147361</td>\n",
       "      <td>32.147122</td>\n",
       "      <td>919.773508</td>\n",
       "      <td>0.438448</td>\n",
       "      <td>14548.613157</td>\n",
       "      <td>2674.046405</td>\n",
       "    </tr>\n",
       "  </tbody>\n",
       "</table>\n",
       "</div>"
      ],
      "text/plain": [
       "             price  latitude  longitude  minimum_nights  number_of_reviews  \\\n",
       "std     563.124825  0.537440   0.383876        5.669843          30.327768   \n",
       "var  317109.568066  0.288841   0.147361       32.147122         919.773508   \n",
       "\n",
       "     reviews_per_month  availability_365  calculated_host_listings_count  \n",
       "std           0.662154        120.617632                       51.711183  \n",
       "var           0.438448      14548.613157                     2674.046405  "
      ]
     },
     "execution_count": 143,
     "metadata": {},
     "output_type": "execute_result"
    }
   ],
   "source": [
    "#Using the aggregate function to calculate sample variance and standard deviation for the numerical columns. \n",
    "#I did not include host id because it is simply a number/label and doesn't really have numberical sense beyond that.\n",
    "\n",
    "all_stats=belize_df[['price', 'latitude', 'longitude', 'minimum_nights', 'number_of_reviews', 'reviews_per_month', 'availability_365', 'calculated_host_listings_count']].agg([\"std\", \"var\"])\n",
    "\n",
    "all_stats\n",
    "\n",
    "#belize_df['number_of_reviews'].describe()\n",
    "#belize_df['calculated_host_listings_count'].describe()"
   ]
  },
  {
   "cell_type": "markdown",
   "metadata": {},
   "source": [
    "####  4a) Why sample variance and not population variance?"
   ]
  },
  {
   "cell_type": "markdown",
   "metadata": {},
   "source": [
    "##### Sample variance does not look at every possible value for a dataset-it looks at a subset of values (that ideally is representative of the larger population). A population variance would look at every single possible value for the entire population/dataset. In this case, we don't know if we have the entire population (for example, ALL AirBnb data for the entire country of Belize) or some subset. Since we don't know, it is best to use the sample variance instead of the population variance."
   ]
  },
  {
   "cell_type": "markdown",
   "metadata": {},
   "source": [
    "#### 4b) What is your takeaway for each metric?"
   ]
  },
  {
   "cell_type": "markdown",
   "metadata": {},
   "source": [
    "##### Since the variance is used in the calculation of standard deviation, they are directly related. Standard deviation is generally easier to understand and interpret so since the 2 are so closely related, I will focus on standard deviation here so as to avoid redundancy. To understand if the variance and standard deviation are large or small, we also need to have some general understanding of the type of measurement and scale.  For example, we know a year is 365 days so a standard deviation of 120.6 is large in comparison. The context in which we view each statistic matters! In general, the higher the variance and standard deviation, the more spread out the data is; the lower the variance and standard deviation, the more clustered the data tends to be. Outliers can have an impact on standard deviation so that is something we should try to consider.\n",
    "\n",
    "###### price: Price has a large standard deviation, indicating a large spread of the data and telling us that we can find relatively cheap up to very expensive rental options. Most rentals, though (investigated earlier) are 150-400 dollars so again some very high priced outliers are likely contributing to the large standard deviation observed.\n",
    "\n",
    "###### availability: Availability also has a very large standard deviation (equal to approximately 1/3 of a year!) again indicating a very large spread in availability data. We know from other investigations that that most rentals have availability greater than 360 nights/year, suggesting that the outliers in availability are significantly impacting our standard deviation for availability\n",
    "\n",
    "###### reviews_per_month: There is a very small standard deviation for number of reviews per month (0.66). This indicates low spread in the data for number of reviews each month. The vast majority of reviews per month are very, very low.\n",
    "\n",
    "###### calculated_host_listings_count: Similar to the number of reviews (discussed briefly below), the standard deviation is also about twice the mean for this category. Most reviews per host are fairly low but there appears to be a moderate spread in the data.\n",
    "\n",
    "###### number of reviews: The standard deviation is about twice as large as the mean for this category. Most number of reviews are fairly low but there is a moderate spread of the data.\n",
    "\n",
    "###### minimum nights: The standard deviation for minimum nights is relatively small (5.7) indicating a smaller spread in the data. While there are outliers with very long minimum rentals required, we see here that the overall spread is much lower than for some other categories. \n",
    "\n",
    "###### latitude & longitude: The standard deviations for both latitude and longitude are pretty small (less than a degree for each). This makes sense because Belize is a small country. While I did not look at this, we could guess that proximity to the ocean (or other local tourism sites) may also impact the rental locations \n"
   ]
  },
  {
   "cell_type": "markdown",
   "metadata": {},
   "source": [
    "####  4c) What are the scales of measurement for each of these values? "
   ]
  },
  {
   "cell_type": "markdown",
   "metadata": {},
   "source": [
    "###### Nominal: ID, name, host_name, neighbourhood & group, latitude & longitude\n",
    "###### Ordinal: you may be able to consider latitude and longitude ordinal in some situations\n",
    "###### Interval:\n",
    "###### Ratio: minimum nights , host listings count, number of reviews, price, availability (has a true 0 value, you cannot have a negative value)"
   ]
  },
  {
   "cell_type": "markdown",
   "metadata": {},
   "source": [
    "###  5) What percent of Airbnb listings in Belize are available 360 days a year or more?      "
   ]
  },
  {
   "cell_type": "code",
   "execution_count": 97,
   "metadata": {},
   "outputs": [
    {
     "name": "stdout",
     "output_type": "stream",
     "text": [
      "39.52074391988555\n"
     ]
    }
   ],
   "source": [
    "plus360_df= belize_df[belize_df[\"availability_365\"] >= 360]\n",
    "\n",
    "\n",
    "perc_over_360 = len(plus360_df['availability_365'])/len(belize_df['availability_365'])*100\n",
    "print(perc_over_360)"
   ]
  },
  {
   "cell_type": "markdown",
   "metadata": {},
   "source": [
    "#### 5a) 360 days or less?"
   ]
  },
  {
   "cell_type": "code",
   "execution_count": 99,
   "metadata": {},
   "outputs": [
    {
     "name": "stdout",
     "output_type": "stream",
     "text": [
      "61.55221745350501\n"
     ]
    }
   ],
   "source": [
    "under360_df=belize_df[belize_df[\"availability_365\"] <= 360]\n",
    "\n",
    "perc_360_under = len(under360_df['availability_365'])/len(belize_df['availability_365'])*100\n",
    "print(perc_360_under)"
   ]
  },
  {
   "cell_type": "markdown",
   "metadata": {},
   "source": [
    "#### 5b) What distribution does this data most closely fit?"
   ]
  },
  {
   "cell_type": "code",
   "execution_count": 107,
   "metadata": {},
   "outputs": [
    {
     "data": {
      "text/plain": [
       "(array([251.,  14.,  10.,  51.,  60.,  21.,  18.,  14.,  27., 143.,  49.,\n",
       "         21.,  31.,  39.,  76.,  74.,  90., 108., 179., 445.]),\n",
       " array([  0.,  18.,  36.,  54.,  72.,  90., 108., 126., 144., 162., 180.,\n",
       "        198., 216., 234., 252., 270., 288., 306., 324., 342., 360.]),\n",
       " <BarContainer object of 20 artists>)"
      ]
     },
     "execution_count": 107,
     "metadata": {},
     "output_type": "execute_result"
    },
    {
     "data": {
      "image/png": "[encoded data removed]",
      "text/plain": [
       "<Figure size 432x288 with 3 Axes>"
      ]
     },
     "metadata": {
      "needs_background": "light"
     },
     "output_type": "display_data"
    }
   ],
   "source": [
    "plt.subplot(1, 3, 1) \n",
    "plt.hist(data = belize_df, x = 'availability_365', bins = 20)\n",
    "\n",
    "\n",
    "plt.subplot(1, 3, 2) \n",
    "plt.hist(data = plus360_df, x = 'availability_365', bins = 5)\n",
    "\n",
    "\n",
    "plt.subplot(1, 3, 3) \n",
    "plt.hist(data = under360_df, x = 'availability_365', bins = 20)"
   ]
  },
  {
   "cell_type": "markdown",
   "metadata": {},
   "source": [
    "##### Poisson distribution??? I had a really hard time determining this. The data appear to be multi-modal (peaks near 0, 100, 175, and 365). It is highly skewed towards values over 350. It is notable that you probably shouldn't consider this skew normal since that assumption would give incorrect values for probability (etc) for the peaks around 175 and near 0."
   ]
  },
  {
   "cell_type": "code",
   "execution_count": 103,
   "metadata": {},
   "outputs": [
    {
     "data": {
      "text/plain": [
       "<AxesSubplot:>"
      ]
     },
     "execution_count": 103,
     "metadata": {},
     "output_type": "execute_result"
    },
    {
     "data": {
      "image/png": "[encoded data removed]",
      "text/plain": [
       "<Figure size 432x288 with 1 Axes>"
      ]
     },
     "metadata": {
      "needs_background": "light"
     },
     "output_type": "display_data"
    }
   ],
   "source": [
    "sns.boxplot(data=belize_df['availability_365'], showfliers=False)"
   ]
  },
  {
   "cell_type": "markdown",
   "metadata": {},
   "source": [
    "###  6) What minimum night count are 75% of Airnbnb listing in Belize greater than?"
   ]
  },
  {
   "cell_type": "code",
   "execution_count": 104,
   "metadata": {},
   "outputs": [
    {
     "data": {
      "text/plain": [
       "<AxesSubplot:>"
      ]
     },
     "execution_count": 104,
     "metadata": {},
     "output_type": "execute_result"
    },
    {
     "data": {
      "image/png": "[encoded data removed]",
      "text/plain": [
       "<Figure size 432x288 with 1 Axes>"
      ]
     },
     "metadata": {
      "needs_background": "light"
     },
     "output_type": "display_data"
    }
   ],
   "source": [
    "sns.boxplot(data=belize_df['minimum_nights'], showfliers=False)"
   ]
  },
  {
   "cell_type": "code",
   "execution_count": 105,
   "metadata": {},
   "outputs": [
    {
     "data": {
      "text/plain": [
       "count    2796.000000\n",
       "mean        2.263948\n",
       "std         5.669843\n",
       "min         1.000000\n",
       "25%         1.000000\n",
       "50%         2.000000\n",
       "75%         3.000000\n",
       "max       180.000000\n",
       "Name: minimum_nights, dtype: float64"
      ]
     },
     "execution_count": 105,
     "metadata": {},
     "output_type": "execute_result"
    }
   ],
   "source": [
    "belize_df['minimum_nights'].describe()"
   ]
  },
  {
   "cell_type": "markdown",
   "metadata": {},
   "source": [
    "###### By looking at our quartile ranges, it is apparent that 75% of rentals have a minimum night requirement of just 1 night"
   ]
  },
  {
   "cell_type": "code",
   "execution_count": 24,
   "metadata": {},
   "outputs": [
    {
     "data": {
      "image/png": "[encoded data removed]",
      "text/plain": [
       "<Figure size 432x288 with 1 Axes>"
      ]
     },
     "metadata": {
      "needs_background": "light"
     },
     "output_type": "display_data"
    }
   ],
   "source": [
    "#This is just me looking at the distribution for minimum nights. I've limited the x-axis because the higher\n",
    "#minimums are so rare.\n",
    "plt.hist(x='minimum_nights', data=belize_df, bins=200)\n",
    "plt.xticks(rotation = 40)\n",
    "plt.xlim([0, 10])\n",
    "plt.show()"
   ]
  },
  {
   "cell_type": "code",
   "execution_count": null,
   "metadata": {},
   "outputs": [],
   "source": []
  }
 ],
 "metadata": {
  "kernelspec": {
   "display_name": "Python 3",
   "language": "python",
   "name": "python3"
  },
  "language_info": {
   "codemirror_mode": {
    "name": "ipython",
    "version": 3
   },
   "file_extension": ".py",
   "mimetype": "text/x-python",
   "name": "python",
   "nbconvert_exporter": "python",
   "pygments_lexer": "ipython3",
   "version": "3.8.5"
  }
 },
 "nbformat": 4,
 "nbformat_minor": 4
}
