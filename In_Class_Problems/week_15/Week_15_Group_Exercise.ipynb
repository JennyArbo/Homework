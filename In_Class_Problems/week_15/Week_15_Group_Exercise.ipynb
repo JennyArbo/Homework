{
 "cells": [
  {
   "cell_type": "markdown",
   "metadata": {},
   "source": [
    "### 1. Look up SMOTE oversampling https://imbalanced-learn.org/stable/references/generated/imblearn.over_sampling.SMOTE.html .\n",
    "\n",
    "**a. Describe what it is in your own words in markdown.**\n",
    "\n",
    "\n",
    "  "
   ]
  },
  {
   "cell_type": "markdown",
   "metadata": {},
   "source": [
    "SMOTE = synthetic minority oversampling technique\n",
    "\n",
    "This is an oversampling technique to address imblanced datasets where we desire higher representation of the minority class. SMOTE is a method of producing synthetic data to then be used in modeling.\n",
    "\n",
    "In SMOTE, a random example from the minority class is first selected. Then, k nearest neighbors are identified (usually ~5). From those selections of nearest neighbors, one is chosen at random. A line is drawn between these two examples from the minority class data. SMOTE then picks a random point along the line connecting the 2 examples and identifies that point as the new synthetic datapoint. All of this is completed in feature space. This process can be repeated until the desired number/proportion of synthetic datapoints are created. \n",
    "\n",
    "A benefit of this technique over naive random oversampling is that it creates realistic/plausible synthetic data rather than simply replicating existing data (it provides the model \"new\" information).\n",
    "\n",
    "A downside of this technique is that the majority class is not considered at all. This can be a problem when values for the majority and minority case overlap. The synthetic data can then be ambiguous in terms of its assignment to the minority or majority class."
   ]
  },
  {
   "cell_type": "markdown",
   "metadata": {},
   "source": [
    "**b. Use this technique with the diabetes dataset. Comment on the model\n",
    "performance compared to other methods.**"
   ]
  },
  {
   "cell_type": "markdown",
   "metadata": {},
   "source": [
    "**The following naive oversampling is taken directly from our class notes and is included here for purpose of comparison.**"
   ]
  },
  {
   "cell_type": "code",
   "execution_count": 27,
   "metadata": {},
   "outputs": [],
   "source": [
    "import numpy as np\n",
    "import pandas as pd\n",
    "\n",
    "diabetes_df = pd.read_csv('diabetes.csv')"
   ]
  },
  {
   "cell_type": "code",
   "execution_count": 28,
   "metadata": {},
   "outputs": [],
   "source": [
    "#our previous model had a recall of .5\n",
    "#Following code taken from in-class discussion/lecture\n",
    "from sklearn.linear_model import LogisticRegression\n",
    "from sklearn.model_selection import train_test_split\n",
    "from sklearn.preprocessing import StandardScaler\n",
    "\n",
    "#Setting X and y values\n",
    "X = diabetes_df.drop('Outcome',axis = 1)\n",
    "y = diabetes_df['Outcome']\n",
    "\n",
    "#Train, test, split\n",
    "X_train, X_test, y_train, y_test = train_test_split(X, y, test_size = 0.2, random_state = 42, stratify = y)\n",
    "\n",
    "#Standardize\n",
    "sc = StandardScaler()\n",
    "X_train_scaler = sc.fit_transform(X_train)\n",
    "X_test_scaler = sc.fit_transform(X_test)"
   ]
  },
  {
   "cell_type": "markdown",
   "metadata": {},
   "source": [
    "**Naive Oversampling**"
   ]
  },
  {
   "cell_type": "code",
   "execution_count": 29,
   "metadata": {},
   "outputs": [],
   "source": [
    "#Resample the training data with RandomOversampler\n",
    "from imblearn.over_sampling import RandomOverSampler\n",
    "\n",
    "ros = RandomOverSampler(random_state = 42)\n",
    "X_resampled, y_resampled = ros.fit_resample(X_train_scaler, y_train)\n"
   ]
  },
  {
   "cell_type": "code",
   "execution_count": 30,
   "metadata": {},
   "outputs": [
    {
     "data": {
      "text/plain": [
       "LogisticRegression(random_state=42)"
      ]
     },
     "execution_count": 30,
     "metadata": {},
     "output_type": "execute_result"
    }
   ],
   "source": [
    "#train using the resampled data\n",
    "from sklearn.linear_model import LogisticRegression\n",
    "\n",
    "model = LogisticRegression(random_state=42)\n",
    "model.fit(X_resampled, y_resampled)"
   ]
  },
  {
   "cell_type": "code",
   "execution_count": 31,
   "metadata": {},
   "outputs": [
    {
     "data": {
      "text/plain": [
       "0.7403703703703703"
      ]
     },
     "execution_count": 31,
     "metadata": {},
     "output_type": "execute_result"
    }
   ],
   "source": [
    "#calculate the accuracy score\n",
    "from sklearn.metrics import balanced_accuracy_score\n",
    "y_pred = model.predict(X_test_scaler)\n",
    "balanced_accuracy_score(y_test, y_pred)\n",
    "#increased accuracy from .6 to .74 by using oversampling"
   ]
  },
  {
   "cell_type": "code",
   "execution_count": 32,
   "metadata": {},
   "outputs": [
    {
     "data": {
      "text/plain": [
       "<AxesSubplot:>"
      ]
     },
     "execution_count": 32,
     "metadata": {},
     "output_type": "execute_result"
    },
    {
     "data": {
      "image/png": "[encoded data removed]",
      "text/plain": [
       "<Figure size 432x288 with 2 Axes>"
      ]
     },
     "metadata": {
      "needs_background": "light"
     },
     "output_type": "display_data"
    }
   ],
   "source": [
    "from sklearn.metrics import confusion_matrix, plot_confusion_matrix\n",
    "cf_matrix_naive = confusion_matrix(y_test, y_pred)\n",
    "import seaborn as sns\n",
    "sns.heatmap(cf_matrix_naive, annot=True)"
   ]
  },
  {
   "cell_type": "code",
   "execution_count": 33,
   "metadata": {},
   "outputs": [
    {
     "name": "stdout",
     "output_type": "stream",
     "text": [
      "                   pre       rec       spe        f1       geo       iba       sup\n",
      "\n",
      "          0       0.84      0.74      0.74      0.79      0.74      0.55       100\n",
      "          1       0.61      0.74      0.74      0.67      0.74      0.55        54\n",
      "\n",
      "avg / total       0.76      0.74      0.74      0.74      0.74      0.55       154\n",
      "\n"
     ]
    }
   ],
   "source": [
    "from imblearn.metrics import classification_report_imbalanced\n",
    "print(classification_report_imbalanced(y_test, y_pred))"
   ]
  },
  {
   "cell_type": "markdown",
   "metadata": {},
   "source": [
    "**SMOTE**"
   ]
  },
  {
   "cell_type": "code",
   "execution_count": 35,
   "metadata": {},
   "outputs": [
    {
     "name": "stdout",
     "output_type": "stream",
     "text": [
      "balanced accuracy score (SMOTE): 0.7268518518518519\n",
      "                   pre       rec       spe        f1       geo       iba       sup\n",
      "\n",
      "          0       0.82      0.75      0.70      0.79      0.73      0.53       100\n",
      "          1       0.60      0.70      0.75      0.65      0.73      0.53        54\n",
      "\n",
      "avg / total       0.75      0.73      0.72      0.74      0.73      0.53       154\n",
      "\n"
     ]
    },
    {
     "data": {
      "image/png": "[encoded data removed]",
      "text/plain": [
       "<Figure size 432x288 with 2 Axes>"
      ]
     },
     "metadata": {
      "needs_background": "light"
     },
     "output_type": "display_data"
    }
   ],
   "source": [
    "from collections import Counter\n",
    "from sklearn.datasets import make_classification\n",
    "from imblearn.over_sampling import SMOTE \n",
    "\n",
    "\n",
    "#Train, test, split\n",
    "X_trains, X_tests, y_trains, y_tests = train_test_split(X, y, test_size = 0.2, random_state = 42, stratify = y)\n",
    "#Standardize\n",
    "scs = StandardScaler()\n",
    "X_train_scalers = sc.fit_transform(X_trains)\n",
    "X_test_scalers = sc.fit_transform(X_tests)\n",
    "\n",
    "sm = SMOTE(sampling_strategy='auto', k_neighbors=5, random_state=42)\n",
    "X_resampled_s, y_resampled_s = sm.fit_resample(X_train_scalers, y_trains)\n",
    "\n",
    "model_s = LogisticRegression(random_state=42)\n",
    "model_s.fit(X_resampled_s, y_resampled_s)\n",
    "\n",
    "y_pred_s = model_s.predict(X_test_scalers)\n",
    "\n",
    "bal_acc_SMOTE = balanced_accuracy_score(y_tests, y_pred_s)\n",
    "print('balanced accuracy score (SMOTE):', bal_acc_SMOTE)\n",
    "\n",
    "cf_matrix_smote = confusion_matrix(y_tests, y_pred_s)\n",
    "\n",
    "cf_matrix_naive = confusion_matrix(y_test, y_pred)\n",
    "sns.heatmap(cf_matrix_smote, annot=True)\n",
    "\n",
    "print(classification_report_imbalanced(y_tests, y_pred_s))\n"
   ]
  },
  {
   "cell_type": "markdown",
   "metadata": {},
   "source": [
    "**Discussion**\n",
    "\n",
    "Overall, the naive and SMOTE oversampling methods produced nearly identical results for this data. For naive oversmapling, avg. precision was 0.76, avg. recall was 0.74, and the avg. f1 score 0.74 with an accuracy score of 0.74. These values are just barely better than for the SMOTE method which produced avg. precision of 0.75, avg. recall of 0.73, avg. f1 score of 0.74, and accuracy of ~0.73. Both oversampling methods produce better results than multivariate logistic regression without oversampling. Which, in turn, produced better results tan univariate logistic regression or knn. "
   ]
  },
  {
   "cell_type": "markdown",
   "metadata": {},
   "source": [
    "**2. Create a list of preprocessing steps you should try when working to build a model. Work\n",
    "with your group to come up with the most comprehensive list you can.**"
   ]
  },
  {
   "cell_type": "markdown",
   "metadata": {},
   "source": [
    "-Remove extraneous spaces/formatting columns/rows/etc\n",
    "\n",
    "\n",
    "-Remove null/NaN values\n",
    "\n",
    "\n",
    "-remove redundant data (for example, a derived variable that uses one feature in its calculation)\n",
    "\n",
    "\n",
    "-use correlation matrix to identify multicolinearity and remove appropriate features\n",
    "\n",
    "\n",
    "-correct data types (including things like changing to datetime format)\n",
    "\n",
    "\n",
    "-Normalize/standardize data\n",
    "\n",
    "\n",
    "-encode categorical data into numeric data and other encoding (integer, one hot, etc)\n",
    "\n",
    "\n",
    "-outlier detection and removal\n",
    "\n",
    "\n",
    "-grouping or clustering data\n",
    "\n",
    "\n",
    "-addition of new features from current features\n",
    "\n",
    "\n",
    "-Principal components analysis\n",
    "\n",
    "\n",
    "-visualizations to understand data and pick the most interesting/\"best\" features before modeling begins\n",
    "\n"
   ]
  },
  {
   "cell_type": "code",
   "execution_count": null,
   "metadata": {},
   "outputs": [],
   "source": []
  }
 ],
 "metadata": {
  "kernelspec": {
   "display_name": "Python 3",
   "language": "python",
   "name": "python3"
  },
  "language_info": {
   "codemirror_mode": {
    "name": "ipython",
    "version": 3
   },
   "file_extension": ".py",
   "mimetype": "text/x-python",
   "name": "python",
   "nbconvert_exporter": "python",
   "pygments_lexer": "ipython3",
   "version": "3.8.5"
  }
 },
 "nbformat": 4,
 "nbformat_minor": 4
}
