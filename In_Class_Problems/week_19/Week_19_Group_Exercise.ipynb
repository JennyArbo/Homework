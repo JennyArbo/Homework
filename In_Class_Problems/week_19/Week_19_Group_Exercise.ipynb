{
 "cells": [
  {
   "cell_type": "markdown",
   "metadata": {},
   "source": [
    "# Week 19 Group Exercise"
   ]
  },
  {
   "cell_type": "markdown",
   "metadata": {},
   "source": [
    "## 1) Take one of the supervised learning models you have built recently and apply at least three dimensionality reduction techniques to it (separately). Be sure to create a short summary of each technique you use. Indicate how each changed the model performance. Reference: https://machinelearningmastery.com/dimensionality-reduction-algorithms-with-python/"
   ]
  },
  {
   "cell_type": "markdown",
   "metadata": {},
   "source": [
    "**Short description of why dimensionality reduction techniques are useful:**\n",
    "\n",
    "Dataset containing high dimensional data can be difficult to handle. In particular, high dimensions are difficult to visualize and can be hard to draw conclusions from or identify patterns in. Using dimensionality reduction can help address those problems and can also help decrease storage needs, decrease computational time, may lead to enhanced algorithm perfomance, and can decrease or eliminate issues caused by multicolinearity within a dataset. The primary goal of any dimensionality reduction technique is to maintain the most important information in the dataet/its basic structure while refitting the data in a transformation to a lower dimension. There are techniques which both linearly and non-linearly transform the data. Here, I look at examples of each class. However, as I observed in this exercise, not every dataset needs or benefits from these techniques. It is again a case of knowing your data, experimenting and applying applicable techniques."
   ]
  },
  {
   "cell_type": "code",
   "execution_count": 23,
   "metadata": {},
   "outputs": [
    {
     "data": {
      "text/html": [
       "<div>\n",
       "<style scoped>\n",
       "    .dataframe tbody tr th:only-of-type {\n",
       "        vertical-align: middle;\n",
       "    }\n",
       "\n",
       "    .dataframe tbody tr th {\n",
       "        vertical-align: top;\n",
       "    }\n",
       "\n",
       "    .dataframe thead th {\n",
       "        text-align: right;\n",
       "    }\n",
       "</style>\n",
       "<table border=\"1\" class=\"dataframe\">\n",
       "  <thead>\n",
       "    <tr style=\"text-align: right;\">\n",
       "      <th></th>\n",
       "      <th>length</th>\n",
       "      <th>diameter</th>\n",
       "      <th>height</th>\n",
       "      <th>whole_wt</th>\n",
       "      <th>shucked_wt</th>\n",
       "      <th>viscera_wt</th>\n",
       "      <th>shell_wt</th>\n",
       "      <th>rings</th>\n",
       "      <th>age</th>\n",
       "      <th>age_sex</th>\n",
       "      <th>age_sex_A</th>\n",
       "      <th>age_sex_I</th>\n",
       "    </tr>\n",
       "  </thead>\n",
       "  <tbody>\n",
       "    <tr>\n",
       "      <th>0</th>\n",
       "      <td>0.455</td>\n",
       "      <td>0.365</td>\n",
       "      <td>0.095</td>\n",
       "      <td>0.5140</td>\n",
       "      <td>0.2245</td>\n",
       "      <td>0.1010</td>\n",
       "      <td>0.150</td>\n",
       "      <td>15</td>\n",
       "      <td>16.5</td>\n",
       "      <td>A</td>\n",
       "      <td>1</td>\n",
       "      <td>0</td>\n",
       "    </tr>\n",
       "    <tr>\n",
       "      <th>1</th>\n",
       "      <td>0.350</td>\n",
       "      <td>0.265</td>\n",
       "      <td>0.090</td>\n",
       "      <td>0.2255</td>\n",
       "      <td>0.0995</td>\n",
       "      <td>0.0485</td>\n",
       "      <td>0.070</td>\n",
       "      <td>7</td>\n",
       "      <td>8.5</td>\n",
       "      <td>A</td>\n",
       "      <td>1</td>\n",
       "      <td>0</td>\n",
       "    </tr>\n",
       "    <tr>\n",
       "      <th>2</th>\n",
       "      <td>0.530</td>\n",
       "      <td>0.420</td>\n",
       "      <td>0.135</td>\n",
       "      <td>0.6770</td>\n",
       "      <td>0.2565</td>\n",
       "      <td>0.1415</td>\n",
       "      <td>0.210</td>\n",
       "      <td>9</td>\n",
       "      <td>10.5</td>\n",
       "      <td>A</td>\n",
       "      <td>1</td>\n",
       "      <td>0</td>\n",
       "    </tr>\n",
       "    <tr>\n",
       "      <th>3</th>\n",
       "      <td>0.440</td>\n",
       "      <td>0.365</td>\n",
       "      <td>0.125</td>\n",
       "      <td>0.5160</td>\n",
       "      <td>0.2155</td>\n",
       "      <td>0.1140</td>\n",
       "      <td>0.155</td>\n",
       "      <td>10</td>\n",
       "      <td>11.5</td>\n",
       "      <td>A</td>\n",
       "      <td>1</td>\n",
       "      <td>0</td>\n",
       "    </tr>\n",
       "    <tr>\n",
       "      <th>4</th>\n",
       "      <td>0.330</td>\n",
       "      <td>0.255</td>\n",
       "      <td>0.080</td>\n",
       "      <td>0.2050</td>\n",
       "      <td>0.0895</td>\n",
       "      <td>0.0395</td>\n",
       "      <td>0.055</td>\n",
       "      <td>7</td>\n",
       "      <td>8.5</td>\n",
       "      <td>I</td>\n",
       "      <td>0</td>\n",
       "      <td>1</td>\n",
       "    </tr>\n",
       "  </tbody>\n",
       "</table>\n",
       "</div>"
      ],
      "text/plain": [
       "   length  diameter  height  whole_wt  shucked_wt  viscera_wt  shell_wt  \\\n",
       "0   0.455     0.365   0.095    0.5140      0.2245      0.1010     0.150   \n",
       "1   0.350     0.265   0.090    0.2255      0.0995      0.0485     0.070   \n",
       "2   0.530     0.420   0.135    0.6770      0.2565      0.1415     0.210   \n",
       "3   0.440     0.365   0.125    0.5160      0.2155      0.1140     0.155   \n",
       "4   0.330     0.255   0.080    0.2050      0.0895      0.0395     0.055   \n",
       "\n",
       "   rings   age age_sex  age_sex_A  age_sex_I  \n",
       "0     15  16.5       A          1          0  \n",
       "1      7   8.5       A          1          0  \n",
       "2      9  10.5       A          1          0  \n",
       "3     10  11.5       A          1          0  \n",
       "4      7   8.5       I          0          1  "
      ]
     },
     "execution_count": 23,
     "metadata": {},
     "output_type": "execute_result"
    }
   ],
   "source": [
    "#importing the usual things\n",
    "import numpy as np\n",
    "import pandas as pd\n",
    "\n",
    "#reading in the csv file for the dataset I want as a pandas dataframe\n",
    "df = pd.read_csv(r'outlier_removed_abalone.csv')\n",
    "\n",
    "#viewing the head of the dataframe\n",
    "df.head()"
   ]
  },
  {
   "cell_type": "markdown",
   "metadata": {},
   "source": [
    "#### I decided to use a simple linear regression as my model of interest for this problem. I chose a linear regression because it achieved results similar to more complex models."
   ]
  },
  {
   "cell_type": "markdown",
   "metadata": {},
   "source": [
    "### Method 1\n",
    "\n",
    "#### Linear Method: Principal Components Analysis (PCA)\n",
    "    \n",
    "PCA is an extremely popular method of dimensionality reduction although it should typically only be used with dense data (very few missing data points). Since the dataset I chose has no missing values (all were removed prior to the dataset being posted to the UCI data repository), PCA may be a good fit. We also know from past analyses that there are multiple variables that have colinearity with one another. \n",
    "\n",
    "The primary goal of PCA is to capture as much data variance as possible in as few Principal Components as possible, thereby reducing the number of features used and decreasing model complexity. PCA typically involves standardizing the data (it is sensitive to large differences in variance), creating a covariance matrix and using the eigenvectors and eigenvalues to identify the linear combinations which then form the principal components. The new principal components are not correlated and typically, the very first few principal components will contain the vast majority of the sample variance."
   ]
  },
  {
   "cell_type": "code",
   "execution_count": 38,
   "metadata": {},
   "outputs": [],
   "source": [
    "from sklearn.decomposition import PCA\n",
    "from sklearn.preprocessing import StandardScaler\n",
    "import matplotlib.pyplot as plt\n",
    "from sklearn.model_selection import train_test_split\n",
    "\n",
    "\n",
    "#defining features and target as X and y\n",
    "X = df.drop(['age', 'rings', 'age_sex'], axis=1)\n",
    "\n",
    "y = df['age']\n",
    "\n",
    "\n",
    "#using standard scaler to scale the X variables\n",
    "X = StandardScaler().fit_transform(X)\n",
    "\n",
    "# Split into training and test set\n",
    "X_train, X_test, y_train, y_test = train_test_split(X, y, test_size = 0.2, random_state=42)\n",
    "\n",
    "\n"
   ]
  },
  {
   "cell_type": "markdown",
   "metadata": {},
   "source": [
    "##### Multivariate Linear Model on the Dataset"
   ]
  },
  {
   "cell_type": "code",
   "execution_count": 41,
   "metadata": {},
   "outputs": [
    {
     "name": "stdout",
     "output_type": "stream",
     "text": [
      "                                 OLS Regression Results                                \n",
      "=======================================================================================\n",
      "Dep. Variable:                    age   R-squared (uncentered):                   0.029\n",
      "Model:                            OLS   Adj. R-squared (uncentered):              0.027\n",
      "Method:                 Least Squares   F-statistic:                              11.73\n",
      "Date:                Fri, 09 Jul 2021   Prob (F-statistic):                    1.40e-16\n",
      "Time:                        01:05:40   Log-Likelihood:                         -12049.\n",
      "No. Observations:                3135   AIC:                                  2.411e+04\n",
      "Df Residuals:                    3127   BIC:                                  2.416e+04\n",
      "Df Model:                           8                                                  \n",
      "Covariance Type:            nonrobust                                                  \n",
      "==============================================================================\n",
      "                 coef    std err          t      P>|t|      [0.025      0.975]\n",
      "------------------------------------------------------------------------------\n",
      "x1            -0.2749      1.265     -0.217      0.828      -2.755       2.205\n",
      "x2             0.9073      1.274      0.712      0.476      -1.590       3.404\n",
      "x3             0.6465      0.518      1.247      0.212      -0.370       1.663\n",
      "x4             2.5371      2.049      1.238      0.216      -1.480       6.554\n",
      "x5            -3.0055      1.060     -2.834      0.005      -5.085      -0.926\n",
      "x6            -0.6272      0.839     -0.748      0.455      -2.272       1.018\n",
      "x7             1.1700      0.948      1.234      0.217      -0.689       3.029\n",
      "x8             0.1859      0.125      1.490      0.136      -0.059       0.431\n",
      "x9            -0.1859      0.125     -1.490      0.136      -0.431       0.059\n",
      "==============================================================================\n",
      "Omnibus:                      361.866   Durbin-Watson:                   0.049\n",
      "Prob(Omnibus):                  0.000   Jarque-Bera (JB):              558.553\n",
      "Skew:                           0.829   Prob(JB):                    5.15e-122\n",
      "Kurtosis:                       4.235   Cond. No.                     1.26e+16\n",
      "==============================================================================\n",
      "\n",
      "Notes:\n",
      "[1] R² is computed without centering (uncentered) since the model does not contain a constant.\n",
      "[2] Standard Errors assume that the covariance matrix of the errors is correctly specified.\n",
      "[3] The smallest eigenvalue is 1.43e-28. This might indicate that there are\n",
      "strong multicollinearity problems or that the design matrix is singular.\n"
     ]
    }
   ],
   "source": [
    "#from sklearn import linear_model\n",
    "#linear_reg = linear_model.LinearRegression()\n",
    "#linear_reg.fit(X_train, y_train)\n",
    "\n",
    "\n",
    "\n",
    "#how/can I use ols with a training and test set? I haven't been able to figure that out yet and would like \n",
    "#to use it over sklearn's linear_model since it was presented as being the \"gold standard\"\n",
    "\n",
    "\n",
    "\n",
    "#print('r^2:', T_multi1.rsquared)\n",
    "#print('r^2 adjusted:', T_multi1.rsquared_adj)\n",
    "\n",
    "import statsmodels.api as sm\n",
    "\n",
    "linear_model = sm.OLS(y_train, X_train)\n",
    "results = linear_model.fit()\n",
    "print(results.summary())\n",
    "\n",
    "#Not sure why I'm getting results that seem so far off from the other Linear Regression model I used..."
   ]
  },
  {
   "cell_type": "code",
   "execution_count": 43,
   "metadata": {},
   "outputs": [
    {
     "name": "stdout",
     "output_type": "stream",
     "text": [
      "MSE:  3.634673828159976\n",
      "RMSE:  1.9064820555567723\n"
     ]
    }
   ],
   "source": [
    "from sklearn.linear_model import LinearRegression\n",
    "lin_reg = LinearRegression()\n",
    "\n",
    "lin_reg.fit(X_train, y_train)\n",
    "y_pred = lin_reg.predict(X_test)\n",
    "\n",
    "from sklearn import metrics\n",
    "MSE = metrics.mean_squared_error(y_test, y_pred)\n",
    "print('MSE: ', MSE)\n",
    "print('RMSE: ', np.sqrt(MSE))"
   ]
  },
  {
   "cell_type": "markdown",
   "metadata": {},
   "source": [
    "#### PCA and determining the number of PCs "
   ]
  },
  {
   "cell_type": "code",
   "execution_count": 33,
   "metadata": {},
   "outputs": [
    {
     "data": {
      "text/plain": [
       "Text(0, 0.5, 'Cumulative variance explained for PCA of abalone dataset')"
      ]
     },
     "execution_count": 33,
     "metadata": {},
     "output_type": "execute_result"
    },
    {
     "data": {
      "image/png": "[encoded data removed]",
      "text/plain": [
       "<Figure size 432x288 with 1 Axes>"
      ]
     },
     "metadata": {
      "needs_background": "light"
     },
     "output_type": "display_data"
    }
   ],
   "source": [
    "#Trying to figure out an optimal number of principal components to use for my analysis\n",
    "\n",
    "#fitting the PCA to my training dataset (I also tried on the whole dataset and achieved the same answers,\n",
    "#as I believe should be expected)\n",
    "pca = PCA().fit(X_train)\n",
    "\n",
    "#Plotting the explained variance for 8 PCs\n",
    "plt.plot(np.cumsum(pca.explained_variance_ratio_))\n",
    "plt.xlabel('number components')\n",
    "plt.ylabel('Cumulative variance explained for PCA of abalone dataset')"
   ]
  },
  {
   "cell_type": "markdown",
   "metadata": {},
   "source": [
    "##### As can be seen by the plot above, we get up to 95% variance explained using only 1 PC. By the time we get to 3 PC, over 97.5% of the variance can be explained. I decided to use 3 PC for my model input moving forward."
   ]
  },
  {
   "cell_type": "code",
   "execution_count": 57,
   "metadata": {},
   "outputs": [
    {
     "name": "stdout",
     "output_type": "stream",
     "text": [
      "[0.81136214 0.13489789 0.02124357]\n"
     ]
    }
   ],
   "source": [
    "pca_final = PCA(n_components = 3)\n",
    " \n",
    "X_train_pca = pca_final.fit_transform(X_train)\n",
    "X_test_pca = pca_final.transform(X_test)\n",
    " \n",
    "explained_variance = pca_final.explained_variance_ratio_\n",
    "print(explained_variance)"
   ]
  },
  {
   "cell_type": "markdown",
   "metadata": {},
   "source": [
    "#### Applying the model to my new X data that contains the PCs"
   ]
  },
  {
   "cell_type": "code",
   "execution_count": 58,
   "metadata": {},
   "outputs": [
    {
     "name": "stdout",
     "output_type": "stream",
     "text": [
      "MSE:  3.974599153786927\n",
      "RMSE:  1.9936396750132475\n"
     ]
    }
   ],
   "source": [
    "lin_reg_pca = LinearRegression()\n",
    "\n",
    "lin_reg_pca.fit(X_train_pca, y_train)\n",
    "y_pred_pca = lin_reg_pca.predict(X_test_pca)\n",
    "\n",
    "from sklearn import metrics\n",
    "MSE_pca = metrics.mean_squared_error(y_test, y_pred_pca)\n",
    "print('MSE: ', MSE_pca)\n",
    "print('RMSE: ', np.sqrt(MSE_pca))"
   ]
  },
  {
   "cell_type": "markdown",
   "metadata": {},
   "source": [
    "##### Applying PCA to my data actually resulted in a decrease in my model performance."
   ]
  },
  {
   "cell_type": "markdown",
   "metadata": {},
   "source": [
    "### Method 2\n",
    "##### Linear Method: Singular Value Decomposition (SVD)\n",
    "\n",
    "SVD is a linear dimensionality reduction technique. It relies heavily on linear algebra. Like PCA, SVD is performed with a goal of reducing the number of features while preserving the most important components of a dataset (in other words, preserving maximum variance). SVD is based on the concept that a single matrix can be made which holds the same basic data structure/information as several other matrices. By using a few key characteristics of the single matrix, we can approximate the original data using fewer dimensions.  Unlike PCA, SVD is a popular technique when there are many missing values (sparse data). For dense data, PCA may often be preferred for a dataset like mine where there are few missing values. "
   ]
  },
  {
   "cell_type": "code",
   "execution_count": 77,
   "metadata": {},
   "outputs": [
    {
     "name": "stdout",
     "output_type": "stream",
     "text": [
      "MSE:  4.598023477177701\n",
      "RMSE:  2.144300230186459\n"
     ]
    }
   ],
   "source": [
    "\n",
    "from sklearn.decomposition import TruncatedSVD\n",
    "\n",
    "#Fitting the SVD class\n",
    "svd =  TruncatedSVD(n_components = 2)\n",
    "X_train_svd = svd.fit_transform(X_train)\n",
    "X_test_svd = svd.fit_transform(X_test)\n",
    "\n",
    "#Instantiating the model\n",
    "lin_reg_svd = LinearRegression()\n",
    "\n",
    "#Fitting the model on the X_train data that has had SVD applied and my original train data\n",
    "lin_reg_svd.fit(X_train_svd, y_train)\n",
    "\n",
    "#Using the SVD data to predict y values\n",
    "y_pred_svd = lin_reg_svd.predict(X_test_svd)\n",
    "\n",
    "\n",
    "#Calculating performance metrics for my model\n",
    "MSE_svd = metrics.mean_squared_error(y_test, y_pred_svd)\n",
    "print('MSE: ', MSE_svd)\n",
    "print('RMSE: ', np.sqrt(MSE_svd))"
   ]
  },
  {
   "cell_type": "markdown",
   "metadata": {},
   "source": [
    "##### As anticipated, the PCA dimensionality reduction outperformed SVD."
   ]
  },
  {
   "cell_type": "markdown",
   "metadata": {},
   "source": [
    "### Method 3 & 4\n",
    "##### Multidimensional Scaling: Local Linear Embedding & Isomap Embedding\n",
    "\n",
    "While PCA is often a useful technique, it is limited by the requirement that a linear model is used and is therefore not useful for all datasets. PCA is especially sensitive to some qualities of a dataset such as a highly skewed distribution, extreme outliers, and even one-hot encoded data that has a large number of classes/variables encoded. This is where multidimensional scaling techniques can come in.\n",
    "\n",
    "A manifold is a smooth, lower dimensional object that can be exist/be projected onto a higher dimensional plane. For example, we could consider a piece of paper (2D) rolled into a spiral. The paper retains its 2D qualities (for example, length and width) even when it is existing as a 3D shape/embedded in a 3D field. If we can find a manifold that fits our data, we can use that as a way to decrease the number of dimensions (features) we need to describe the data. The relationship of the manifold to higher dimensional space is often, but not always (see MDS) non-linear. The 2 techniques I'm discussing here both rely on nearest neighbor techniques and the first step in each involves looking for and identifying nearest neighbors\n",
    "\n",
    "In local linear embedding, the data is divided up into \"neighborhoods\". Each local neighborhood essentially has a PCA applied to it. These PCAs are then compared to find the series of PCAs that best fits the data, thus preserving much of the original data structure. \n",
    "\n",
    "Isomap embedding is a multimensional scaling technique. It is a nearest neighbor technique and estimates each the features of a manifold based upon each data point's neighbors on that manifold. In isomap embeddingm the main goal of the algorithm is to preserve the geodesic(shortest line between 2 points on any curved surface) distances that exist in the original/untransformed dataset. Of note, this technique may be best used when combined with several runs of the algorithm-by nature, each time it is run, results vary to some degree. So, it is best to average several attempts to get an idea of the mean performance. I did not do this here due to time constraints before the exercise deadline, but a simple for loop should get the job done."
   ]
  },
  {
   "cell_type": "code",
   "execution_count": 80,
   "metadata": {},
   "outputs": [
    {
     "name": "stdout",
     "output_type": "stream",
     "text": [
      "MSE:  24.460173931879606\n",
      "RMSE:  4.94572279165337\n"
     ]
    }
   ],
   "source": [
    "from sklearn.manifold import LocallyLinearEmbedding\n",
    "embed = LocallyLinearEmbedding(n_components=2) \n",
    "X_train_IE = embed.fit_transform(X_train)\n",
    "X_test_IE = embed.fit_transform(X_test)\n",
    "\n",
    "lin_reg_IE = LinearRegression()\n",
    "\n",
    "lin_reg_IE.fit(X_train_IE, y_train)\n",
    "y_pred_IE = lin_reg_IE.predict(X_test_IE)\n",
    "\n",
    "from sklearn import metrics\n",
    "MSE_IE = metrics.mean_squared_error(y_test, y_pred_IE)\n",
    "print('MSE: ', MSE_IE)\n",
    "print('RMSE: ', np.sqrt(MSE_IE))"
   ]
  },
  {
   "cell_type": "code",
   "execution_count": 73,
   "metadata": {},
   "outputs": [
    {
     "name": "stdout",
     "output_type": "stream",
     "text": [
      "MSE:  5.54123970899882\n",
      "RMSE:  2.35398379539852\n"
     ]
    }
   ],
   "source": [
    "from sklearn.manifold import Isomap\n",
    "iso_model = Isomap(n_components=3)\n",
    "X_train_iso = iso_model.fit_transform(X_train)\n",
    "X_test_iso = iso_model.fit_transform(X_test)\n",
    "\n",
    "lin_reg_iso = LinearRegression()\n",
    "\n",
    "lin_reg_iso.fit(X_train_iso, y_train)\n",
    "y_pred_iso = lin_reg_iso.predict(X_test_iso)\n",
    "\n",
    "from sklearn import metrics\n",
    "MSE_iso = metrics.mean_squared_error(y_test, y_pred_iso)\n",
    "print('MSE: ', MSE_iso)\n",
    "print('RMSE: ', np.sqrt(MSE_iso))"
   ]
  },
  {
   "cell_type": "markdown",
   "metadata": {},
   "source": [
    "##### Both of these techniques yielded poor model performance and both were considerably worse than using the original untransformed data."
   ]
  },
  {
   "cell_type": "markdown",
   "metadata": {},
   "source": [
    "### Bonus technique: Multidimensional scaling (MDS)\n",
    "\n",
    "MDS relies on considering how similar or dissimilar datapoints are. It does this through evaluation of distance between data points."
   ]
  },
  {
   "cell_type": "code",
   "execution_count": 63,
   "metadata": {},
   "outputs": [
    {
     "ename": "KeyboardInterrupt",
     "evalue": "",
     "output_type": "error",
     "traceback": [
      "\u001b[0;31m---------------------------------------------------------------------------\u001b[0m",
      "\u001b[0;31mKeyboardInterrupt\u001b[0m                         Traceback (most recent call last)",
      "\u001b[0;32m<ipython-input-63-11b20e611ed1>\u001b[0m in \u001b[0;36m<module>\u001b[0;34m\u001b[0m\n\u001b[1;32m      2\u001b[0m \u001b[0;32mfrom\u001b[0m \u001b[0msklearn\u001b[0m\u001b[0;34m.\u001b[0m\u001b[0mmanifold\u001b[0m \u001b[0;32mimport\u001b[0m \u001b[0mMDS\u001b[0m\u001b[0;34m\u001b[0m\u001b[0;34m\u001b[0m\u001b[0m\n\u001b[1;32m      3\u001b[0m \u001b[0mmds\u001b[0m \u001b[0;34m=\u001b[0m \u001b[0mMDS\u001b[0m\u001b[0;34m(\u001b[0m\u001b[0mn_components\u001b[0m\u001b[0;34m=\u001b[0m\u001b[0;36m3\u001b[0m\u001b[0;34m,\u001b[0m \u001b[0mrandom_state\u001b[0m\u001b[0;34m=\u001b[0m\u001b[0;36m42\u001b[0m\u001b[0;34m)\u001b[0m\u001b[0;34m\u001b[0m\u001b[0;34m\u001b[0m\u001b[0m\n\u001b[0;32m----> 4\u001b[0;31m \u001b[0mX_train_mds\u001b[0m \u001b[0;34m=\u001b[0m \u001b[0mmds\u001b[0m\u001b[0;34m.\u001b[0m\u001b[0mfit_transform\u001b[0m\u001b[0;34m(\u001b[0m\u001b[0mX_train\u001b[0m\u001b[0;34m)\u001b[0m\u001b[0;34m\u001b[0m\u001b[0;34m\u001b[0m\u001b[0m\n\u001b[0m",
      "\u001b[0;32m~/opt/anaconda3/lib/python3.8/site-packages/sklearn/manifold/_mds.py\u001b[0m in \u001b[0;36mfit_transform\u001b[0;34m(self, X, y, init)\u001b[0m\n\u001b[1;32m    452\u001b[0m                              \" Got %s instead\" % str(self.dissimilarity))\n\u001b[1;32m    453\u001b[0m \u001b[0;34m\u001b[0m\u001b[0m\n\u001b[0;32m--> 454\u001b[0;31m         self.embedding_, self.stress_, self.n_iter_ = smacof(\n\u001b[0m\u001b[1;32m    455\u001b[0m             \u001b[0mself\u001b[0m\u001b[0;34m.\u001b[0m\u001b[0mdissimilarity_matrix_\u001b[0m\u001b[0;34m,\u001b[0m \u001b[0mmetric\u001b[0m\u001b[0;34m=\u001b[0m\u001b[0mself\u001b[0m\u001b[0;34m.\u001b[0m\u001b[0mmetric\u001b[0m\u001b[0;34m,\u001b[0m\u001b[0;34m\u001b[0m\u001b[0;34m\u001b[0m\u001b[0m\n\u001b[1;32m    456\u001b[0m             \u001b[0mn_components\u001b[0m\u001b[0;34m=\u001b[0m\u001b[0mself\u001b[0m\u001b[0;34m.\u001b[0m\u001b[0mn_components\u001b[0m\u001b[0;34m,\u001b[0m \u001b[0minit\u001b[0m\u001b[0;34m=\u001b[0m\u001b[0minit\u001b[0m\u001b[0;34m,\u001b[0m \u001b[0mn_init\u001b[0m\u001b[0;34m=\u001b[0m\u001b[0mself\u001b[0m\u001b[0;34m.\u001b[0m\u001b[0mn_init\u001b[0m\u001b[0;34m,\u001b[0m\u001b[0;34m\u001b[0m\u001b[0;34m\u001b[0m\u001b[0m\n",
      "\u001b[0;32m~/opt/anaconda3/lib/python3.8/site-packages/sklearn/utils/validation.py\u001b[0m in \u001b[0;36minner_f\u001b[0;34m(*args, **kwargs)\u001b[0m\n\u001b[1;32m     61\u001b[0m             \u001b[0mextra_args\u001b[0m \u001b[0;34m=\u001b[0m \u001b[0mlen\u001b[0m\u001b[0;34m(\u001b[0m\u001b[0margs\u001b[0m\u001b[0;34m)\u001b[0m \u001b[0;34m-\u001b[0m \u001b[0mlen\u001b[0m\u001b[0;34m(\u001b[0m\u001b[0mall_args\u001b[0m\u001b[0;34m)\u001b[0m\u001b[0;34m\u001b[0m\u001b[0;34m\u001b[0m\u001b[0m\n\u001b[1;32m     62\u001b[0m             \u001b[0;32mif\u001b[0m \u001b[0mextra_args\u001b[0m \u001b[0;34m<=\u001b[0m \u001b[0;36m0\u001b[0m\u001b[0;34m:\u001b[0m\u001b[0;34m\u001b[0m\u001b[0;34m\u001b[0m\u001b[0m\n\u001b[0;32m---> 63\u001b[0;31m                 \u001b[0;32mreturn\u001b[0m \u001b[0mf\u001b[0m\u001b[0;34m(\u001b[0m\u001b[0;34m*\u001b[0m\u001b[0margs\u001b[0m\u001b[0;34m,\u001b[0m \u001b[0;34m**\u001b[0m\u001b[0mkwargs\u001b[0m\u001b[0;34m)\u001b[0m\u001b[0;34m\u001b[0m\u001b[0;34m\u001b[0m\u001b[0m\n\u001b[0m\u001b[1;32m     64\u001b[0m \u001b[0;34m\u001b[0m\u001b[0m\n\u001b[1;32m     65\u001b[0m             \u001b[0;31m# extra_args > 0\u001b[0m\u001b[0;34m\u001b[0m\u001b[0;34m\u001b[0m\u001b[0;34m\u001b[0m\u001b[0m\n",
      "\u001b[0;32m~/opt/anaconda3/lib/python3.8/site-packages/sklearn/manifold/_mds.py\u001b[0m in \u001b[0;36msmacof\u001b[0;34m(dissimilarities, metric, n_components, init, n_init, n_jobs, max_iter, verbose, eps, random_state, return_n_iter)\u001b[0m\n\u001b[1;32m    248\u001b[0m     \u001b[0;32mif\u001b[0m \u001b[0meffective_n_jobs\u001b[0m\u001b[0;34m(\u001b[0m\u001b[0mn_jobs\u001b[0m\u001b[0;34m)\u001b[0m \u001b[0;34m==\u001b[0m \u001b[0;36m1\u001b[0m\u001b[0;34m:\u001b[0m\u001b[0;34m\u001b[0m\u001b[0;34m\u001b[0m\u001b[0m\n\u001b[1;32m    249\u001b[0m         \u001b[0;32mfor\u001b[0m \u001b[0mit\u001b[0m \u001b[0;32min\u001b[0m \u001b[0mrange\u001b[0m\u001b[0;34m(\u001b[0m\u001b[0mn_init\u001b[0m\u001b[0;34m)\u001b[0m\u001b[0;34m:\u001b[0m\u001b[0;34m\u001b[0m\u001b[0;34m\u001b[0m\u001b[0m\n\u001b[0;32m--> 250\u001b[0;31m             pos, stress, n_iter_ = _smacof_single(\n\u001b[0m\u001b[1;32m    251\u001b[0m                 \u001b[0mdissimilarities\u001b[0m\u001b[0;34m,\u001b[0m \u001b[0mmetric\u001b[0m\u001b[0;34m=\u001b[0m\u001b[0mmetric\u001b[0m\u001b[0;34m,\u001b[0m\u001b[0;34m\u001b[0m\u001b[0;34m\u001b[0m\u001b[0m\n\u001b[1;32m    252\u001b[0m                 \u001b[0mn_components\u001b[0m\u001b[0;34m=\u001b[0m\u001b[0mn_components\u001b[0m\u001b[0;34m,\u001b[0m \u001b[0minit\u001b[0m\u001b[0;34m=\u001b[0m\u001b[0minit\u001b[0m\u001b[0;34m,\u001b[0m\u001b[0;34m\u001b[0m\u001b[0;34m\u001b[0m\u001b[0m\n",
      "\u001b[0;32m~/opt/anaconda3/lib/python3.8/site-packages/sklearn/manifold/_mds.py\u001b[0m in \u001b[0;36m_smacof_single\u001b[0;34m(dissimilarities, metric, n_components, init, max_iter, verbose, eps, random_state)\u001b[0m\n\u001b[1;32m     92\u001b[0m     \u001b[0;32mfor\u001b[0m \u001b[0mit\u001b[0m \u001b[0;32min\u001b[0m \u001b[0mrange\u001b[0m\u001b[0;34m(\u001b[0m\u001b[0mmax_iter\u001b[0m\u001b[0;34m)\u001b[0m\u001b[0;34m:\u001b[0m\u001b[0;34m\u001b[0m\u001b[0;34m\u001b[0m\u001b[0m\n\u001b[1;32m     93\u001b[0m         \u001b[0;31m# Compute distance and monotonic regression\u001b[0m\u001b[0;34m\u001b[0m\u001b[0;34m\u001b[0m\u001b[0;34m\u001b[0m\u001b[0m\n\u001b[0;32m---> 94\u001b[0;31m         \u001b[0mdis\u001b[0m \u001b[0;34m=\u001b[0m \u001b[0meuclidean_distances\u001b[0m\u001b[0;34m(\u001b[0m\u001b[0mX\u001b[0m\u001b[0;34m)\u001b[0m\u001b[0;34m\u001b[0m\u001b[0;34m\u001b[0m\u001b[0m\n\u001b[0m\u001b[1;32m     95\u001b[0m \u001b[0;34m\u001b[0m\u001b[0m\n\u001b[1;32m     96\u001b[0m         \u001b[0;32mif\u001b[0m \u001b[0mmetric\u001b[0m\u001b[0;34m:\u001b[0m\u001b[0;34m\u001b[0m\u001b[0;34m\u001b[0m\u001b[0m\n",
      "\u001b[0;32m~/opt/anaconda3/lib/python3.8/site-packages/sklearn/utils/validation.py\u001b[0m in \u001b[0;36minner_f\u001b[0;34m(*args, **kwargs)\u001b[0m\n\u001b[1;32m     61\u001b[0m             \u001b[0mextra_args\u001b[0m \u001b[0;34m=\u001b[0m \u001b[0mlen\u001b[0m\u001b[0;34m(\u001b[0m\u001b[0margs\u001b[0m\u001b[0;34m)\u001b[0m \u001b[0;34m-\u001b[0m \u001b[0mlen\u001b[0m\u001b[0;34m(\u001b[0m\u001b[0mall_args\u001b[0m\u001b[0;34m)\u001b[0m\u001b[0;34m\u001b[0m\u001b[0;34m\u001b[0m\u001b[0m\n\u001b[1;32m     62\u001b[0m             \u001b[0;32mif\u001b[0m \u001b[0mextra_args\u001b[0m \u001b[0;34m<=\u001b[0m \u001b[0;36m0\u001b[0m\u001b[0;34m:\u001b[0m\u001b[0;34m\u001b[0m\u001b[0;34m\u001b[0m\u001b[0m\n\u001b[0;32m---> 63\u001b[0;31m                 \u001b[0;32mreturn\u001b[0m \u001b[0mf\u001b[0m\u001b[0;34m(\u001b[0m\u001b[0;34m*\u001b[0m\u001b[0margs\u001b[0m\u001b[0;34m,\u001b[0m \u001b[0;34m**\u001b[0m\u001b[0mkwargs\u001b[0m\u001b[0;34m)\u001b[0m\u001b[0;34m\u001b[0m\u001b[0;34m\u001b[0m\u001b[0m\n\u001b[0m\u001b[1;32m     64\u001b[0m \u001b[0;34m\u001b[0m\u001b[0m\n\u001b[1;32m     65\u001b[0m             \u001b[0;31m# extra_args > 0\u001b[0m\u001b[0;34m\u001b[0m\u001b[0;34m\u001b[0m\u001b[0;34m\u001b[0m\u001b[0m\n",
      "\u001b[0;32m~/opt/anaconda3/lib/python3.8/site-packages/sklearn/metrics/pairwise.py\u001b[0m in \u001b[0;36meuclidean_distances\u001b[0;34m(X, Y, Y_norm_squared, squared, X_norm_squared)\u001b[0m\n\u001b[1;32m    312\u001b[0m         \u001b[0;31m# if dtype is already float64, no need to chunk and upcast\u001b[0m\u001b[0;34m\u001b[0m\u001b[0;34m\u001b[0m\u001b[0;34m\u001b[0m\u001b[0m\n\u001b[1;32m    313\u001b[0m         \u001b[0mdistances\u001b[0m \u001b[0;34m=\u001b[0m \u001b[0;34m-\u001b[0m \u001b[0;36m2\u001b[0m \u001b[0;34m*\u001b[0m \u001b[0msafe_sparse_dot\u001b[0m\u001b[0;34m(\u001b[0m\u001b[0mX\u001b[0m\u001b[0;34m,\u001b[0m \u001b[0mY\u001b[0m\u001b[0;34m.\u001b[0m\u001b[0mT\u001b[0m\u001b[0;34m,\u001b[0m \u001b[0mdense_output\u001b[0m\u001b[0;34m=\u001b[0m\u001b[0;32mTrue\u001b[0m\u001b[0;34m)\u001b[0m\u001b[0;34m\u001b[0m\u001b[0;34m\u001b[0m\u001b[0m\n\u001b[0;32m--> 314\u001b[0;31m         \u001b[0mdistances\u001b[0m \u001b[0;34m+=\u001b[0m \u001b[0mXX\u001b[0m\u001b[0;34m\u001b[0m\u001b[0;34m\u001b[0m\u001b[0m\n\u001b[0m\u001b[1;32m    315\u001b[0m         \u001b[0mdistances\u001b[0m \u001b[0;34m+=\u001b[0m \u001b[0mYY\u001b[0m\u001b[0;34m\u001b[0m\u001b[0;34m\u001b[0m\u001b[0m\n\u001b[1;32m    316\u001b[0m     \u001b[0mnp\u001b[0m\u001b[0;34m.\u001b[0m\u001b[0mmaximum\u001b[0m\u001b[0;34m(\u001b[0m\u001b[0mdistances\u001b[0m\u001b[0;34m,\u001b[0m \u001b[0;36m0\u001b[0m\u001b[0;34m,\u001b[0m \u001b[0mout\u001b[0m\u001b[0;34m=\u001b[0m\u001b[0mdistances\u001b[0m\u001b[0;34m)\u001b[0m\u001b[0;34m\u001b[0m\u001b[0;34m\u001b[0m\u001b[0m\n",
      "\u001b[0;31mKeyboardInterrupt\u001b[0m: "
     ]
    }
   ],
   "source": [
    "#MDS\n",
    "from sklearn.manifold import MDS\n",
    "mds = MDS(n_components=3, random_state=42)\n",
    "X_train_mds = mds.fit_transform(X_train)"
   ]
  },
  {
   "cell_type": "markdown",
   "metadata": {},
   "source": [
    "MDS is considerably more computationally expensive than the other methods. In fact, it crashed my kernel and made my computer extremely unhappy so I did not try to compute it again."
   ]
  },
  {
   "cell_type": "markdown",
   "metadata": {},
   "source": [
    "### Summary"
   ]
  },
  {
   "cell_type": "markdown",
   "metadata": {},
   "source": [
    "| Data Transformation Technique | RMSE for Linear Model |\n",
    "|-------------------------------|-----------------------|\n",
    "| no transformation | 1.9065 |\n",
    "| PCA | 1.9936 |\n",
    "| SVD | 2.1443 |\n",
    "| LLE | 5.1447 |\n",
    "| Isomap | 2.3540 |\n",
    "| MDS | crashed |"
   ]
  },
  {
   "cell_type": "markdown",
   "metadata": {},
   "source": [
    "The best result involved no data transformation for this dataset. PCA transformation resulted in marginally lower performance but all other techniques results in significant losses in model performance using the transformed data. This suggests to me that the dataset I chose (abalone) can be described by simple, linear techniques. Some features may be combined or decreased (for instance, I know the weight features are all highly correlated) but in this case, the model performance is not increased by doing so. In higher dimension, more complex, or non-linearly related data, these approaches are likely to be more helpful."
   ]
  },
  {
   "cell_type": "markdown",
   "metadata": {},
   "source": [
    "## 2) Write a function that will indicate if an inputted IPv4 address is accurate or not. IP addresses are valid if they have 4 values between 0 and 255 (inclusive), punctuated by periods.\n",
    "\n",
    "Input 1: 2.33.245.5 Output 1: True \n",
    "\n",
    "Input 2: 12.345.67.89 Output 2: False"
   ]
  },
  {
   "cell_type": "code",
   "execution_count": 20,
   "metadata": {},
   "outputs": [
    {
     "data": {
      "text/plain": [
       "False"
      ]
     },
     "execution_count": 20,
     "metadata": {},
     "output_type": "execute_result"
    }
   ],
   "source": [
    "#Defining my function\n",
    "def address_check(IP_input):\n",
    "    #Checking to make sure there are 4 values. If not, we can immediately return False\n",
    "    if str(IP_input).count('.') != 3:\n",
    "        return False\n",
    "    else:\n",
    "        #Splitting the IPv4 address into a list of components\n",
    "        split_list = IP_input.split(\".\")\n",
    "        #print(split_list)\n",
    "        for i in split_list:\n",
    "            i_int = int(i)\n",
    "            #print(i_int)\n",
    "            #Setting conditions given in the original question; if conditions are not met, return False\n",
    "            if 0 > i_int or i_int > 256:\n",
    "                return False\n",
    "        #If the IPv4 address passes everything else, we can confidently return True and say it is valid\n",
    "        return True\n",
    "\n",
    "#Test Cases:\n",
    "\n",
    "#address_check('2.33.245')\n",
    "#address_check('2.33.265.2')\n",
    "#address_check('2.33.245.5')\n",
    "address_check('12.345.67.89')"
   ]
  },
  {
   "cell_type": "code",
   "execution_count": null,
   "metadata": {},
   "outputs": [],
   "source": []
  }
 ],
 "metadata": {
  "kernelspec": {
   "display_name": "Python 3",
   "language": "python",
   "name": "python3"
  },
  "language_info": {
   "codemirror_mode": {
    "name": "ipython",
    "version": 3
   },
   "file_extension": ".py",
   "mimetype": "text/x-python",
   "name": "python",
   "nbconvert_exporter": "python",
   "pygments_lexer": "ipython3",
   "version": "3.8.5"
  }
 },
 "nbformat": 4,
 "nbformat_minor": 4
}
